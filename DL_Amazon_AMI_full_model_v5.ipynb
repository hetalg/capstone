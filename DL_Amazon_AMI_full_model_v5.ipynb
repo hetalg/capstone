{
 "cells": [
  {
   "cell_type": "markdown",
   "metadata": {},
   "source": [
    "# Approach\n",
    "\n",
    "We will apply TF-IDF based random forest, Multi Layer Perceptron (MLP) and Long Short Term Memory (LSTM) with various hyperparameters to determine the best performing model.\n",
    "The tf-idf is a simple model that keeps the frequency of words occurrence. In our experiment, we restrict our feature space to 10000 words that occur the most frequently. Random forest, a ensemble tree classifier, utilizes these features and make subsequent predictions. \n",
    "\n",
    "On the other hand, MLP and LSTM are neural network models that are able to capture information from sequences of words.In a MLP, each input will be fed forward sequentially, through a number of hidden states, and\n",
    "compute a probability output vector. \n"
   ]
  },
  {
   "cell_type": "markdown",
   "metadata": {},
   "source": [
    "# Implementation  \n"
   ]
  },
  {
   "cell_type": "markdown",
   "metadata": {},
   "source": [
    "# Data and setup\n",
    "\n",
    "This project uses Amazon review data collected by Stanford SNAP, publicly available at:\n",
    "https://snap.stanford.edu/data/web-Amazon.html\n",
    "The data comes from reviews for 24 product categories, where users provide comments or feedback and specifically, the reviews data of cellphones. \n",
    "Each review comes with a helpful rating [x, y], directly relatable to the annotation “x out of y people found this review helpful” on Amazon website. Note that there might be many more who read  the review but did not vote. In many cases, reviews have never been voted and have helpful rating [0,0].\n",
    "Previous projects have focused on using helpfulness ratio, i.e. x=y, in making predictions and analyses.\n",
    "\n",
    "There are several problems in this approach:\n",
    "1. Many reviews ( >70%) are never rated and cannot be accounted for without correction. A\n",
    "lot work simply disregards this bulk of the population in their analyses.\n",
    "2. Viewing each [x, y] pair as binomial (y, pi), variance of the helpfulness ratio is relatively\n",
    "high with small y.\n",
    "3. Preferential attachment is likely to be at force here for the helpfulness rating. Preferential attachment is a result of the richer-gets-richer effects, where reviews that happen to have already possessed some upvotes are much likelier to gain more upvotes faster than the otherwise.\n",
    "Since our focus is to discover any hints in review text that relates to helpfulness, we want to restrict measuring the effect of preferential attachment. \n",
    "\n",
    "As a result, we decide to cast the problem as a binary classification problem rather than a regression problem. To set up binary labels for the dataset, we first perform correction on the data by adding one upvote and one downvote to each observation (i.e. 1 to x and 2 to y). Hence, all cases of [0,0] will now have a helpfulness ratio of 0.5. We then label reviews with ratio >0.5 as “helpful” and “unhelpful” otherwise.\n",
    "We then perform NLP and deep learning on the review text and evaluate the model using cross entropy loss. The score metrics that was used is  Accuracy:\n",
    "Accuracy = (truePositives + trueNegatives)=totalEntries\n",
    "We expect the model to explain a proportion of variances in the ”helpful” and ”unhelpful” text. \n",
    "\n",
    "The neural network models are expected to perform better than the bag-of-words baseline since LSTM captures both keywords and sentence structure, where readability is assumed to play a role in indicating helpfulness. But because of various biases, including the effect of preferential attachment, we expect none of the models to have a very high accuracy (>90%).\n"
   ]
  },
  {
   "cell_type": "markdown",
   "metadata": {},
   "source": [
    "# Technology stack and why it was chosen\n",
    "\n",
    "Deep Learning AMI instance running on Ubuntu Linux. \n",
    "This is a pre-configured GPU cluster having Theano and Tensorflow libraries pre-installed so that the focus of the project would be trying out conventional Machine Learning models like Random Forest and Deep Learning models like RNN, Long Short Term Memory to select the optimal approach rather than spend significant time on setting up the machine with appropriate configuration.\n",
    "\n",
    "Jupyter notebook was configured on this instance and the data was uploaded to this instance using a SCP tool \n",
    "\n",
    "Once the data was uploaded it was pickled to save time and resources if re-import and re-run was required.\n"
   ]
  },
  {
   "cell_type": "markdown",
   "metadata": {},
   "source": [
    "# Goal \n",
    "\n",
    "Predict Helpfulness of Amazon Customer Reviews based on the Review data and make informed recommendations to the users\n"
   ]
  },
  {
   "cell_type": "markdown",
   "metadata": {},
   "source": [
    "# Modeling Choices \n",
    "\n",
    "Text Analytics requires word to vector kind of transformations and is an evolving research area. There are many choices available to get started but since the end goal was provided better recommendations hence the algorithms which have proven to be better choice for text analytics were picked – \n",
    "\n",
    "Long Short Term Memory Model - Long short-term memory (LSTM) is a deep learning system that avoids the vanishing gradient problem. LSTM is normally augmented by recurrent gates called \"forget\" gates.  LSTM prevents backpropagated errors from vanishing or exploding. Instead errors can flow backwards through unlimited numbers of virtual layers unfolded in space. That is, LSTM can learn tasks that require memories of events that happened thousands or even millions of discrete time steps earlier. \n"
   ]
  },
  {
   "cell_type": "markdown",
   "metadata": {},
   "source": [
    "# How does LSTM work\n",
    "\n",
    "In a traditional recurrent neural network, during the gradient back-propagation phase, the gradient signal can end up being multiplied a large number of times (as many as the number of timesteps) by the weight matrix associated with the connections between the neurons of the recurrent hidden layer. This means that, the magnitude of weights in the transition matrix can have a strong impact on the learning process.\n",
    "If the weights in this matrix are small (or, more formally, if the leading eigenvalue of the weight matrix is smaller than 1.0), it can lead to a situation called vanishing gradients where the gradient signal gets so small that learning either becomes very slow or stops working altogether. It can also make more difficult the task of learning long-term dependencies in the data. Conversely, if the weights in this matrix are large (or, again, more formally, if the leading eigenvalue of the weight matrix is larger than 1.0), it can lead to a situation where the gradient signal is so large that it can cause learning to diverge. This is often referred to as exploding gradients.\n",
    "These issues are the main motivation behind the LSTM model which introduces a new structure called a memory cell (see Figure above). A memory cell is composed of four main elements: an input gate, a neuron with a self-recurrent connection (a connection to itself), a forget gate and an output gate. The self-recurrent connection has a weight of 1.0 and ensures that, barring any outside interference, the state of a memory cell can remain constant from one timestep to another. The gates serve to modulate the interactions between the memory cell itself and its environment. The input gate can allow incoming signal to alter the state of the memory cell or block it. On the other hand, the output gate can allow the state of the memory cell to have an effect on other neurons or prevent it. Finally, the forget gate can modulate the memory cell’s self-recurrent connection, allowing the cell to remember or forget its previous state, as needed.\n"
   ]
  },
  {
   "cell_type": "markdown",
   "metadata": {},
   "source": [
    "# Models \n",
    "\n",
    "Tf-IDf based word vector in Random Forest \n",
    "\n",
    "Accuracy  on Test Data = 75%\n",
    "\n",
    "MLP – Accuracy on Test Data = 76 %\n",
    "\n",
    "LSTM – Accuracy on Test Data = 77 %\n",
    "\n"
   ]
  },
  {
   "cell_type": "markdown",
   "metadata": {},
   "source": [
    "# Recommendation Engine Logic \n",
    "\n",
    "For Recommendation we will use the logic of Matrix Factorization via Singular Value Decomposition\n",
    "Matrix factorization is the breaking down of one matrix into a product of multiple matrices. It’s extremely well studied in mathematics, and it’s highly useful. There are many different ways to factor matrices, but singular value decomposition is particularly useful for making recommendations.\n",
    "So what is singular value decomposition (SVD)?\n",
    "At a high level, SVD is an algorithm that decomposes a matrix RR into the best lower rank (i.e. smaller/simpler) approximation of the original matrix RR\n",
    "Mathematically, it decomposes RR into two unitary matrices and a diagonal matrix:\n",
    "R=UΣVT\n",
    "Where\n",
    "\n",
    "R is user ratings matrix,\n",
    "U is the user “features” matrix,\n",
    "Σ is the diagonal matrix of singular values (essentially weights), and\n",
    "VT is the item “features” matrix.\n",
    "U and VTare orthogonal, and represent different things.\n",
    "U represents how much users “like” each feature and VT represents how relevant each feature is to each item.\n",
    "To get the lower rank approximation, we take these matrices and keep only the top kk features, which we think of as the k most important underlying taste and preference vectors.\n"
   ]
  },
  {
   "cell_type": "markdown",
   "metadata": {},
   "source": [
    "# Validation of recommendations \n",
    "\n",
    "Like any other recommendation engine it is hard to test the recommendations from a customer’s perspective unless it is being done in real time and the conversions are closely tracked.\n",
    "That would perhaps be the best way to also tweak the weights that have been applied to the predicted_helpful, review_helpful  and overall variables.\n",
    "\n",
    "Performing this exercise was beyond the scope of this project and can be done separately as another project altogether."
   ]
  },
  {
   "cell_type": "code",
   "execution_count": 1,
   "metadata": {
    "collapsed": true
   },
   "outputs": [],
   "source": [
    "import numpy as np\n",
    "import re\n",
    "import pandas as pd\n",
    "import matplotlib.pyplot as plt\n",
    "%matplotlib inline"
   ]
  },
  {
   "cell_type": "code",
   "execution_count": 2,
   "metadata": {
    "collapsed": true
   },
   "outputs": [],
   "source": [
    "##read csv file\n",
    "df_reviews = pd.read_csv('cellphone2.csv')"
   ]
  },
  {
   "cell_type": "code",
   "execution_count": 3,
   "metadata": {},
   "outputs": [
    {
     "name": "stdout",
     "output_type": "stream",
     "text": [
      "<class 'pandas.core.frame.DataFrame'>\n",
      "RangeIndex: 100000 entries, 0 to 99999\n",
      "Data columns (total 9 columns):\n",
      "reviewerID        100000 non-null object\n",
      "asin              100000 non-null object\n",
      "reviewerName      99764 non-null object\n",
      "helpful           100000 non-null object\n",
      "reviewText        99968 non-null object\n",
      "overall           100000 non-null float64\n",
      "summary           99998 non-null object\n",
      "unixReviewTime    100000 non-null int64\n",
      "reviewTime        100000 non-null object\n",
      "dtypes: float64(1), int64(1), object(7)\n",
      "memory usage: 6.9+ MB\n"
     ]
    }
   ],
   "source": [
    "df_reviews.info()"
   ]
  },
  {
   "cell_type": "code",
   "execution_count": 4,
   "metadata": {},
   "outputs": [
    {
     "data": {
      "text/html": [
       "<div>\n",
       "<style>\n",
       "    .dataframe thead tr:only-child th {\n",
       "        text-align: right;\n",
       "    }\n",
       "\n",
       "    .dataframe thead th {\n",
       "        text-align: left;\n",
       "    }\n",
       "\n",
       "    .dataframe tbody tr th {\n",
       "        vertical-align: top;\n",
       "    }\n",
       "</style>\n",
       "<table border=\"1\" class=\"dataframe\">\n",
       "  <thead>\n",
       "    <tr style=\"text-align: right;\">\n",
       "      <th></th>\n",
       "      <th>reviewerID</th>\n",
       "      <th>asin</th>\n",
       "      <th>reviewerName</th>\n",
       "      <th>helpful</th>\n",
       "      <th>reviewText</th>\n",
       "      <th>overall</th>\n",
       "      <th>summary</th>\n",
       "      <th>unixReviewTime</th>\n",
       "      <th>reviewTime</th>\n",
       "    </tr>\n",
       "  </thead>\n",
       "  <tbody>\n",
       "    <tr>\n",
       "      <th>0</th>\n",
       "      <td>AEXQJY9OAI7FT</td>\n",
       "      <td>B001KQFGTI</td>\n",
       "      <td>frances fernandez</td>\n",
       "      <td>[0, 0]</td>\n",
       "      <td>This case lives up to its' description.  Once ...</td>\n",
       "      <td>3.0</td>\n",
       "      <td>Durable and clean design!</td>\n",
       "      <td>1346284800</td>\n",
       "      <td>08 30, 2012</td>\n",
       "    </tr>\n",
       "    <tr>\n",
       "      <th>1</th>\n",
       "      <td>A1LZTUWT0ES437</td>\n",
       "      <td>B001KQFGTI</td>\n",
       "      <td>Francis Paul R. Calo \"Code9Pickle\"</td>\n",
       "      <td>[2, 2]</td>\n",
       "      <td>[...]Anyway before I got this I was using a pe...</td>\n",
       "      <td>3.0</td>\n",
       "      <td>It was ok!</td>\n",
       "      <td>1259625600</td>\n",
       "      <td>12 1, 2009</td>\n",
       "    </tr>\n",
       "    <tr>\n",
       "      <th>2</th>\n",
       "      <td>A3CZM7OLRS7IDZ</td>\n",
       "      <td>B001KQFGTI</td>\n",
       "      <td>Frank Jackson \"capt frank\"</td>\n",
       "      <td>[0, 0]</td>\n",
       "      <td>It's everything it was advertised to be!Have d...</td>\n",
       "      <td>5.0</td>\n",
       "      <td>My defender</td>\n",
       "      <td>1361059200</td>\n",
       "      <td>02 17, 2013</td>\n",
       "    </tr>\n",
       "    <tr>\n",
       "      <th>3</th>\n",
       "      <td>A3T1AT9QFTYEWA</td>\n",
       "      <td>B001KQFGTI</td>\n",
       "      <td>Frank L. Gallagher \"frankieg\"</td>\n",
       "      <td>[0, 0]</td>\n",
       "      <td>as mentioned before the belt clip is VERY iffy...</td>\n",
       "      <td>4.0</td>\n",
       "      <td>darn good case</td>\n",
       "      <td>1253664000</td>\n",
       "      <td>09 23, 2009</td>\n",
       "    </tr>\n",
       "  </tbody>\n",
       "</table>\n",
       "</div>"
      ],
      "text/plain": [
       "       reviewerID        asin                        reviewerName helpful  \\\n",
       "0   AEXQJY9OAI7FT  B001KQFGTI                   frances fernandez  [0, 0]   \n",
       "1  A1LZTUWT0ES437  B001KQFGTI  Francis Paul R. Calo \"Code9Pickle\"  [2, 2]   \n",
       "2  A3CZM7OLRS7IDZ  B001KQFGTI          Frank Jackson \"capt frank\"  [0, 0]   \n",
       "3  A3T1AT9QFTYEWA  B001KQFGTI       Frank L. Gallagher \"frankieg\"  [0, 0]   \n",
       "\n",
       "                                          reviewText  overall  \\\n",
       "0  This case lives up to its' description.  Once ...      3.0   \n",
       "1  [...]Anyway before I got this I was using a pe...      3.0   \n",
       "2  It's everything it was advertised to be!Have d...      5.0   \n",
       "3  as mentioned before the belt clip is VERY iffy...      4.0   \n",
       "\n",
       "                     summary  unixReviewTime   reviewTime  \n",
       "0  Durable and clean design!      1346284800  08 30, 2012  \n",
       "1                 It was ok!      1259625600   12 1, 2009  \n",
       "2                My defender      1361059200  02 17, 2013  \n",
       "3             darn good case      1253664000  09 23, 2009  "
      ]
     },
     "execution_count": 4,
     "metadata": {},
     "output_type": "execute_result"
    }
   ],
   "source": [
    "df_reviews.head(4)"
   ]
  },
  {
   "cell_type": "code",
   "execution_count": 5,
   "metadata": {},
   "outputs": [
    {
     "data": {
      "text/html": [
       "<div>\n",
       "<style>\n",
       "    .dataframe thead tr:only-child th {\n",
       "        text-align: right;\n",
       "    }\n",
       "\n",
       "    .dataframe thead th {\n",
       "        text-align: left;\n",
       "    }\n",
       "\n",
       "    .dataframe tbody tr th {\n",
       "        vertical-align: top;\n",
       "    }\n",
       "</style>\n",
       "<table border=\"1\" class=\"dataframe\">\n",
       "  <thead>\n",
       "    <tr style=\"text-align: right;\">\n",
       "      <th></th>\n",
       "      <th>reviewerID</th>\n",
       "      <th>asin</th>\n",
       "      <th>reviewerName</th>\n",
       "      <th>helpful</th>\n",
       "      <th>reviewText</th>\n",
       "      <th>overall</th>\n",
       "      <th>summary</th>\n",
       "      <th>unixReviewTime</th>\n",
       "      <th>reviewTime</th>\n",
       "    </tr>\n",
       "  </thead>\n",
       "  <tbody>\n",
       "    <tr>\n",
       "      <th>6189</th>\n",
       "      <td>AA7Y8KYXR78AQ</td>\n",
       "      <td>B001MRZY3S</td>\n",
       "      <td>Tucker Cox</td>\n",
       "      <td>[10, 12]</td>\n",
       "      <td>NaN</td>\n",
       "      <td>2.0</td>\n",
       "      <td>Too many problems!</td>\n",
       "      <td>1288915200</td>\n",
       "      <td>11 5, 2010</td>\n",
       "    </tr>\n",
       "    <tr>\n",
       "      <th>9670</th>\n",
       "      <td>A2F0Z8RKLLNTB5</td>\n",
       "      <td>B001OD2OAQ</td>\n",
       "      <td>Elkue</td>\n",
       "      <td>[0, 0]</td>\n",
       "      <td>NaN</td>\n",
       "      <td>4.0</td>\n",
       "      <td>Amazing phone, trackball stopped working.</td>\n",
       "      <td>1264118400</td>\n",
       "      <td>01 22, 2010</td>\n",
       "    </tr>\n",
       "    <tr>\n",
       "      <th>13835</th>\n",
       "      <td>A1EDPYP591LG1</td>\n",
       "      <td>B001PR21A4</td>\n",
       "      <td>Leonard Martin \"Cioplex\"</td>\n",
       "      <td>[2, 2]</td>\n",
       "      <td>NaN</td>\n",
       "      <td>4.0</td>\n",
       "      <td>Great business phone, needs more internet muscle</td>\n",
       "      <td>1259798400</td>\n",
       "      <td>12 3, 2009</td>\n",
       "    </tr>\n",
       "    <tr>\n",
       "      <th>15022</th>\n",
       "      <td>A1QECYQ0B0PZWN</td>\n",
       "      <td>B001QHY2V4</td>\n",
       "      <td>David F. Kyte</td>\n",
       "      <td>[12, 14]</td>\n",
       "      <td>NaN</td>\n",
       "      <td>5.0</td>\n",
       "      <td>Great for Drawing and Painting Apps</td>\n",
       "      <td>1261785600</td>\n",
       "      <td>12 26, 2009</td>\n",
       "    </tr>\n",
       "    <tr>\n",
       "      <th>22178</th>\n",
       "      <td>A1E3T4V1N3E9H8</td>\n",
       "      <td>B001TJ9MAU</td>\n",
       "      <td>Michael Denney \"The 'PC Doctor'\"</td>\n",
       "      <td>[0, 1]</td>\n",
       "      <td>NaN</td>\n",
       "      <td>1.0</td>\n",
       "      <td>See How One Good Review Can Spoil the Truth?</td>\n",
       "      <td>1300060800</td>\n",
       "      <td>03 14, 2011</td>\n",
       "    </tr>\n",
       "    <tr>\n",
       "      <th>34257</th>\n",
       "      <td>ASQ7ECXSKRP94</td>\n",
       "      <td>B001YSI04A</td>\n",
       "      <td>Michael Soh \"scuba_mike\"</td>\n",
       "      <td>[18, 21]</td>\n",
       "      <td>NaN</td>\n",
       "      <td>3.0</td>\n",
       "      <td>Decent headphones; iPhone compatible</td>\n",
       "      <td>1256947200</td>\n",
       "      <td>10 31, 2009</td>\n",
       "    </tr>\n",
       "    <tr>\n",
       "      <th>34276</th>\n",
       "      <td>A1K5V0WVIZ3WU4</td>\n",
       "      <td>B001YSI04A</td>\n",
       "      <td>Resident2007</td>\n",
       "      <td>[0, 0]</td>\n",
       "      <td>NaN</td>\n",
       "      <td>5.0</td>\n",
       "      <td>Great at first, but quit working, I bought ano...</td>\n",
       "      <td>1277683200</td>\n",
       "      <td>06 28, 2010</td>\n",
       "    </tr>\n",
       "    <tr>\n",
       "      <th>38239</th>\n",
       "      <td>A18MB9BZRBY2R0</td>\n",
       "      <td>B0024NL6V8</td>\n",
       "      <td>R. Kraemer</td>\n",
       "      <td>[3, 5]</td>\n",
       "      <td>NaN</td>\n",
       "      <td>1.0</td>\n",
       "      <td>Worst phone I have ever owned</td>\n",
       "      <td>1274400000</td>\n",
       "      <td>05 21, 2010</td>\n",
       "    </tr>\n",
       "    <tr>\n",
       "      <th>40440</th>\n",
       "      <td>A1XCTYGSM3QK2B</td>\n",
       "      <td>B00264WXI0</td>\n",
       "      <td>Seth Goldstein \"SethGoldstein.me\"</td>\n",
       "      <td>[1, 7]</td>\n",
       "      <td>NaN</td>\n",
       "      <td>1.0</td>\n",
       "      <td>Total garbage. What a disappointment</td>\n",
       "      <td>1249430400</td>\n",
       "      <td>08 5, 2009</td>\n",
       "    </tr>\n",
       "    <tr>\n",
       "      <th>41674</th>\n",
       "      <td>A2ZJEMNIYU6WI7</td>\n",
       "      <td>B0026NO5DW</td>\n",
       "      <td>Sean Hackbarth</td>\n",
       "      <td>[1, 5]</td>\n",
       "      <td>NaN</td>\n",
       "      <td>4.0</td>\n",
       "      <td>Protecting My Precious</td>\n",
       "      <td>1246060800</td>\n",
       "      <td>06 27, 2009</td>\n",
       "    </tr>\n",
       "    <tr>\n",
       "      <th>48083</th>\n",
       "      <td>A1TE4U5PQ44ZMA</td>\n",
       "      <td>B00292BRHW</td>\n",
       "      <td>Leonardo Ocanto</td>\n",
       "      <td>[0, 0]</td>\n",
       "      <td>NaN</td>\n",
       "      <td>1.0</td>\n",
       "      <td>Don't waste your money</td>\n",
       "      <td>1293148800</td>\n",
       "      <td>12 24, 2010</td>\n",
       "    </tr>\n",
       "    <tr>\n",
       "      <th>57130</th>\n",
       "      <td>A3F89GUQW9QXPH</td>\n",
       "      <td>B002BH3I9U</td>\n",
       "      <td>R. Stack \"Ronny JDT\"</td>\n",
       "      <td>[328, 353]</td>\n",
       "      <td>NaN</td>\n",
       "      <td>4.0</td>\n",
       "      <td>Great Set of Headphones for a Great Price!</td>\n",
       "      <td>1307145600</td>\n",
       "      <td>06 4, 2011</td>\n",
       "    </tr>\n",
       "    <tr>\n",
       "      <th>59929</th>\n",
       "      <td>A3B0YGJRWLBJU0</td>\n",
       "      <td>B002C4TC92</td>\n",
       "      <td>N. Dorries \"BlackCat\"</td>\n",
       "      <td>[9, 11]</td>\n",
       "      <td>NaN</td>\n",
       "      <td>1.0</td>\n",
       "      <td>Really cheap case.</td>\n",
       "      <td>1245974400</td>\n",
       "      <td>06 26, 2009</td>\n",
       "    </tr>\n",
       "    <tr>\n",
       "      <th>61343</th>\n",
       "      <td>A2MVFFSH9WD3QO</td>\n",
       "      <td>B002CMEIWK</td>\n",
       "      <td>stringbender</td>\n",
       "      <td>[1, 1]</td>\n",
       "      <td>NaN</td>\n",
       "      <td>1.0</td>\n",
       "      <td>I'm not happy with this purchase.</td>\n",
       "      <td>1322870400</td>\n",
       "      <td>12 3, 2011</td>\n",
       "    </tr>\n",
       "    <tr>\n",
       "      <th>62448</th>\n",
       "      <td>A384DPJYGGDREO</td>\n",
       "      <td>B002CVTQ28</td>\n",
       "      <td>Brandon</td>\n",
       "      <td>[0, 0]</td>\n",
       "      <td>NaN</td>\n",
       "      <td>5.0</td>\n",
       "      <td>Must have for watching video on a flight</td>\n",
       "      <td>1267920000</td>\n",
       "      <td>03 7, 2010</td>\n",
       "    </tr>\n",
       "    <tr>\n",
       "      <th>64400</th>\n",
       "      <td>A5J1EE944EJYL</td>\n",
       "      <td>B002DS2FLE</td>\n",
       "      <td>Pikalax</td>\n",
       "      <td>[1, 1]</td>\n",
       "      <td>NaN</td>\n",
       "      <td>1.0</td>\n",
       "      <td>EM 330 does not recognize charger</td>\n",
       "      <td>1322092800</td>\n",
       "      <td>11 24, 2011</td>\n",
       "    </tr>\n",
       "    <tr>\n",
       "      <th>64402</th>\n",
       "      <td>AI8B4KS20RS6J</td>\n",
       "      <td>B002DS34W8</td>\n",
       "      <td>frederick r welsh \"user225937\"</td>\n",
       "      <td>[0, 0]</td>\n",
       "      <td>NaN</td>\n",
       "      <td>4.0</td>\n",
       "      <td>Blackberry Storm Silicone Case Review</td>\n",
       "      <td>1297036800</td>\n",
       "      <td>02 7, 2011</td>\n",
       "    </tr>\n",
       "    <tr>\n",
       "      <th>66627</th>\n",
       "      <td>AV34MLZ8IMQC4</td>\n",
       "      <td>B002EOZ1J0</td>\n",
       "      <td>NoHoAntiSocialClub \"alollik ot netsil\"</td>\n",
       "      <td>[3, 5]</td>\n",
       "      <td>NaN</td>\n",
       "      <td>1.0</td>\n",
       "      <td>Broke after 2 weeks.... :-/</td>\n",
       "      <td>1266624000</td>\n",
       "      <td>02 20, 2010</td>\n",
       "    </tr>\n",
       "    <tr>\n",
       "      <th>70865</th>\n",
       "      <td>A2S4FID11M6JFX</td>\n",
       "      <td>B002FU5RHY</td>\n",
       "      <td>William H. Munn \"Man of the Year\"</td>\n",
       "      <td>[2, 2]</td>\n",
       "      <td>NaN</td>\n",
       "      <td>1.0</td>\n",
       "      <td>Same issue as others</td>\n",
       "      <td>1265673600</td>\n",
       "      <td>02 9, 2010</td>\n",
       "    </tr>\n",
       "    <tr>\n",
       "      <th>70875</th>\n",
       "      <td>A29WXRIQ3735EJ</td>\n",
       "      <td>B002FU5RII</td>\n",
       "      <td>E. Alonso \"ErlyD\"</td>\n",
       "      <td>[6, 6]</td>\n",
       "      <td>NaN</td>\n",
       "      <td>2.0</td>\n",
       "      <td>Nice, Great looking but not functional.</td>\n",
       "      <td>1273795200</td>\n",
       "      <td>05 14, 2010</td>\n",
       "    </tr>\n",
       "    <tr>\n",
       "      <th>73589</th>\n",
       "      <td>A2R0F0ZZYGQ2QW</td>\n",
       "      <td>B002GZ2R4Y</td>\n",
       "      <td>edge3851 \"edge3581\"</td>\n",
       "      <td>[29, 32]</td>\n",
       "      <td>NaN</td>\n",
       "      <td>5.0</td>\n",
       "      <td>Easy to put on my kindle, durable, snug fit --...</td>\n",
       "      <td>1250985600</td>\n",
       "      <td>08 23, 2009</td>\n",
       "    </tr>\n",
       "    <tr>\n",
       "      <th>74708</th>\n",
       "      <td>A3DS1POJGRDSG5</td>\n",
       "      <td>B002HJ9Q66</td>\n",
       "      <td>Harvey</td>\n",
       "      <td>[17, 17]</td>\n",
       "      <td>NaN</td>\n",
       "      <td>5.0</td>\n",
       "      <td>Solid as a Rock</td>\n",
       "      <td>1256601600</td>\n",
       "      <td>10 27, 2009</td>\n",
       "    </tr>\n",
       "    <tr>\n",
       "      <th>77817</th>\n",
       "      <td>A2D0IBDF2WHYZS</td>\n",
       "      <td>B002IVFQQM</td>\n",
       "      <td>Max</td>\n",
       "      <td>[4, 4]</td>\n",
       "      <td>NaN</td>\n",
       "      <td>5.0</td>\n",
       "      <td>Cooking with iClooly</td>\n",
       "      <td>1264723200</td>\n",
       "      <td>01 29, 2010</td>\n",
       "    </tr>\n",
       "    <tr>\n",
       "      <th>78270</th>\n",
       "      <td>A1W0S16FVDJ53T</td>\n",
       "      <td>B002IWMJ8Y</td>\n",
       "      <td>XLander \"&amp;#60;&amp;#60;&amp;#60;that guy\"</td>\n",
       "      <td>[2, 3]</td>\n",
       "      <td>NaN</td>\n",
       "      <td>5.0</td>\n",
       "      <td>Item is not for the Tmobile MyTouch</td>\n",
       "      <td>1258070400</td>\n",
       "      <td>11 13, 2009</td>\n",
       "    </tr>\n",
       "    <tr>\n",
       "      <th>79552</th>\n",
       "      <td>A2D90XLS3UB6H9</td>\n",
       "      <td>B002JCSAWW</td>\n",
       "      <td>Troy Scheh</td>\n",
       "      <td>[135, 160]</td>\n",
       "      <td>NaN</td>\n",
       "      <td>5.0</td>\n",
       "      <td>Great Product</td>\n",
       "      <td>1276041600</td>\n",
       "      <td>06 9, 2010</td>\n",
       "    </tr>\n",
       "    <tr>\n",
       "      <th>80262</th>\n",
       "      <td>A1JRCZCQBTJ0AZ</td>\n",
       "      <td>B002JMALH4</td>\n",
       "      <td>John From Denver</td>\n",
       "      <td>[2, 2]</td>\n",
       "      <td>NaN</td>\n",
       "      <td>4.0</td>\n",
       "      <td>Great headset blue ant V1</td>\n",
       "      <td>1287014400</td>\n",
       "      <td>10 14, 2010</td>\n",
       "    </tr>\n",
       "    <tr>\n",
       "      <th>81549</th>\n",
       "      <td>A23L0E0KC82SC2</td>\n",
       "      <td>B002K9IPOC</td>\n",
       "      <td>Surya Chataut \"Surya Chataut\"</td>\n",
       "      <td>[1, 2]</td>\n",
       "      <td>NaN</td>\n",
       "      <td>1.0</td>\n",
       "      <td>Video is worth a billion words</td>\n",
       "      <td>1371600000</td>\n",
       "      <td>06 19, 2013</td>\n",
       "    </tr>\n",
       "    <tr>\n",
       "      <th>84214</th>\n",
       "      <td>AWEO55KE2ACA4</td>\n",
       "      <td>B002LBFZK6</td>\n",
       "      <td>Spikesolo</td>\n",
       "      <td>[33, 38]</td>\n",
       "      <td>NaN</td>\n",
       "      <td>1.0</td>\n",
       "      <td>CRAPPY PHONE</td>\n",
       "      <td>1314489600</td>\n",
       "      <td>08 28, 2011</td>\n",
       "    </tr>\n",
       "    <tr>\n",
       "      <th>95591</th>\n",
       "      <td>AEXZRQTAJ1HTM</td>\n",
       "      <td>B002OLM56K</td>\n",
       "      <td>Daniel J</td>\n",
       "      <td>[4, 5]</td>\n",
       "      <td>NaN</td>\n",
       "      <td>3.0</td>\n",
       "      <td>Solid stand, but better quality expected</td>\n",
       "      <td>1376870400</td>\n",
       "      <td>08 19, 2013</td>\n",
       "    </tr>\n",
       "    <tr>\n",
       "      <th>95945</th>\n",
       "      <td>A2LTYEYGKBYXRR</td>\n",
       "      <td>B002OLM56K</td>\n",
       "      <td>Zachary S. *Tech Reviewer* \"zmanbaseball2@gma...</td>\n",
       "      <td>[2, 2]</td>\n",
       "      <td>NaN</td>\n",
       "      <td>5.0</td>\n",
       "      <td>Quality stand that will last a long time</td>\n",
       "      <td>1382659200</td>\n",
       "      <td>10 25, 2013</td>\n",
       "    </tr>\n",
       "    <tr>\n",
       "      <th>98909</th>\n",
       "      <td>A3IN6A91TK5IVW</td>\n",
       "      <td>B002PY7P2U</td>\n",
       "      <td>J. C. Bauman \"corporate vagabond\"</td>\n",
       "      <td>[0, 0]</td>\n",
       "      <td>NaN</td>\n",
       "      <td>5.0</td>\n",
       "      <td>Hnads Free and Clear as a Whistle</td>\n",
       "      <td>1297641600</td>\n",
       "      <td>02 14, 2011</td>\n",
       "    </tr>\n",
       "    <tr>\n",
       "      <th>99350</th>\n",
       "      <td>A1TMCSLYMUEKRE</td>\n",
       "      <td>B002Q2L4HI</td>\n",
       "      <td>Fox</td>\n",
       "      <td>[0, 0]</td>\n",
       "      <td>NaN</td>\n",
       "      <td>2.0</td>\n",
       "      <td>\"Rubberized coating\" Peeling Off</td>\n",
       "      <td>1279843200</td>\n",
       "      <td>07 23, 2010</td>\n",
       "    </tr>\n",
       "  </tbody>\n",
       "</table>\n",
       "</div>"
      ],
      "text/plain": [
       "           reviewerID        asin  \\\n",
       "6189    AA7Y8KYXR78AQ  B001MRZY3S   \n",
       "9670   A2F0Z8RKLLNTB5  B001OD2OAQ   \n",
       "13835   A1EDPYP591LG1  B001PR21A4   \n",
       "15022  A1QECYQ0B0PZWN  B001QHY2V4   \n",
       "22178  A1E3T4V1N3E9H8  B001TJ9MAU   \n",
       "34257   ASQ7ECXSKRP94  B001YSI04A   \n",
       "34276  A1K5V0WVIZ3WU4  B001YSI04A   \n",
       "38239  A18MB9BZRBY2R0  B0024NL6V8   \n",
       "40440  A1XCTYGSM3QK2B  B00264WXI0   \n",
       "41674  A2ZJEMNIYU6WI7  B0026NO5DW   \n",
       "48083  A1TE4U5PQ44ZMA  B00292BRHW   \n",
       "57130  A3F89GUQW9QXPH  B002BH3I9U   \n",
       "59929  A3B0YGJRWLBJU0  B002C4TC92   \n",
       "61343  A2MVFFSH9WD3QO  B002CMEIWK   \n",
       "62448  A384DPJYGGDREO  B002CVTQ28   \n",
       "64400   A5J1EE944EJYL  B002DS2FLE   \n",
       "64402   AI8B4KS20RS6J  B002DS34W8   \n",
       "66627   AV34MLZ8IMQC4  B002EOZ1J0   \n",
       "70865  A2S4FID11M6JFX  B002FU5RHY   \n",
       "70875  A29WXRIQ3735EJ  B002FU5RII   \n",
       "73589  A2R0F0ZZYGQ2QW  B002GZ2R4Y   \n",
       "74708  A3DS1POJGRDSG5  B002HJ9Q66   \n",
       "77817  A2D0IBDF2WHYZS  B002IVFQQM   \n",
       "78270  A1W0S16FVDJ53T  B002IWMJ8Y   \n",
       "79552  A2D90XLS3UB6H9  B002JCSAWW   \n",
       "80262  A1JRCZCQBTJ0AZ  B002JMALH4   \n",
       "81549  A23L0E0KC82SC2  B002K9IPOC   \n",
       "84214   AWEO55KE2ACA4  B002LBFZK6   \n",
       "95591   AEXZRQTAJ1HTM  B002OLM56K   \n",
       "95945  A2LTYEYGKBYXRR  B002OLM56K   \n",
       "98909  A3IN6A91TK5IVW  B002PY7P2U   \n",
       "99350  A1TMCSLYMUEKRE  B002Q2L4HI   \n",
       "\n",
       "                                           reviewerName     helpful  \\\n",
       "6189                                         Tucker Cox    [10, 12]   \n",
       "9670                                              Elkue      [0, 0]   \n",
       "13835                          Leonard Martin \"Cioplex\"      [2, 2]   \n",
       "15022                                     David F. Kyte    [12, 14]   \n",
       "22178                  Michael Denney \"The 'PC Doctor'\"      [0, 1]   \n",
       "34257                          Michael Soh \"scuba_mike\"    [18, 21]   \n",
       "34276                                      Resident2007      [0, 0]   \n",
       "38239                                        R. Kraemer      [3, 5]   \n",
       "40440                 Seth Goldstein \"SethGoldstein.me\"      [1, 7]   \n",
       "41674                                    Sean Hackbarth      [1, 5]   \n",
       "48083                                   Leonardo Ocanto      [0, 0]   \n",
       "57130                              R. Stack \"Ronny JDT\"  [328, 353]   \n",
       "59929                             N. Dorries \"BlackCat\"     [9, 11]   \n",
       "61343                                      stringbender      [1, 1]   \n",
       "62448                                           Brandon      [0, 0]   \n",
       "64400                                           Pikalax      [1, 1]   \n",
       "64402                    frederick r welsh \"user225937\"      [0, 0]   \n",
       "66627            NoHoAntiSocialClub \"alollik ot netsil\"      [3, 5]   \n",
       "70865                 William H. Munn \"Man of the Year\"      [2, 2]   \n",
       "70875                                 E. Alonso \"ErlyD\"      [6, 6]   \n",
       "73589                               edge3851 \"edge3581\"    [29, 32]   \n",
       "74708                                            Harvey    [17, 17]   \n",
       "77817                                               Max      [4, 4]   \n",
       "78270                 XLander \"&#60;&#60;&#60;that guy\"      [2, 3]   \n",
       "79552                                        Troy Scheh  [135, 160]   \n",
       "80262                                  John From Denver      [2, 2]   \n",
       "81549                     Surya Chataut \"Surya Chataut\"      [1, 2]   \n",
       "84214                                         Spikesolo    [33, 38]   \n",
       "95591                                          Daniel J      [4, 5]   \n",
       "95945  Zachary S. *Tech Reviewer* \"zmanbaseball2@gma...      [2, 2]   \n",
       "98909                 J. C. Bauman \"corporate vagabond\"      [0, 0]   \n",
       "99350                                               Fox      [0, 0]   \n",
       "\n",
       "      reviewText  overall                                            summary  \\\n",
       "6189         NaN      2.0                                 Too many problems!   \n",
       "9670         NaN      4.0          Amazing phone, trackball stopped working.   \n",
       "13835        NaN      4.0   Great business phone, needs more internet muscle   \n",
       "15022        NaN      5.0                Great for Drawing and Painting Apps   \n",
       "22178        NaN      1.0       See How One Good Review Can Spoil the Truth?   \n",
       "34257        NaN      3.0               Decent headphones; iPhone compatible   \n",
       "34276        NaN      5.0  Great at first, but quit working, I bought ano...   \n",
       "38239        NaN      1.0                      Worst phone I have ever owned   \n",
       "40440        NaN      1.0               Total garbage. What a disappointment   \n",
       "41674        NaN      4.0                             Protecting My Precious   \n",
       "48083        NaN      1.0                             Don't waste your money   \n",
       "57130        NaN      4.0         Great Set of Headphones for a Great Price!   \n",
       "59929        NaN      1.0                                 Really cheap case.   \n",
       "61343        NaN      1.0                  I'm not happy with this purchase.   \n",
       "62448        NaN      5.0           Must have for watching video on a flight   \n",
       "64400        NaN      1.0                  EM 330 does not recognize charger   \n",
       "64402        NaN      4.0              Blackberry Storm Silicone Case Review   \n",
       "66627        NaN      1.0                        Broke after 2 weeks.... :-/   \n",
       "70865        NaN      1.0                               Same issue as others   \n",
       "70875        NaN      2.0            Nice, Great looking but not functional.   \n",
       "73589        NaN      5.0  Easy to put on my kindle, durable, snug fit --...   \n",
       "74708        NaN      5.0                                    Solid as a Rock   \n",
       "77817        NaN      5.0                               Cooking with iClooly   \n",
       "78270        NaN      5.0                Item is not for the Tmobile MyTouch   \n",
       "79552        NaN      5.0                                      Great Product   \n",
       "80262        NaN      4.0                          Great headset blue ant V1   \n",
       "81549        NaN      1.0                     Video is worth a billion words   \n",
       "84214        NaN      1.0                                       CRAPPY PHONE   \n",
       "95591        NaN      3.0           Solid stand, but better quality expected   \n",
       "95945        NaN      5.0           Quality stand that will last a long time   \n",
       "98909        NaN      5.0                  Hnads Free and Clear as a Whistle   \n",
       "99350        NaN      2.0                   \"Rubberized coating\" Peeling Off   \n",
       "\n",
       "       unixReviewTime   reviewTime  \n",
       "6189       1288915200   11 5, 2010  \n",
       "9670       1264118400  01 22, 2010  \n",
       "13835      1259798400   12 3, 2009  \n",
       "15022      1261785600  12 26, 2009  \n",
       "22178      1300060800  03 14, 2011  \n",
       "34257      1256947200  10 31, 2009  \n",
       "34276      1277683200  06 28, 2010  \n",
       "38239      1274400000  05 21, 2010  \n",
       "40440      1249430400   08 5, 2009  \n",
       "41674      1246060800  06 27, 2009  \n",
       "48083      1293148800  12 24, 2010  \n",
       "57130      1307145600   06 4, 2011  \n",
       "59929      1245974400  06 26, 2009  \n",
       "61343      1322870400   12 3, 2011  \n",
       "62448      1267920000   03 7, 2010  \n",
       "64400      1322092800  11 24, 2011  \n",
       "64402      1297036800   02 7, 2011  \n",
       "66627      1266624000  02 20, 2010  \n",
       "70865      1265673600   02 9, 2010  \n",
       "70875      1273795200  05 14, 2010  \n",
       "73589      1250985600  08 23, 2009  \n",
       "74708      1256601600  10 27, 2009  \n",
       "77817      1264723200  01 29, 2010  \n",
       "78270      1258070400  11 13, 2009  \n",
       "79552      1276041600   06 9, 2010  \n",
       "80262      1287014400  10 14, 2010  \n",
       "81549      1371600000  06 19, 2013  \n",
       "84214      1314489600  08 28, 2011  \n",
       "95591      1376870400  08 19, 2013  \n",
       "95945      1382659200  10 25, 2013  \n",
       "98909      1297641600  02 14, 2011  \n",
       "99350      1279843200  07 23, 2010  "
      ]
     },
     "execution_count": 5,
     "metadata": {},
     "output_type": "execute_result"
    }
   ],
   "source": [
    "#find out float type values in reviewtext\n",
    "df_reviews[df_reviews.reviewText.map(type) == float]"
   ]
  },
  {
   "cell_type": "code",
   "execution_count": 6,
   "metadata": {},
   "outputs": [
    {
     "data": {
      "text/plain": [
       "reviewerID        100000\n",
       "asin              100000\n",
       "reviewerName       99764\n",
       "helpful           100000\n",
       "reviewText         99968\n",
       "overall           100000\n",
       "summary            99998\n",
       "unixReviewTime    100000\n",
       "reviewTime        100000\n",
       "dtype: int64"
      ]
     },
     "execution_count": 6,
     "metadata": {},
     "output_type": "execute_result"
    }
   ],
   "source": [
    "df_reviews.count()"
   ]
  },
  {
   "cell_type": "code",
   "execution_count": 7,
   "metadata": {
    "collapsed": true
   },
   "outputs": [],
   "source": [
    "#drop values in reviewtext which type of Nan (float)\n",
    "df_reviews = df_reviews.dropna(subset=['reviewText'])"
   ]
  },
  {
   "cell_type": "code",
   "execution_count": 8,
   "metadata": {},
   "outputs": [
    {
     "data": {
      "text/plain": [
       "reviewerID        99968\n",
       "asin              99968\n",
       "reviewerName      99732\n",
       "helpful           99968\n",
       "reviewText        99968\n",
       "overall           99968\n",
       "summary           99966\n",
       "unixReviewTime    99968\n",
       "reviewTime        99968\n",
       "dtype: int64"
      ]
     },
     "execution_count": 8,
     "metadata": {},
     "output_type": "execute_result"
    }
   ],
   "source": [
    "df_reviews.count() ## some records are dropped due to being na"
   ]
  },
  {
   "cell_type": "code",
   "execution_count": 9,
   "metadata": {
    "collapsed": true
   },
   "outputs": [],
   "source": [
    "# These need to be installed using -> sudo pip install textblob \n",
    "# sudo pip install wordcloud\n",
    "from textblob import TextBlob\n",
    "from wordcloud import WordCloud, STOPWORDS"
   ]
  },
  {
   "cell_type": "code",
   "execution_count": 10,
   "metadata": {
    "collapsed": true
   },
   "outputs": [],
   "source": [
    "import nltk"
   ]
  },
  {
   "cell_type": "code",
   "execution_count": 11,
   "metadata": {
    "collapsed": true
   },
   "outputs": [],
   "source": [
    "# generate mask to elimate rows containing text and sentence length equal to zero\n",
    "df_reviews['word_length'] = df_reviews['reviewText'].apply(lambda x: float(len(TextBlob(x).words)))\n",
    "df_reviews['sentence_length'] = df_reviews['reviewText'].apply(lambda x: float(len(TextBlob(x).sentences)))\n",
    "mask = ((df_reviews['word_length'] > 0) & (df_reviews['sentence_length'] > 0))\n",
    "df_reviews = df_reviews[mask]"
   ]
  },
  {
   "cell_type": "code",
   "execution_count": 12,
   "metadata": {},
   "outputs": [
    {
     "data": {
      "text/plain": [
       "reviewerID         99968\n",
       "asin               99968\n",
       "reviewerName       99732\n",
       "helpful            99968\n",
       "reviewText         99968\n",
       "overall            99968\n",
       "summary            99966\n",
       "unixReviewTime     99968\n",
       "reviewTime         99968\n",
       "word_length        99968\n",
       "sentence_length    99968\n",
       "dtype: int64"
      ]
     },
     "execution_count": 12,
     "metadata": {},
     "output_type": "execute_result"
    }
   ],
   "source": [
    "df_reviews.count()"
   ]
  },
  {
   "cell_type": "code",
   "execution_count": 13,
   "metadata": {
    "collapsed": true
   },
   "outputs": [],
   "source": [
    "#Write a basic function to extract helpful_votes and overall votes and increment helpful by 1 and overall by 2 \n",
    "#so that we do not ignore the reviews which are marked [0,0]\n",
    "def creating_basic_features():\n",
    "    df_reviews['helpful_votes'] = df_reviews['helpful'].apply(lambda x: x[1]).apply(pd.to_numeric)+1\n",
    "    df_reviews['overall_votes'] = df_reviews['helpful'].apply(lambda x: x[-2]).apply(pd.to_numeric)+2"
   ]
  },
  {
   "cell_type": "code",
   "execution_count": 14,
   "metadata": {
    "collapsed": true
   },
   "outputs": [],
   "source": [
    "#Call the function \n",
    "creating_basic_features()"
   ]
  },
  {
   "cell_type": "code",
   "execution_count": 15,
   "metadata": {},
   "outputs": [
    {
     "data": {
      "text/html": [
       "<div>\n",
       "<style>\n",
       "    .dataframe thead tr:only-child th {\n",
       "        text-align: right;\n",
       "    }\n",
       "\n",
       "    .dataframe thead th {\n",
       "        text-align: left;\n",
       "    }\n",
       "\n",
       "    .dataframe tbody tr th {\n",
       "        vertical-align: top;\n",
       "    }\n",
       "</style>\n",
       "<table border=\"1\" class=\"dataframe\">\n",
       "  <thead>\n",
       "    <tr style=\"text-align: right;\">\n",
       "      <th></th>\n",
       "      <th>reviewerID</th>\n",
       "      <th>asin</th>\n",
       "      <th>reviewerName</th>\n",
       "      <th>helpful</th>\n",
       "      <th>reviewText</th>\n",
       "      <th>overall</th>\n",
       "      <th>summary</th>\n",
       "      <th>unixReviewTime</th>\n",
       "      <th>reviewTime</th>\n",
       "      <th>word_length</th>\n",
       "      <th>sentence_length</th>\n",
       "      <th>helpful_votes</th>\n",
       "      <th>overall_votes</th>\n",
       "    </tr>\n",
       "  </thead>\n",
       "  <tbody>\n",
       "    <tr>\n",
       "      <th>0</th>\n",
       "      <td>AEXQJY9OAI7FT</td>\n",
       "      <td>B001KQFGTI</td>\n",
       "      <td>frances fernandez</td>\n",
       "      <td>[0, 0]</td>\n",
       "      <td>This case lives up to its' description.  Once ...</td>\n",
       "      <td>3.0</td>\n",
       "      <td>Durable and clean design!</td>\n",
       "      <td>1346284800</td>\n",
       "      <td>08 30, 2012</td>\n",
       "      <td>112.0</td>\n",
       "      <td>5.0</td>\n",
       "      <td>1</td>\n",
       "      <td>2</td>\n",
       "    </tr>\n",
       "    <tr>\n",
       "      <th>1</th>\n",
       "      <td>A1LZTUWT0ES437</td>\n",
       "      <td>B001KQFGTI</td>\n",
       "      <td>Francis Paul R. Calo \"Code9Pickle\"</td>\n",
       "      <td>[2, 2]</td>\n",
       "      <td>[...]Anyway before I got this I was using a pe...</td>\n",
       "      <td>3.0</td>\n",
       "      <td>It was ok!</td>\n",
       "      <td>1259625600</td>\n",
       "      <td>12 1, 2009</td>\n",
       "      <td>174.0</td>\n",
       "      <td>13.0</td>\n",
       "      <td>3</td>\n",
       "      <td>4</td>\n",
       "    </tr>\n",
       "    <tr>\n",
       "      <th>2</th>\n",
       "      <td>A3CZM7OLRS7IDZ</td>\n",
       "      <td>B001KQFGTI</td>\n",
       "      <td>Frank Jackson \"capt frank\"</td>\n",
       "      <td>[0, 0]</td>\n",
       "      <td>It's everything it was advertised to be!Have d...</td>\n",
       "      <td>5.0</td>\n",
       "      <td>My defender</td>\n",
       "      <td>1361059200</td>\n",
       "      <td>02 17, 2013</td>\n",
       "      <td>21.0</td>\n",
       "      <td>1.0</td>\n",
       "      <td>1</td>\n",
       "      <td>2</td>\n",
       "    </tr>\n",
       "    <tr>\n",
       "      <th>3</th>\n",
       "      <td>A3T1AT9QFTYEWA</td>\n",
       "      <td>B001KQFGTI</td>\n",
       "      <td>Frank L. Gallagher \"frankieg\"</td>\n",
       "      <td>[0, 0]</td>\n",
       "      <td>as mentioned before the belt clip is VERY iffy...</td>\n",
       "      <td>4.0</td>\n",
       "      <td>darn good case</td>\n",
       "      <td>1253664000</td>\n",
       "      <td>09 23, 2009</td>\n",
       "      <td>72.0</td>\n",
       "      <td>5.0</td>\n",
       "      <td>1</td>\n",
       "      <td>2</td>\n",
       "    </tr>\n",
       "    <tr>\n",
       "      <th>4</th>\n",
       "      <td>AMEVQ5HV7COAE</td>\n",
       "      <td>B001KQFGTI</td>\n",
       "      <td>Frank Littleton \"big man\"</td>\n",
       "      <td>[0, 0]</td>\n",
       "      <td>If you own an I-Phone I will purchase on of th...</td>\n",
       "      <td>5.0</td>\n",
       "      <td>excellent purchase</td>\n",
       "      <td>1269302400</td>\n",
       "      <td>03 23, 2010</td>\n",
       "      <td>19.0</td>\n",
       "      <td>1.0</td>\n",
       "      <td>1</td>\n",
       "      <td>2</td>\n",
       "    </tr>\n",
       "  </tbody>\n",
       "</table>\n",
       "</div>"
      ],
      "text/plain": [
       "       reviewerID        asin                        reviewerName helpful  \\\n",
       "0   AEXQJY9OAI7FT  B001KQFGTI                   frances fernandez  [0, 0]   \n",
       "1  A1LZTUWT0ES437  B001KQFGTI  Francis Paul R. Calo \"Code9Pickle\"  [2, 2]   \n",
       "2  A3CZM7OLRS7IDZ  B001KQFGTI          Frank Jackson \"capt frank\"  [0, 0]   \n",
       "3  A3T1AT9QFTYEWA  B001KQFGTI       Frank L. Gallagher \"frankieg\"  [0, 0]   \n",
       "4   AMEVQ5HV7COAE  B001KQFGTI           Frank Littleton \"big man\"  [0, 0]   \n",
       "\n",
       "                                          reviewText  overall  \\\n",
       "0  This case lives up to its' description.  Once ...      3.0   \n",
       "1  [...]Anyway before I got this I was using a pe...      3.0   \n",
       "2  It's everything it was advertised to be!Have d...      5.0   \n",
       "3  as mentioned before the belt clip is VERY iffy...      4.0   \n",
       "4  If you own an I-Phone I will purchase on of th...      5.0   \n",
       "\n",
       "                     summary  unixReviewTime   reviewTime  word_length  \\\n",
       "0  Durable and clean design!      1346284800  08 30, 2012        112.0   \n",
       "1                 It was ok!      1259625600   12 1, 2009        174.0   \n",
       "2                My defender      1361059200  02 17, 2013         21.0   \n",
       "3             darn good case      1253664000  09 23, 2009         72.0   \n",
       "4         excellent purchase      1269302400  03 23, 2010         19.0   \n",
       "\n",
       "   sentence_length  helpful_votes  overall_votes  \n",
       "0              5.0              1              2  \n",
       "1             13.0              3              4  \n",
       "2              1.0              1              2  \n",
       "3              5.0              1              2  \n",
       "4              1.0              1              2  "
      ]
     },
     "execution_count": 15,
     "metadata": {},
     "output_type": "execute_result"
    }
   ],
   "source": [
    "#validate the increment\n",
    "df_reviews.head(5)"
   ]
  },
  {
   "cell_type": "code",
   "execution_count": 16,
   "metadata": {
    "collapsed": true
   },
   "outputs": [],
   "source": [
    "#We now calculate helpfulness ratio as helpful_votes/overall_votes\n",
    "#Now create a label of \"helpful\" or \"not_helpful\" (0,1)  by labelling  reviews having helpfulness ratio >0.5 as helpful\n",
    "#and rest as not_helpful\n",
    "\n",
    "df_reviews['percent_helpful'] = np.nan_to_num(100*(df_reviews['helpful_votes']/df_reviews['overall_votes']))\n",
    "df_reviews['review_helpful'] = np.where((df_reviews['percent_helpful'] > 50), 0, 1)"
   ]
  },
  {
   "cell_type": "code",
   "execution_count": 17,
   "metadata": {},
   "outputs": [
    {
     "data": {
      "text/html": [
       "<div>\n",
       "<style>\n",
       "    .dataframe thead tr:only-child th {\n",
       "        text-align: right;\n",
       "    }\n",
       "\n",
       "    .dataframe thead th {\n",
       "        text-align: left;\n",
       "    }\n",
       "\n",
       "    .dataframe tbody tr th {\n",
       "        vertical-align: top;\n",
       "    }\n",
       "</style>\n",
       "<table border=\"1\" class=\"dataframe\">\n",
       "  <thead>\n",
       "    <tr style=\"text-align: right;\">\n",
       "      <th></th>\n",
       "      <th>reviewerID</th>\n",
       "      <th>asin</th>\n",
       "      <th>reviewerName</th>\n",
       "      <th>helpful</th>\n",
       "      <th>reviewText</th>\n",
       "      <th>overall</th>\n",
       "      <th>summary</th>\n",
       "      <th>unixReviewTime</th>\n",
       "      <th>reviewTime</th>\n",
       "      <th>word_length</th>\n",
       "      <th>sentence_length</th>\n",
       "      <th>helpful_votes</th>\n",
       "      <th>overall_votes</th>\n",
       "      <th>percent_helpful</th>\n",
       "      <th>review_helpful</th>\n",
       "    </tr>\n",
       "  </thead>\n",
       "  <tbody>\n",
       "    <tr>\n",
       "      <th>0</th>\n",
       "      <td>AEXQJY9OAI7FT</td>\n",
       "      <td>B001KQFGTI</td>\n",
       "      <td>frances fernandez</td>\n",
       "      <td>[0, 0]</td>\n",
       "      <td>This case lives up to its' description.  Once ...</td>\n",
       "      <td>3.0</td>\n",
       "      <td>Durable and clean design!</td>\n",
       "      <td>1346284800</td>\n",
       "      <td>08 30, 2012</td>\n",
       "      <td>112.0</td>\n",
       "      <td>5.0</td>\n",
       "      <td>1</td>\n",
       "      <td>2</td>\n",
       "      <td>50.0</td>\n",
       "      <td>1</td>\n",
       "    </tr>\n",
       "    <tr>\n",
       "      <th>1</th>\n",
       "      <td>A1LZTUWT0ES437</td>\n",
       "      <td>B001KQFGTI</td>\n",
       "      <td>Francis Paul R. Calo \"Code9Pickle\"</td>\n",
       "      <td>[2, 2]</td>\n",
       "      <td>[...]Anyway before I got this I was using a pe...</td>\n",
       "      <td>3.0</td>\n",
       "      <td>It was ok!</td>\n",
       "      <td>1259625600</td>\n",
       "      <td>12 1, 2009</td>\n",
       "      <td>174.0</td>\n",
       "      <td>13.0</td>\n",
       "      <td>3</td>\n",
       "      <td>4</td>\n",
       "      <td>75.0</td>\n",
       "      <td>0</td>\n",
       "    </tr>\n",
       "    <tr>\n",
       "      <th>2</th>\n",
       "      <td>A3CZM7OLRS7IDZ</td>\n",
       "      <td>B001KQFGTI</td>\n",
       "      <td>Frank Jackson \"capt frank\"</td>\n",
       "      <td>[0, 0]</td>\n",
       "      <td>It's everything it was advertised to be!Have d...</td>\n",
       "      <td>5.0</td>\n",
       "      <td>My defender</td>\n",
       "      <td>1361059200</td>\n",
       "      <td>02 17, 2013</td>\n",
       "      <td>21.0</td>\n",
       "      <td>1.0</td>\n",
       "      <td>1</td>\n",
       "      <td>2</td>\n",
       "      <td>50.0</td>\n",
       "      <td>1</td>\n",
       "    </tr>\n",
       "  </tbody>\n",
       "</table>\n",
       "</div>"
      ],
      "text/plain": [
       "       reviewerID        asin                        reviewerName helpful  \\\n",
       "0   AEXQJY9OAI7FT  B001KQFGTI                   frances fernandez  [0, 0]   \n",
       "1  A1LZTUWT0ES437  B001KQFGTI  Francis Paul R. Calo \"Code9Pickle\"  [2, 2]   \n",
       "2  A3CZM7OLRS7IDZ  B001KQFGTI          Frank Jackson \"capt frank\"  [0, 0]   \n",
       "\n",
       "                                          reviewText  overall  \\\n",
       "0  This case lives up to its' description.  Once ...      3.0   \n",
       "1  [...]Anyway before I got this I was using a pe...      3.0   \n",
       "2  It's everything it was advertised to be!Have d...      5.0   \n",
       "\n",
       "                     summary  unixReviewTime   reviewTime  word_length  \\\n",
       "0  Durable and clean design!      1346284800  08 30, 2012        112.0   \n",
       "1                 It was ok!      1259625600   12 1, 2009        174.0   \n",
       "2                My defender      1361059200  02 17, 2013         21.0   \n",
       "\n",
       "   sentence_length  helpful_votes  overall_votes  percent_helpful  \\\n",
       "0              5.0              1              2             50.0   \n",
       "1             13.0              3              4             75.0   \n",
       "2              1.0              1              2             50.0   \n",
       "\n",
       "   review_helpful  \n",
       "0               1  \n",
       "1               0  \n",
       "2               1  "
      ]
     },
     "execution_count": 17,
     "metadata": {},
     "output_type": "execute_result"
    }
   ],
   "source": [
    "df_reviews.head(3)"
   ]
  },
  {
   "cell_type": "code",
   "execution_count": 18,
   "metadata": {
    "collapsed": true
   },
   "outputs": [],
   "source": [
    "#Use only those reviews which are not null \n",
    "data = df_reviews[df_reviews['reviewText'].isnull()==False]"
   ]
  },
  {
   "cell_type": "code",
   "execution_count": 19,
   "metadata": {},
   "outputs": [
    {
     "data": {
      "text/plain": [
       "reviewerID         99968\n",
       "asin               99968\n",
       "reviewerName       99732\n",
       "helpful            99968\n",
       "reviewText         99968\n",
       "overall            99968\n",
       "summary            99966\n",
       "unixReviewTime     99968\n",
       "reviewTime         99968\n",
       "word_length        99968\n",
       "sentence_length    99968\n",
       "helpful_votes      99968\n",
       "overall_votes      99968\n",
       "percent_helpful    99968\n",
       "review_helpful     99968\n",
       "dtype: int64"
      ]
     },
     "execution_count": 19,
     "metadata": {},
     "output_type": "execute_result"
    }
   ],
   "source": [
    "data.count()"
   ]
  },
  {
   "cell_type": "code",
   "execution_count": 20,
   "metadata": {},
   "outputs": [
    {
     "data": {
      "text/html": [
       "<div>\n",
       "<style>\n",
       "    .dataframe thead tr:only-child th {\n",
       "        text-align: right;\n",
       "    }\n",
       "\n",
       "    .dataframe thead th {\n",
       "        text-align: left;\n",
       "    }\n",
       "\n",
       "    .dataframe tbody tr th {\n",
       "        vertical-align: top;\n",
       "    }\n",
       "</style>\n",
       "<table border=\"1\" class=\"dataframe\">\n",
       "  <thead>\n",
       "    <tr style=\"text-align: right;\">\n",
       "      <th></th>\n",
       "      <th>reviewerID</th>\n",
       "      <th>asin</th>\n",
       "      <th>reviewerName</th>\n",
       "      <th>helpful</th>\n",
       "      <th>reviewText</th>\n",
       "      <th>overall</th>\n",
       "      <th>summary</th>\n",
       "      <th>unixReviewTime</th>\n",
       "      <th>reviewTime</th>\n",
       "      <th>word_length</th>\n",
       "      <th>sentence_length</th>\n",
       "      <th>helpful_votes</th>\n",
       "      <th>overall_votes</th>\n",
       "      <th>percent_helpful</th>\n",
       "      <th>review_helpful</th>\n",
       "    </tr>\n",
       "  </thead>\n",
       "  <tbody>\n",
       "    <tr>\n",
       "      <th>0</th>\n",
       "      <td>AEXQJY9OAI7FT</td>\n",
       "      <td>B001KQFGTI</td>\n",
       "      <td>frances fernandez</td>\n",
       "      <td>[0, 0]</td>\n",
       "      <td>This case lives up to its' description.  Once ...</td>\n",
       "      <td>3.0</td>\n",
       "      <td>Durable and clean design!</td>\n",
       "      <td>1346284800</td>\n",
       "      <td>08 30, 2012</td>\n",
       "      <td>112.0</td>\n",
       "      <td>5.0</td>\n",
       "      <td>1</td>\n",
       "      <td>2</td>\n",
       "      <td>50.0</td>\n",
       "      <td>1</td>\n",
       "    </tr>\n",
       "    <tr>\n",
       "      <th>1</th>\n",
       "      <td>A1LZTUWT0ES437</td>\n",
       "      <td>B001KQFGTI</td>\n",
       "      <td>Francis Paul R. Calo \"Code9Pickle\"</td>\n",
       "      <td>[2, 2]</td>\n",
       "      <td>[...]Anyway before I got this I was using a pe...</td>\n",
       "      <td>3.0</td>\n",
       "      <td>It was ok!</td>\n",
       "      <td>1259625600</td>\n",
       "      <td>12 1, 2009</td>\n",
       "      <td>174.0</td>\n",
       "      <td>13.0</td>\n",
       "      <td>3</td>\n",
       "      <td>4</td>\n",
       "      <td>75.0</td>\n",
       "      <td>0</td>\n",
       "    </tr>\n",
       "    <tr>\n",
       "      <th>2</th>\n",
       "      <td>A3CZM7OLRS7IDZ</td>\n",
       "      <td>B001KQFGTI</td>\n",
       "      <td>Frank Jackson \"capt frank\"</td>\n",
       "      <td>[0, 0]</td>\n",
       "      <td>It's everything it was advertised to be!Have d...</td>\n",
       "      <td>5.0</td>\n",
       "      <td>My defender</td>\n",
       "      <td>1361059200</td>\n",
       "      <td>02 17, 2013</td>\n",
       "      <td>21.0</td>\n",
       "      <td>1.0</td>\n",
       "      <td>1</td>\n",
       "      <td>2</td>\n",
       "      <td>50.0</td>\n",
       "      <td>1</td>\n",
       "    </tr>\n",
       "  </tbody>\n",
       "</table>\n",
       "</div>"
      ],
      "text/plain": [
       "       reviewerID        asin                        reviewerName helpful  \\\n",
       "0   AEXQJY9OAI7FT  B001KQFGTI                   frances fernandez  [0, 0]   \n",
       "1  A1LZTUWT0ES437  B001KQFGTI  Francis Paul R. Calo \"Code9Pickle\"  [2, 2]   \n",
       "2  A3CZM7OLRS7IDZ  B001KQFGTI          Frank Jackson \"capt frank\"  [0, 0]   \n",
       "\n",
       "                                          reviewText  overall  \\\n",
       "0  This case lives up to its' description.  Once ...      3.0   \n",
       "1  [...]Anyway before I got this I was using a pe...      3.0   \n",
       "2  It's everything it was advertised to be!Have d...      5.0   \n",
       "\n",
       "                     summary  unixReviewTime   reviewTime  word_length  \\\n",
       "0  Durable and clean design!      1346284800  08 30, 2012        112.0   \n",
       "1                 It was ok!      1259625600   12 1, 2009        174.0   \n",
       "2                My defender      1361059200  02 17, 2013         21.0   \n",
       "\n",
       "   sentence_length  helpful_votes  overall_votes  percent_helpful  \\\n",
       "0              5.0              1              2             50.0   \n",
       "1             13.0              3              4             75.0   \n",
       "2              1.0              1              2             50.0   \n",
       "\n",
       "   review_helpful  \n",
       "0               1  \n",
       "1               0  \n",
       "2               1  "
      ]
     },
     "execution_count": 20,
     "metadata": {},
     "output_type": "execute_result"
    }
   ],
   "source": [
    "data.head(3)"
   ]
  },
  {
   "cell_type": "code",
   "execution_count": 21,
   "metadata": {
    "collapsed": true
   },
   "outputs": [],
   "source": [
    "#Import train_test_split function from sklearn.model_selection library \n",
    "from sklearn.model_selection import train_test_split"
   ]
  },
  {
   "cell_type": "code",
   "execution_count": 22,
   "metadata": {
    "collapsed": true
   },
   "outputs": [],
   "source": [
    "#In any modeling exercise we split our entire data into train and test partitions to avoid overfitting\n",
    "train, test = train_test_split(data, test_size = 0.2)"
   ]
  },
  {
   "cell_type": "code",
   "execution_count": 23,
   "metadata": {},
   "outputs": [
    {
     "data": {
      "text/html": [
       "<div>\n",
       "<style>\n",
       "    .dataframe thead tr:only-child th {\n",
       "        text-align: right;\n",
       "    }\n",
       "\n",
       "    .dataframe thead th {\n",
       "        text-align: left;\n",
       "    }\n",
       "\n",
       "    .dataframe tbody tr th {\n",
       "        vertical-align: top;\n",
       "    }\n",
       "</style>\n",
       "<table border=\"1\" class=\"dataframe\">\n",
       "  <thead>\n",
       "    <tr style=\"text-align: right;\">\n",
       "      <th></th>\n",
       "      <th>reviewerID</th>\n",
       "      <th>asin</th>\n",
       "      <th>reviewerName</th>\n",
       "      <th>helpful</th>\n",
       "      <th>reviewText</th>\n",
       "      <th>overall</th>\n",
       "      <th>summary</th>\n",
       "      <th>unixReviewTime</th>\n",
       "      <th>reviewTime</th>\n",
       "      <th>word_length</th>\n",
       "      <th>sentence_length</th>\n",
       "      <th>helpful_votes</th>\n",
       "      <th>overall_votes</th>\n",
       "      <th>percent_helpful</th>\n",
       "      <th>review_helpful</th>\n",
       "    </tr>\n",
       "  </thead>\n",
       "  <tbody>\n",
       "    <tr>\n",
       "      <th>5681</th>\n",
       "      <td>AMDRC7DPFOVAF</td>\n",
       "      <td>B001MJ0ECM</td>\n",
       "      <td>A. Singer</td>\n",
       "      <td>[0, 0]</td>\n",
       "      <td>Great stereo headset!  Connects easily with my...</td>\n",
       "      <td>5.0</td>\n",
       "      <td>Love this headset!</td>\n",
       "      <td>1359417600</td>\n",
       "      <td>01 29, 2013</td>\n",
       "      <td>60.0</td>\n",
       "      <td>6.0</td>\n",
       "      <td>1</td>\n",
       "      <td>2</td>\n",
       "      <td>50.0</td>\n",
       "      <td>1</td>\n",
       "    </tr>\n",
       "    <tr>\n",
       "      <th>75649</th>\n",
       "      <td>A29XNVZYXCWMOR</td>\n",
       "      <td>B002HQUJPG</td>\n",
       "      <td>Emily</td>\n",
       "      <td>[0, 0]</td>\n",
       "      <td>I've had this stylus for less than a month and...</td>\n",
       "      <td>2.0</td>\n",
       "      <td>Doesn't last long</td>\n",
       "      <td>1339545600</td>\n",
       "      <td>06 13, 2012</td>\n",
       "      <td>77.0</td>\n",
       "      <td>5.0</td>\n",
       "      <td>1</td>\n",
       "      <td>2</td>\n",
       "      <td>50.0</td>\n",
       "      <td>1</td>\n",
       "    </tr>\n",
       "    <tr>\n",
       "      <th>26091</th>\n",
       "      <td>A21QSCJMLCHPE8</td>\n",
       "      <td>B001UCELX4</td>\n",
       "      <td>LaShonda Steward</td>\n",
       "      <td>[0, 0]</td>\n",
       "      <td>Came exactly as described, easy to fit on my e...</td>\n",
       "      <td>5.0</td>\n",
       "      <td>Great Purchase</td>\n",
       "      <td>1385683200</td>\n",
       "      <td>11 29, 2013</td>\n",
       "      <td>39.0</td>\n",
       "      <td>2.0</td>\n",
       "      <td>1</td>\n",
       "      <td>2</td>\n",
       "      <td>50.0</td>\n",
       "      <td>1</td>\n",
       "    </tr>\n",
       "  </tbody>\n",
       "</table>\n",
       "</div>"
      ],
      "text/plain": [
       "           reviewerID        asin      reviewerName helpful  \\\n",
       "5681    AMDRC7DPFOVAF  B001MJ0ECM         A. Singer  [0, 0]   \n",
       "75649  A29XNVZYXCWMOR  B002HQUJPG             Emily  [0, 0]   \n",
       "26091  A21QSCJMLCHPE8  B001UCELX4  LaShonda Steward  [0, 0]   \n",
       "\n",
       "                                              reviewText  overall  \\\n",
       "5681   Great stereo headset!  Connects easily with my...      5.0   \n",
       "75649  I've had this stylus for less than a month and...      2.0   \n",
       "26091  Came exactly as described, easy to fit on my e...      5.0   \n",
       "\n",
       "                  summary  unixReviewTime   reviewTime  word_length  \\\n",
       "5681   Love this headset!      1359417600  01 29, 2013         60.0   \n",
       "75649   Doesn't last long      1339545600  06 13, 2012         77.0   \n",
       "26091      Great Purchase      1385683200  11 29, 2013         39.0   \n",
       "\n",
       "       sentence_length  helpful_votes  overall_votes  percent_helpful  \\\n",
       "5681               6.0              1              2             50.0   \n",
       "75649              5.0              1              2             50.0   \n",
       "26091              2.0              1              2             50.0   \n",
       "\n",
       "       review_helpful  \n",
       "5681                1  \n",
       "75649               1  \n",
       "26091               1  "
      ]
     },
     "execution_count": 23,
     "metadata": {},
     "output_type": "execute_result"
    }
   ],
   "source": [
    "train.head(3)"
   ]
  },
  {
   "cell_type": "code",
   "execution_count": 24,
   "metadata": {
    "collapsed": true
   },
   "outputs": [],
   "source": [
    "#Import all the required libraries for text processing and building Machine Learning Models\n",
    "\n",
    "from bs4 import BeautifulSoup\n",
    "\n",
    "from nltk.corpus import stopwords\n",
    "from nltk.stem.porter import PorterStemmer\n",
    "english_stemmer=nltk.stem.SnowballStemmer('english')\n",
    "\n",
    "from sklearn.feature_selection.univariate_selection import SelectKBest, chi2, f_classif\n",
    "from sklearn.feature_extraction.text import TfidfVectorizer\n",
    "from sklearn.linear_model import SGDClassifier, SGDRegressor\n",
    "from sklearn.ensemble import RandomForestClassifier, GradientBoostingClassifier\n",
    "from sklearn.metrics import accuracy_score, classification_report, confusion_matrix"
   ]
  },
  {
   "cell_type": "code",
   "execution_count": 25,
   "metadata": {
    "collapsed": true
   },
   "outputs": [],
   "source": [
    "#In the below function if we need to set remove_stopwords=True we must have all corpora installed from nltk library\n",
    "# The way to do that is -> login to Deep Learning AMI  -> hit python -> import nltk  -> nltk.downlaod() -> d (for download)\n",
    "# say all-corpora in download and it will be done\n",
    "\n",
    "\n",
    "#Here we have intentionally kept remove_stopwords=True  as we have seen the words like->  not, by,of, for carry weightage to \n",
    "#imparting meaning to a text review. Although it makes our model computationally expensive yet we see better  accuracy"
   ]
  },
  {
   "cell_type": "code",
   "execution_count": 26,
   "metadata": {
    "collapsed": true
   },
   "outputs": [],
   "source": [
    "# Remove the non Letters\n",
    "# Convert everything to lower case\n",
    "# Optionally we can remove stopwords and check how the accuracy is altered\n",
    "# Stem the words\n",
    "\n",
    "def review_to_wordlist( review, remove_stopwords=False):\n",
    "    # Function to convert a document to a sequence of words,\n",
    "    # optionally removing stop words.  Returns a list of words\n",
    "    #\n",
    "    # 1. Remove HTML\n",
    "    review_text = BeautifulSoup(review).get_text()\n",
    "\n",
    "    #\n",
    "    # 2. Remove non-letters\n",
    "    review_text = re.sub(\"[^a-zA-Z]\",\" \", review)\n",
    "    #\n",
    "    # 3. Convert words to lower case and split them\n",
    "    words = review_text.lower().split()\n",
    "    #\n",
    "    # 4. Optionally remove stop words (True by default)\n",
    "    if remove_stopwords:\n",
    "        stops = set(stopwords.words(\"english\"))\n",
    "        words = [w for w in words if not w in stops]\n",
    "\n",
    "    b=[]\n",
    "    stemmer = english_stemmer #PorterStemmer()\n",
    "    for word in words:\n",
    "        b.append(stemmer.stem(word))\n",
    "\n",
    "    # 5. Return a list of words\n",
    "    return(b)"
   ]
  },
  {
   "cell_type": "code",
   "execution_count": 27,
   "metadata": {},
   "outputs": [
    {
     "name": "stderr",
     "output_type": "stream",
     "text": [
      "/usr/local/lib/python2.7/dist-packages/bs4/__init__.py:181: UserWarning: No parser was explicitly specified, so I'm using the best available HTML parser for this system (\"html5lib\"). This usually isn't a problem, but if you run this code on another system, or in a different virtual environment, it may use a different parser and behave differently.\n",
      "\n",
      "The code that caused this warning is on line 174 of the file /usr/lib/python2.7/runpy.py. To get rid of this warning, change code that looks like this:\n",
      "\n",
      " BeautifulSoup(YOUR_MARKUP})\n",
      "\n",
      "to this:\n",
      "\n",
      " BeautifulSoup(YOUR_MARKUP, \"html5lib\")\n",
      "\n",
      "  markup_type=markup_type))\n"
     ]
    }
   ],
   "source": [
    "# Apply Preprocessing and create train and test dataset which will be used as the actual input to Machine Learning \n",
    "# Algorithms\n",
    "\n",
    "clean_train_reviews = []\n",
    "for review in train['reviewText']:\n",
    "    clean_train_reviews.append( \" \".join(review_to_wordlist(review)))"
   ]
  },
  {
   "cell_type": "code",
   "execution_count": 28,
   "metadata": {
    "collapsed": true
   },
   "outputs": [],
   "source": [
    "clean_test_reviews = []\n",
    "for review in test['reviewText']:\n",
    "    clean_test_reviews.append( \" \".join(review_to_wordlist(review)))"
   ]
  },
  {
   "cell_type": "code",
   "execution_count": 29,
   "metadata": {
    "collapsed": true
   },
   "outputs": [],
   "source": [
    "##TFidf transformation\n",
    "\n",
    "vectorizer = TfidfVectorizer( min_df=2, max_df=0.95, max_features = 200000, ngram_range = ( 1, 4 ),\n",
    "                              sublinear_tf = True )\n",
    "\n",
    "vectorizer = vectorizer.fit(clean_train_reviews)\n",
    "\n",
    "\n",
    "train_features = vectorizer.transform(clean_train_reviews)\n",
    "\n",
    "test_features = vectorizer.transform(clean_test_reviews)"
   ]
  },
  {
   "cell_type": "code",
   "execution_count": 30,
   "metadata": {
    "collapsed": true
   },
   "outputs": [],
   "source": [
    "#Select Best Features\n",
    "#We only select the best features for our prediction\n",
    "\n",
    "fselect = SelectKBest(chi2 , k=10000)\n",
    "train_features = fselect.fit_transform(train_features, train[\"review_helpful\"])\n",
    "test_features = fselect.transform(test_features)"
   ]
  },
  {
   "cell_type": "code",
   "execution_count": 31,
   "metadata": {},
   "outputs": [
    {
     "data": {
      "text/plain": [
       "RandomForestClassifier(bootstrap=True, class_weight=None, criterion='gini',\n",
       "            max_depth=None, max_features='auto', max_leaf_nodes=None,\n",
       "            min_impurity_split=1e-07, min_samples_leaf=1,\n",
       "            min_samples_split=2, min_weight_fraction_leaf=0.0,\n",
       "            n_estimators=10, n_jobs=1, oob_score=False, random_state=None,\n",
       "            verbose=0, warm_start=False)"
      ]
     },
     "execution_count": 31,
     "metadata": {},
     "output_type": "execute_result"
    }
   ],
   "source": [
    "#Build Model using RF\n",
    "\n",
    "model3 = RandomForestClassifier()\n",
    "model3.fit( train_features, train[\"review_helpful\"] )\n",
    "\n",
    "\n"
   ]
  },
  {
   "cell_type": "code",
   "execution_count": 32,
   "metadata": {
    "collapsed": true
   },
   "outputs": [],
   "source": [
    "#Make Predictions \n",
    "\n",
    "pred_3 = model3.predict(test_features.toarray())"
   ]
  },
  {
   "cell_type": "code",
   "execution_count": 33,
   "metadata": {},
   "outputs": [
    {
     "data": {
      "text/plain": [
       "numpy.ndarray"
      ]
     },
     "execution_count": 33,
     "metadata": {},
     "output_type": "execute_result"
    }
   ],
   "source": [
    "type(pred_3)"
   ]
  },
  {
   "cell_type": "code",
   "execution_count": 34,
   "metadata": {},
   "outputs": [
    {
     "name": "stdout",
     "output_type": "stream",
     "text": [
      "             precision    recall  f1-score   support\n",
      "\n",
      "          0       0.38      0.13      0.19      4558\n",
      "          1       0.78      0.94      0.85     15436\n",
      "\n",
      "avg / total       0.69      0.75      0.70     19994\n",
      "\n"
     ]
    }
   ],
   "source": [
    "#Model Evaluation \n",
    "\n",
    "print(classification_report(test['review_helpful'], pred_3, target_names=['0','1']))"
   ]
  },
  {
   "cell_type": "code",
   "execution_count": 35,
   "metadata": {
    "collapsed": true
   },
   "outputs": [],
   "source": [
    "# Compute confusion matrix\n",
    "cnf_matrix = confusion_matrix(test['review_helpful'], pred_3)"
   ]
  },
  {
   "cell_type": "code",
   "execution_count": 36,
   "metadata": {},
   "outputs": [
    {
     "data": {
      "text/plain": [
       "array([[  589,  3969],\n",
       "       [  948, 14488]])"
      ]
     },
     "execution_count": 36,
     "metadata": {},
     "output_type": "execute_result"
    }
   ],
   "source": [
    "cnf_matrix"
   ]
  },
  {
   "cell_type": "code",
   "execution_count": 37,
   "metadata": {},
   "outputs": [
    {
     "name": "stdout",
     "output_type": "stream",
     "text": [
      "('Prediction Accuracy: ', 0.75407622286686005)\n"
     ]
    }
   ],
   "source": [
    "print('Prediction Accuracy: ', accuracy_score(test['review_helpful'], pred_3))"
   ]
  },
  {
   "cell_type": "code",
   "execution_count": 38,
   "metadata": {},
   "outputs": [
    {
     "name": "stderr",
     "output_type": "stream",
     "text": [
      "Using TensorFlow backend.\n"
     ]
    }
   ],
   "source": [
    "# Start building Deep Learning models from here \n",
    "# A Multilayer Perceptron (MLP) is a feedforward artificial neural network model that maps sets of input data \n",
    "# onto a set of appropriate outputs. An MLP consists of multiple layers of nodes in a directed graph, \n",
    "# with each layer fully connected to the next one. Except for the input nodes, each node is a neuron \n",
    "# (or processing element) with a nonlinear activation function \n",
    "\n",
    "#They can be usefull but are not the best deep models to use with unstructured data as text.\n",
    "\n",
    "\n",
    "from keras.preprocessing import sequence\n",
    "from keras.utils import np_utils\n",
    "from keras.models import Sequential\n",
    "from keras.layers.core import Dense, Dropout, Activation, Lambda\n",
    "from keras.layers.embeddings import Embedding\n",
    "from keras.layers.recurrent import LSTM, SimpleRNN, GRU\n",
    "from keras.preprocessing.text import Tokenizer"
   ]
  },
  {
   "cell_type": "code",
   "execution_count": 39,
   "metadata": {
    "collapsed": true
   },
   "outputs": [],
   "source": [
    "batch_size = 32\n",
    "nb_classes = 2"
   ]
  },
  {
   "cell_type": "code",
   "execution_count": 40,
   "metadata": {
    "collapsed": true
   },
   "outputs": [],
   "source": [
    "vectorizer = TfidfVectorizer( min_df=2, max_df=0.95, max_features = 10000, ngram_range = ( 1, 4),\n",
    "                              sublinear_tf = True )\n",
    "\n",
    "vectorizer = vectorizer.fit(clean_train_reviews)\n",
    "train_features = vectorizer.transform(clean_train_reviews)\n",
    "\n",
    "test_features = vectorizer.transform(clean_test_reviews)"
   ]
  },
  {
   "cell_type": "code",
   "execution_count": 41,
   "metadata": {},
   "outputs": [
    {
     "name": "stdout",
     "output_type": "stream",
     "text": [
      "('X_train shape:', (79974, 10000))\n",
      "('X_test shape:', (19994, 10000))\n",
      "('Y_train shape:', (79974, 2))\n",
      "('Y_test shape:', (19994, 2))\n"
     ]
    }
   ],
   "source": [
    "X_train = train_features.toarray()\n",
    "X_test = test_features.toarray()\n",
    "\n",
    "print('X_train shape:', X_train.shape)\n",
    "print('X_test shape:', X_test.shape)\n",
    "y_train = np.array(train['review_helpful']-1)\n",
    "y_test = np.array(test['review_helpful']-1)\n",
    "\n",
    "Y_train = np_utils.to_categorical(y_train, nb_classes)\n",
    "Y_test = np_utils.to_categorical(y_test, nb_classes)\n",
    "\n",
    "print('Y_train shape:', Y_train.shape)\n",
    "print('Y_test shape:', Y_test.shape)\n",
    "\n",
    "\n",
    "# pre-processing: divide by max and substract mean\n",
    "scale = np.max(X_train)\n",
    "X_train /= scale\n",
    "X_test /= scale\n",
    "\n",
    "mean = np.mean(X_train)\n",
    "X_train -= mean\n",
    "X_test -= mean\n",
    "\n",
    "input_dim = X_train.shape[1]"
   ]
  },
  {
   "cell_type": "code",
   "execution_count": 42,
   "metadata": {
    "collapsed": true
   },
   "outputs": [],
   "source": [
    "# Here's a Deep MLP \n",
    "model = Sequential()\n",
    "model.add(Dense(256, input_dim=input_dim))\n",
    "model.add(Activation('relu')) ## Rectified Linear Unit\n",
    "model.add(Dropout(0.4))\n",
    "model.add(Dense(128))\n",
    "model.add(Activation('relu'))\n",
    "model.add(Dropout(0.2))\n",
    "model.add(Dense(nb_classes))\n",
    "model.add(Activation('softmax'))"
   ]
  },
  {
   "cell_type": "code",
   "execution_count": 43,
   "metadata": {},
   "outputs": [
    {
     "name": "stdout",
     "output_type": "stream",
     "text": [
      "Training...\n",
      "Train on 71976 samples, validate on 7998 samples\n",
      "Epoch 1/5\n",
      "71976/71976 [==============================] - 34s - loss: 0.5262 - acc: 0.7754 - val_loss: 0.5187 - val_acc: 0.7771\n",
      "Epoch 2/5\n",
      "71976/71976 [==============================] - 31s - loss: 0.5209 - acc: 0.7782 - val_loss: 0.5190 - val_acc: 0.7791\n",
      "Epoch 3/5\n",
      "71976/71976 [==============================] - 31s - loss: 0.5158 - acc: 0.7828 - val_loss: 0.5229 - val_acc: 0.7786\n",
      "Epoch 4/5\n",
      "71976/71976 [==============================] - 31s - loss: 0.5065 - acc: 0.7889 - val_loss: 0.5447 - val_acc: 0.7773\n",
      "Epoch 5/5\n",
      "71976/71976 [==============================] - 31s - loss: 0.4947 - acc: 0.7991 - val_loss: 0.5616 - val_acc: 0.7741\n"
     ]
    },
    {
     "data": {
      "text/plain": [
       "<keras.callbacks.History at 0x7fbb6de00450>"
      ]
     },
     "execution_count": 43,
     "metadata": {},
     "output_type": "execute_result"
    }
   ],
   "source": [
    "# we'll use categorical xent for the loss, and RMSprop as the optimizer\n",
    "model.compile(loss='categorical_crossentropy', optimizer='rmsprop',metrics=['accuracy'])\n",
    "\n",
    "print(\"Training...\")\n",
    "model.fit(X_train, Y_train, nb_epoch=5, batch_size=16, validation_split=0.1)"
   ]
  },
  {
   "cell_type": "code",
   "execution_count": 44,
   "metadata": {},
   "outputs": [
    {
     "name": "stdout",
     "output_type": "stream",
     "text": [
      "Generating test predictions...\n",
      "Done..\n"
     ]
    }
   ],
   "source": [
    "print(\"Generating test predictions...\")\n",
    "pred_mlp = model.predict_classes(X_test, verbose=0)\n",
    "print(\"Done..\")"
   ]
  },
  {
   "cell_type": "code",
   "execution_count": 45,
   "metadata": {},
   "outputs": [
    {
     "data": {
      "text/plain": [
       "array([0, 0, 1, ..., 0, 0, 0])"
      ]
     },
     "execution_count": 45,
     "metadata": {},
     "output_type": "execute_result"
    }
   ],
   "source": [
    "pred_mlp"
   ]
  },
  {
   "cell_type": "code",
   "execution_count": 46,
   "metadata": {},
   "outputs": [
    {
     "name": "stdout",
     "output_type": "stream",
     "text": [
      "('Prediction Accuracy of MLP model on test data: ', 0.75427628288486548)\n"
     ]
    }
   ],
   "source": [
    "print('Prediction Accuracy of MLP model on test data: ', accuracy_score(test['review_helpful'], pred_mlp+1))\n",
    "#We can see it has a better accuracy than RF on test data"
   ]
  },
  {
   "cell_type": "code",
   "execution_count": 47,
   "metadata": {
    "collapsed": true
   },
   "outputs": [],
   "source": [
    "#Lets build a model using LSTM \n",
    "from keras.layers import LSTM"
   ]
  },
  {
   "cell_type": "code",
   "execution_count": 48,
   "metadata": {
    "collapsed": true
   },
   "outputs": [],
   "source": [
    "# While tuning these paramters we should be mindful of algorithm execution time as increasing features and embedding_dim\n",
    "# can slow down model fit significantly\n",
    "\n",
    "max_features = 20000\n",
    "EMBEDDING_DIM = 500\n",
    "VALIDATION_SPLIT = 0.1\n",
    "maxlen = 500\n",
    "batch_size = 32\n",
    "nb_classes = 2\n",
    "\n",
    "##We pass 10000 as the first argument, which is the size of our vocabulary \n",
    "##128 as the second argument, which means that each token can be expanded to a vector of size 128.\n",
    "## We give it an input_length of 100, which is the length of each of our sequences.\n"
   ]
  },
  {
   "cell_type": "code",
   "execution_count": 49,
   "metadata": {
    "collapsed": true
   },
   "outputs": [],
   "source": [
    "# vectorize the text samples into a 2D integer tensor\n",
    "tokenizer = Tokenizer(nb_words=max_features)\n",
    "tokenizer.fit_on_texts(train['reviewText'])\n",
    "sequences_train = tokenizer.texts_to_sequences(train['reviewText'])\n",
    "sequences_test = tokenizer.texts_to_sequences(test['reviewText'])"
   ]
  },
  {
   "cell_type": "code",
   "execution_count": null,
   "metadata": {
    "collapsed": true
   },
   "outputs": [],
   "source": [
    "from nltk."
   ]
  },
  {
   "cell_type": "code",
   "execution_count": 50,
   "metadata": {},
   "outputs": [
    {
     "name": "stdout",
     "output_type": "stream",
     "text": [
      "Pad sequences (samples x time)\n",
      "('X_train shape:', (79974, 500))\n",
      "('X_test shape:', (19994, 500))\n",
      "('Y_train shape:', (79974, 2))\n",
      "('Y_test shape:', (19994, 2))\n"
     ]
    }
   ],
   "source": [
    "print('Pad sequences (samples x time)')\n",
    "X_train = sequence.pad_sequences(sequences_train, maxlen=maxlen)\n",
    "X_test = sequence.pad_sequences(sequences_test, maxlen=maxlen)\n",
    "\n",
    "y_train = np.array(train['review_helpful']-1)\n",
    "y_test = np.array(test['review_helpful']-1)\n",
    "\n",
    "Y_train = np_utils.to_categorical(y_train, nb_classes)\n",
    "Y_test = np_utils.to_categorical(y_test, nb_classes)\n",
    "\n",
    "\n",
    "print('X_train shape:', X_train.shape)\n",
    "print('X_test shape:', X_test.shape)\n",
    "\n",
    "print('Y_train shape:', Y_train.shape)\n",
    "print('Y_test shape:', Y_test.shape)\n",
    "\n",
    "\n",
    "\n",
    "# The embedding layer in text mining is really important \n",
    "# Indeed, it is a way to map our text input into a space (a dictionary of dimension here 128)\n",
    "# The layer is trained through iterations (epochs) to have a better weights for the dictionary that \n",
    "# allow to minimize the global error of the network\n",
    "\n",
    "# Skip-gram, CBOW, and GloVe (or any other word2vec variant) are pre-trained word embeddings which can be set \n",
    "# as the weight of an embedding layer\n",
    "\n",
    "# If the weight of this layer (generally the first layer of the network) \n",
    "# is not initialized by these pre-trained vectors, the model/network itself would assign random weights and will \n",
    "# learn the embeddings (i.e. weights) on the fly"
   ]
  },
  {
   "cell_type": "code",
   "execution_count": 51,
   "metadata": {},
   "outputs": [
    {
     "name": "stdout",
     "output_type": "stream",
     "text": [
      "Building model...\n",
      "Training Model...\n"
     ]
    },
    {
     "name": "stderr",
     "output_type": "stream",
     "text": [
      "/usr/local/lib/python2.7/dist-packages/tensorflow/python/ops/gradients_impl.py:93: UserWarning: Converting sparse IndexedSlices to a dense Tensor of unknown shape. This may consume a large amount of memory.\n",
      "  \"Converting sparse IndexedSlices to a dense Tensor of unknown shape. \"\n"
     ]
    },
    {
     "name": "stdout",
     "output_type": "stream",
     "text": [
      "Train on 71976 samples, validate on 7998 samples\n",
      "Epoch 1/1\n",
      "71976/71976 [==============================] - 1737s - loss: 0.5264 - acc: 0.7739 - val_loss: 0.5148 - val_acc: 0.7748\n"
     ]
    },
    {
     "data": {
      "text/plain": [
       "<keras.callbacks.History at 0x7fbb59a39a50>"
      ]
     },
     "execution_count": 51,
     "metadata": {},
     "output_type": "execute_result"
    }
   ],
   "source": [
    "# This runs relatively slowly and takes around 30 min as significant computation is required\n",
    "print('Building model...')\n",
    "model = Sequential()\n",
    "model.add(Embedding(max_features, 128, dropout=0.2))\n",
    "model.add(LSTM(128, dropout_W=0.2, dropout_U=0.2)) \n",
    "model.add(Dense(nb_classes))\n",
    "model.add(Activation('softmax'))\n",
    "\n",
    "model.compile(loss='binary_crossentropy',\n",
    "              optimizer='adam',\n",
    "              metrics=['accuracy'])\n",
    "\n",
    "print(\"Training Model...\")\n",
    "\n",
    "model.fit(X_train, Y_train, batch_size=batch_size, nb_epoch=1,validation_split=0.1)"
   ]
  },
  {
   "cell_type": "code",
   "execution_count": 52,
   "metadata": {},
   "outputs": [
    {
     "name": "stdout",
     "output_type": "stream",
     "text": [
      "19994/19994 [==============================] - 99s    \n",
      "('Test score:', 0.52248871346718195)\n",
      "('Test accuracy:', 0.77203160950073157)\n",
      "Generating test predictions...\n",
      "Done Generating predictions\n"
     ]
    }
   ],
   "source": [
    "# Scoring and prediction takes around 10 min \n",
    "score, acc = model.evaluate(X_test, Y_test,\n",
    "                            batch_size=batch_size)\n",
    "print('Test score:', score)\n",
    "print('Test accuracy:', acc)\n",
    "\n",
    "\n",
    "print(\"Generating test predictions...\")\n",
    "pred_lstm = model.predict_classes(X_test, verbose=0)\n",
    "print(\"Done Generating predictions\")\n",
    "# We see that LSTM has higher accuracy on test data "
   ]
  },
  {
   "cell_type": "code",
   "execution_count": 53,
   "metadata": {},
   "outputs": [
    {
     "data": {
      "text/plain": [
       "array([0, 0, 0, 0, 0, 0, 0, 0, 0])"
      ]
     },
     "execution_count": 53,
     "metadata": {},
     "output_type": "execute_result"
    }
   ],
   "source": [
    "#Take a peek at predictions from our model \n",
    "pred_lstm[1:10]"
   ]
  },
  {
   "cell_type": "code",
   "execution_count": 54,
   "metadata": {
    "collapsed": true
   },
   "outputs": [],
   "source": [
    "#Create a dataframe from our predictions numpy array as we will now use this data for making our recommendations\n",
    "# The variable name for helpful(0) or not_helpful review(1) is named as 'Predicted_Helpful'\n",
    "df1=pd.DataFrame(pred_lstm,columns=['Predicted_Helpful'])"
   ]
  },
  {
   "cell_type": "code",
   "execution_count": 55,
   "metadata": {},
   "outputs": [
    {
     "data": {
      "text/plain": [
       "Predicted_Helpful    19994\n",
       "dtype: int64"
      ]
     },
     "execution_count": 55,
     "metadata": {},
     "output_type": "execute_result"
    }
   ],
   "source": [
    "## Total records in test data \n",
    "df1.count()"
   ]
  },
  {
   "cell_type": "code",
   "execution_count": 56,
   "metadata": {
    "collapsed": true
   },
   "outputs": [],
   "source": [
    "#Reset the index so that concatenation can be done properly between predictions dataframe and test dataframe\n",
    "test_reset= test.reset_index(drop=True)"
   ]
  },
  {
   "cell_type": "code",
   "execution_count": 57,
   "metadata": {},
   "outputs": [
    {
     "data": {
      "text/html": [
       "<div>\n",
       "<style>\n",
       "    .dataframe thead tr:only-child th {\n",
       "        text-align: right;\n",
       "    }\n",
       "\n",
       "    .dataframe thead th {\n",
       "        text-align: left;\n",
       "    }\n",
       "\n",
       "    .dataframe tbody tr th {\n",
       "        vertical-align: top;\n",
       "    }\n",
       "</style>\n",
       "<table border=\"1\" class=\"dataframe\">\n",
       "  <thead>\n",
       "    <tr style=\"text-align: right;\">\n",
       "      <th></th>\n",
       "      <th>reviewerID</th>\n",
       "      <th>asin</th>\n",
       "      <th>reviewerName</th>\n",
       "      <th>helpful</th>\n",
       "      <th>reviewText</th>\n",
       "      <th>overall</th>\n",
       "      <th>summary</th>\n",
       "      <th>unixReviewTime</th>\n",
       "      <th>reviewTime</th>\n",
       "      <th>word_length</th>\n",
       "      <th>sentence_length</th>\n",
       "      <th>helpful_votes</th>\n",
       "      <th>overall_votes</th>\n",
       "      <th>percent_helpful</th>\n",
       "      <th>review_helpful</th>\n",
       "    </tr>\n",
       "  </thead>\n",
       "  <tbody>\n",
       "    <tr>\n",
       "      <th>0</th>\n",
       "      <td>A24UBOCOVCUZTZ</td>\n",
       "      <td>B0027AGPV4</td>\n",
       "      <td>LAUGHTERWORKSLIKEMEDICINE</td>\n",
       "      <td>[0, 0]</td>\n",
       "      <td>I HAVE REPLACED 2 OTHER CHARGERS. THIS ONE IS ...</td>\n",
       "      <td>5.0</td>\n",
       "      <td>SAMSUNG BLUETOOTH  CHARGER</td>\n",
       "      <td>1323907200</td>\n",
       "      <td>12 15, 2011</td>\n",
       "      <td>28.0</td>\n",
       "      <td>4.0</td>\n",
       "      <td>1</td>\n",
       "      <td>2</td>\n",
       "      <td>50.0</td>\n",
       "      <td>1</td>\n",
       "    </tr>\n",
       "    <tr>\n",
       "      <th>1</th>\n",
       "      <td>A1ABCV2ME27PV</td>\n",
       "      <td>B002BH3I9U</td>\n",
       "      <td>David Stephenson</td>\n",
       "      <td>[0, 0]</td>\n",
       "      <td>This is a replacement for a similar item.  Thi...</td>\n",
       "      <td>5.0</td>\n",
       "      <td>L</td>\n",
       "      <td>1359590400</td>\n",
       "      <td>01 31, 2013</td>\n",
       "      <td>41.0</td>\n",
       "      <td>4.0</td>\n",
       "      <td>1</td>\n",
       "      <td>2</td>\n",
       "      <td>50.0</td>\n",
       "      <td>1</td>\n",
       "    </tr>\n",
       "    <tr>\n",
       "      <th>2</th>\n",
       "      <td>A1RZX2BSQW014G</td>\n",
       "      <td>B0021L9HL4</td>\n",
       "      <td>E. Leichtman</td>\n",
       "      <td>[2, 2]</td>\n",
       "      <td>UPDATE:Tons of problems with the touch screen ...</td>\n",
       "      <td>2.0</td>\n",
       "      <td>I Thought this Would be a Perfect Phone</td>\n",
       "      <td>1246060800</td>\n",
       "      <td>06 27, 2009</td>\n",
       "      <td>181.0</td>\n",
       "      <td>8.0</td>\n",
       "      <td>3</td>\n",
       "      <td>4</td>\n",
       "      <td>75.0</td>\n",
       "      <td>0</td>\n",
       "    </tr>\n",
       "  </tbody>\n",
       "</table>\n",
       "</div>"
      ],
      "text/plain": [
       "       reviewerID        asin               reviewerName helpful  \\\n",
       "0  A24UBOCOVCUZTZ  B0027AGPV4  LAUGHTERWORKSLIKEMEDICINE  [0, 0]   \n",
       "1   A1ABCV2ME27PV  B002BH3I9U           David Stephenson  [0, 0]   \n",
       "2  A1RZX2BSQW014G  B0021L9HL4               E. Leichtman  [2, 2]   \n",
       "\n",
       "                                          reviewText  overall  \\\n",
       "0  I HAVE REPLACED 2 OTHER CHARGERS. THIS ONE IS ...      5.0   \n",
       "1  This is a replacement for a similar item.  Thi...      5.0   \n",
       "2  UPDATE:Tons of problems with the touch screen ...      2.0   \n",
       "\n",
       "                                   summary  unixReviewTime   reviewTime  \\\n",
       "0               SAMSUNG BLUETOOTH  CHARGER      1323907200  12 15, 2011   \n",
       "1                                        L      1359590400  01 31, 2013   \n",
       "2  I Thought this Would be a Perfect Phone      1246060800  06 27, 2009   \n",
       "\n",
       "   word_length  sentence_length  helpful_votes  overall_votes  \\\n",
       "0         28.0              4.0              1              2   \n",
       "1         41.0              4.0              1              2   \n",
       "2        181.0              8.0              3              4   \n",
       "\n",
       "   percent_helpful  review_helpful  \n",
       "0             50.0               1  \n",
       "1             50.0               1  \n",
       "2             75.0               0  "
      ]
     },
     "execution_count": 57,
     "metadata": {},
     "output_type": "execute_result"
    }
   ],
   "source": [
    "test_reset.head(3)"
   ]
  },
  {
   "cell_type": "code",
   "execution_count": 58,
   "metadata": {
    "collapsed": true
   },
   "outputs": [],
   "source": [
    "merged1 = pd.concat([test_reset,df1 ], axis=1)"
   ]
  },
  {
   "cell_type": "code",
   "execution_count": 59,
   "metadata": {},
   "outputs": [
    {
     "data": {
      "text/plain": [
       "reviewerID           19994\n",
       "asin                 19994\n",
       "reviewerName         19943\n",
       "helpful              19994\n",
       "reviewText           19994\n",
       "overall              19994\n",
       "summary              19992\n",
       "unixReviewTime       19994\n",
       "reviewTime           19994\n",
       "word_length          19994\n",
       "sentence_length      19994\n",
       "helpful_votes        19994\n",
       "overall_votes        19994\n",
       "percent_helpful      19994\n",
       "review_helpful       19994\n",
       "Predicted_Helpful    19994\n",
       "dtype: int64"
      ]
     },
     "execution_count": 59,
     "metadata": {},
     "output_type": "execute_result"
    }
   ],
   "source": [
    "merged1.count()"
   ]
  },
  {
   "cell_type": "code",
   "execution_count": 60,
   "metadata": {},
   "outputs": [
    {
     "data": {
      "text/html": [
       "<div>\n",
       "<style>\n",
       "    .dataframe thead tr:only-child th {\n",
       "        text-align: right;\n",
       "    }\n",
       "\n",
       "    .dataframe thead th {\n",
       "        text-align: left;\n",
       "    }\n",
       "\n",
       "    .dataframe tbody tr th {\n",
       "        vertical-align: top;\n",
       "    }\n",
       "</style>\n",
       "<table border=\"1\" class=\"dataframe\">\n",
       "  <thead>\n",
       "    <tr style=\"text-align: right;\">\n",
       "      <th></th>\n",
       "      <th>reviewerID</th>\n",
       "      <th>asin</th>\n",
       "      <th>reviewerName</th>\n",
       "      <th>helpful</th>\n",
       "      <th>reviewText</th>\n",
       "      <th>overall</th>\n",
       "      <th>summary</th>\n",
       "      <th>unixReviewTime</th>\n",
       "      <th>reviewTime</th>\n",
       "      <th>word_length</th>\n",
       "      <th>sentence_length</th>\n",
       "      <th>helpful_votes</th>\n",
       "      <th>overall_votes</th>\n",
       "      <th>percent_helpful</th>\n",
       "      <th>review_helpful</th>\n",
       "      <th>Predicted_Helpful</th>\n",
       "    </tr>\n",
       "  </thead>\n",
       "  <tbody>\n",
       "    <tr>\n",
       "      <th>0</th>\n",
       "      <td>A24UBOCOVCUZTZ</td>\n",
       "      <td>B0027AGPV4</td>\n",
       "      <td>LAUGHTERWORKSLIKEMEDICINE</td>\n",
       "      <td>[0, 0]</td>\n",
       "      <td>I HAVE REPLACED 2 OTHER CHARGERS. THIS ONE IS ...</td>\n",
       "      <td>5.0</td>\n",
       "      <td>SAMSUNG BLUETOOTH  CHARGER</td>\n",
       "      <td>1323907200</td>\n",
       "      <td>12 15, 2011</td>\n",
       "      <td>28.0</td>\n",
       "      <td>4.0</td>\n",
       "      <td>1</td>\n",
       "      <td>2</td>\n",
       "      <td>50.0</td>\n",
       "      <td>1</td>\n",
       "      <td>0</td>\n",
       "    </tr>\n",
       "    <tr>\n",
       "      <th>1</th>\n",
       "      <td>A1ABCV2ME27PV</td>\n",
       "      <td>B002BH3I9U</td>\n",
       "      <td>David Stephenson</td>\n",
       "      <td>[0, 0]</td>\n",
       "      <td>This is a replacement for a similar item.  Thi...</td>\n",
       "      <td>5.0</td>\n",
       "      <td>L</td>\n",
       "      <td>1359590400</td>\n",
       "      <td>01 31, 2013</td>\n",
       "      <td>41.0</td>\n",
       "      <td>4.0</td>\n",
       "      <td>1</td>\n",
       "      <td>2</td>\n",
       "      <td>50.0</td>\n",
       "      <td>1</td>\n",
       "      <td>0</td>\n",
       "    </tr>\n",
       "  </tbody>\n",
       "</table>\n",
       "</div>"
      ],
      "text/plain": [
       "       reviewerID        asin               reviewerName helpful  \\\n",
       "0  A24UBOCOVCUZTZ  B0027AGPV4  LAUGHTERWORKSLIKEMEDICINE  [0, 0]   \n",
       "1   A1ABCV2ME27PV  B002BH3I9U           David Stephenson  [0, 0]   \n",
       "\n",
       "                                          reviewText  overall  \\\n",
       "0  I HAVE REPLACED 2 OTHER CHARGERS. THIS ONE IS ...      5.0   \n",
       "1  This is a replacement for a similar item.  Thi...      5.0   \n",
       "\n",
       "                      summary  unixReviewTime   reviewTime  word_length  \\\n",
       "0  SAMSUNG BLUETOOTH  CHARGER      1323907200  12 15, 2011         28.0   \n",
       "1                           L      1359590400  01 31, 2013         41.0   \n",
       "\n",
       "   sentence_length  helpful_votes  overall_votes  percent_helpful  \\\n",
       "0              4.0              1              2             50.0   \n",
       "1              4.0              1              2             50.0   \n",
       "\n",
       "   review_helpful  Predicted_Helpful  \n",
       "0               1                  0  \n",
       "1               1                  0  "
      ]
     },
     "execution_count": 60,
     "metadata": {},
     "output_type": "execute_result"
    }
   ],
   "source": [
    "merged1.head(2)"
   ]
  },
  {
   "cell_type": "code",
   "execution_count": 61,
   "metadata": {},
   "outputs": [
    {
     "data": {
      "text/plain": [
       "reviewerID           19994\n",
       "asin                 19994\n",
       "reviewerName         19943\n",
       "helpful              19994\n",
       "reviewText           19994\n",
       "overall              19994\n",
       "summary              19992\n",
       "unixReviewTime       19994\n",
       "reviewTime           19994\n",
       "word_length          19994\n",
       "sentence_length      19994\n",
       "helpful_votes        19994\n",
       "overall_votes        19994\n",
       "percent_helpful      19994\n",
       "review_helpful       19994\n",
       "Predicted_Helpful    19994\n",
       "dtype: int64"
      ]
     },
     "execution_count": 61,
     "metadata": {},
     "output_type": "execute_result"
    }
   ],
   "source": [
    "merged1.count()"
   ]
  },
  {
   "cell_type": "code",
   "execution_count": 62,
   "metadata": {
    "collapsed": true
   },
   "outputs": [],
   "source": [
    "##Make a copy of this dataset to be used as input for recommendation engine\n",
    "df_withpred=merged1"
   ]
  },
  {
   "cell_type": "code",
   "execution_count": 63,
   "metadata": {},
   "outputs": [
    {
     "data": {
      "text/html": [
       "<div>\n",
       "<style>\n",
       "    .dataframe thead tr:only-child th {\n",
       "        text-align: right;\n",
       "    }\n",
       "\n",
       "    .dataframe thead th {\n",
       "        text-align: left;\n",
       "    }\n",
       "\n",
       "    .dataframe tbody tr th {\n",
       "        vertical-align: top;\n",
       "    }\n",
       "</style>\n",
       "<table border=\"1\" class=\"dataframe\">\n",
       "  <thead>\n",
       "    <tr style=\"text-align: right;\">\n",
       "      <th></th>\n",
       "      <th>reviewerID</th>\n",
       "      <th>asin</th>\n",
       "      <th>reviewerName</th>\n",
       "      <th>helpful</th>\n",
       "      <th>reviewText</th>\n",
       "      <th>overall</th>\n",
       "      <th>summary</th>\n",
       "      <th>unixReviewTime</th>\n",
       "      <th>reviewTime</th>\n",
       "      <th>word_length</th>\n",
       "      <th>sentence_length</th>\n",
       "      <th>helpful_votes</th>\n",
       "      <th>overall_votes</th>\n",
       "      <th>percent_helpful</th>\n",
       "      <th>review_helpful</th>\n",
       "      <th>Predicted_Helpful</th>\n",
       "    </tr>\n",
       "  </thead>\n",
       "  <tbody>\n",
       "    <tr>\n",
       "      <th>0</th>\n",
       "      <td>A24UBOCOVCUZTZ</td>\n",
       "      <td>B0027AGPV4</td>\n",
       "      <td>LAUGHTERWORKSLIKEMEDICINE</td>\n",
       "      <td>[0, 0]</td>\n",
       "      <td>I HAVE REPLACED 2 OTHER CHARGERS. THIS ONE IS ...</td>\n",
       "      <td>5.0</td>\n",
       "      <td>SAMSUNG BLUETOOTH  CHARGER</td>\n",
       "      <td>1323907200</td>\n",
       "      <td>12 15, 2011</td>\n",
       "      <td>28.0</td>\n",
       "      <td>4.0</td>\n",
       "      <td>1</td>\n",
       "      <td>2</td>\n",
       "      <td>50.0</td>\n",
       "      <td>1</td>\n",
       "      <td>0</td>\n",
       "    </tr>\n",
       "    <tr>\n",
       "      <th>1</th>\n",
       "      <td>A1ABCV2ME27PV</td>\n",
       "      <td>B002BH3I9U</td>\n",
       "      <td>David Stephenson</td>\n",
       "      <td>[0, 0]</td>\n",
       "      <td>This is a replacement for a similar item.  Thi...</td>\n",
       "      <td>5.0</td>\n",
       "      <td>L</td>\n",
       "      <td>1359590400</td>\n",
       "      <td>01 31, 2013</td>\n",
       "      <td>41.0</td>\n",
       "      <td>4.0</td>\n",
       "      <td>1</td>\n",
       "      <td>2</td>\n",
       "      <td>50.0</td>\n",
       "      <td>1</td>\n",
       "      <td>0</td>\n",
       "    </tr>\n",
       "    <tr>\n",
       "      <th>2</th>\n",
       "      <td>A1RZX2BSQW014G</td>\n",
       "      <td>B0021L9HL4</td>\n",
       "      <td>E. Leichtman</td>\n",
       "      <td>[2, 2]</td>\n",
       "      <td>UPDATE:Tons of problems with the touch screen ...</td>\n",
       "      <td>2.0</td>\n",
       "      <td>I Thought this Would be a Perfect Phone</td>\n",
       "      <td>1246060800</td>\n",
       "      <td>06 27, 2009</td>\n",
       "      <td>181.0</td>\n",
       "      <td>8.0</td>\n",
       "      <td>3</td>\n",
       "      <td>4</td>\n",
       "      <td>75.0</td>\n",
       "      <td>0</td>\n",
       "      <td>0</td>\n",
       "    </tr>\n",
       "    <tr>\n",
       "      <th>3</th>\n",
       "      <td>A2O290QHZIIWJ</td>\n",
       "      <td>B001UO651S</td>\n",
       "      <td>vani711</td>\n",
       "      <td>[0, 0]</td>\n",
       "      <td>I was skeptical about buying these screen cove...</td>\n",
       "      <td>4.0</td>\n",
       "      <td>Great price and they work!</td>\n",
       "      <td>1355270400</td>\n",
       "      <td>12 12, 2012</td>\n",
       "      <td>65.0</td>\n",
       "      <td>2.0</td>\n",
       "      <td>1</td>\n",
       "      <td>2</td>\n",
       "      <td>50.0</td>\n",
       "      <td>1</td>\n",
       "      <td>0</td>\n",
       "    </tr>\n",
       "  </tbody>\n",
       "</table>\n",
       "</div>"
      ],
      "text/plain": [
       "       reviewerID        asin               reviewerName helpful  \\\n",
       "0  A24UBOCOVCUZTZ  B0027AGPV4  LAUGHTERWORKSLIKEMEDICINE  [0, 0]   \n",
       "1   A1ABCV2ME27PV  B002BH3I9U           David Stephenson  [0, 0]   \n",
       "2  A1RZX2BSQW014G  B0021L9HL4               E. Leichtman  [2, 2]   \n",
       "3   A2O290QHZIIWJ  B001UO651S                    vani711  [0, 0]   \n",
       "\n",
       "                                          reviewText  overall  \\\n",
       "0  I HAVE REPLACED 2 OTHER CHARGERS. THIS ONE IS ...      5.0   \n",
       "1  This is a replacement for a similar item.  Thi...      5.0   \n",
       "2  UPDATE:Tons of problems with the touch screen ...      2.0   \n",
       "3  I was skeptical about buying these screen cove...      4.0   \n",
       "\n",
       "                                   summary  unixReviewTime   reviewTime  \\\n",
       "0               SAMSUNG BLUETOOTH  CHARGER      1323907200  12 15, 2011   \n",
       "1                                        L      1359590400  01 31, 2013   \n",
       "2  I Thought this Would be a Perfect Phone      1246060800  06 27, 2009   \n",
       "3               Great price and they work!      1355270400  12 12, 2012   \n",
       "\n",
       "   word_length  sentence_length  helpful_votes  overall_votes  \\\n",
       "0         28.0              4.0              1              2   \n",
       "1         41.0              4.0              1              2   \n",
       "2        181.0              8.0              3              4   \n",
       "3         65.0              2.0              1              2   \n",
       "\n",
       "   percent_helpful  review_helpful  Predicted_Helpful  \n",
       "0             50.0               1                  0  \n",
       "1             50.0               1                  0  \n",
       "2             75.0               0                  0  \n",
       "3             50.0               1                  0  "
      ]
     },
     "execution_count": 63,
     "metadata": {},
     "output_type": "execute_result"
    }
   ],
   "source": [
    "df_withpred.head(4)"
   ]
  },
  {
   "cell_type": "code",
   "execution_count": 64,
   "metadata": {
    "collapsed": true
   },
   "outputs": [],
   "source": [
    "# We will use all three values -> the overall star rating,  review_helpful and predicted_helpful  values \n",
    "# to arrive at a final rating score(Between 1 and 5) which will help us in making recommendations to the user\n",
    "\n",
    "# We will assign the following weightages to each of these variables and then standardize the final score to be\n",
    "# between 1 and 5 \n",
    "\n",
    "# Predicted_helpful = 0.6 (0 or 1 )\n",
    "# review_helpful = 0.3  (0 or 1)\n",
    "# overall = 0.1 (1 to 5)\n"
   ]
  },
  {
   "cell_type": "code",
   "execution_count": 65,
   "metadata": {
    "collapsed": true
   },
   "outputs": [],
   "source": [
    "# The logic of standardizing is as mentioned below  \n",
    "\n",
    "# NewValue = (((OldValue - OldMin) * (NewMax - NewMin)) / (OldMax - OldMin)) + NewMin\n",
    "# Translate the sum of (weight1 * Predicted_helpful + weight2 * review_helpful + weight3 * overall ) to a number between 1 to 5\n",
    "# and treat this as average rating of the product \n",
    "\n",
    "# df_withpred['Predicted_Helpful']*0.weight1+df_withpred['review_helpful'] *0.weight2 + df_withpred['overall']*0.weight3\n",
    "\n",
    "# These weights can be tuned after discussion with Business and studying the past behaviour of consumers to see what \n",
    "# combination yields best results\n",
    "\n",
    "# For this exercise we experimented with mutliple combination of these weights to see which recommendations would make \n",
    "# more sense to the user for higher conversion ratio"
   ]
  },
  {
   "cell_type": "code",
   "execution_count": 66,
   "metadata": {
    "collapsed": true
   },
   "outputs": [],
   "source": [
    "df_withpred['average_rating']= np.nan_to_num((((df_withpred['Predicted_Helpful']* 0.6 +df_withpred['review_helpful'] * 0.35 + \n",
    "                                  df_withpred['overall']*0.05)\n",
    "                                  -0.05) *(5-1)) / (1.2-0.05)) +1"
   ]
  },
  {
   "cell_type": "code",
   "execution_count": 67,
   "metadata": {},
   "outputs": [
    {
     "data": {
      "text/plain": [
       "count    19994.000000\n",
       "mean         2.402899\n",
       "std          0.581117\n",
       "min          1.000000\n",
       "25%          2.217391\n",
       "50%          2.565217\n",
       "75%          2.913043\n",
       "max          2.913043\n",
       "Name: average_rating, dtype: float64"
      ]
     },
     "execution_count": 67,
     "metadata": {},
     "output_type": "execute_result"
    }
   ],
   "source": [
    "df_withpred['average_rating'].describe()"
   ]
  },
  {
   "cell_type": "code",
   "execution_count": 68,
   "metadata": {},
   "outputs": [
    {
     "data": {
      "text/plain": [
       "reviewerID           19994\n",
       "asin                 19994\n",
       "reviewerName         19943\n",
       "helpful              19994\n",
       "reviewText           19994\n",
       "overall              19994\n",
       "summary              19992\n",
       "unixReviewTime       19994\n",
       "reviewTime           19994\n",
       "word_length          19994\n",
       "sentence_length      19994\n",
       "helpful_votes        19994\n",
       "overall_votes        19994\n",
       "percent_helpful      19994\n",
       "review_helpful       19994\n",
       "Predicted_Helpful    19994\n",
       "average_rating       19994\n",
       "dtype: int64"
      ]
     },
     "execution_count": 68,
     "metadata": {},
     "output_type": "execute_result"
    }
   ],
   "source": [
    "df_withpred.count()"
   ]
  },
  {
   "cell_type": "code",
   "execution_count": 69,
   "metadata": {
    "collapsed": true
   },
   "outputs": [],
   "source": [
    "#Round off the values to one place of decimal\n",
    "df_withpred['average_rating'] = df_withpred['average_rating'].apply(lambda x: round(x,1))"
   ]
  },
  {
   "cell_type": "code",
   "execution_count": 70,
   "metadata": {},
   "outputs": [
    {
     "data": {
      "text/html": [
       "<div>\n",
       "<style>\n",
       "    .dataframe thead tr:only-child th {\n",
       "        text-align: right;\n",
       "    }\n",
       "\n",
       "    .dataframe thead th {\n",
       "        text-align: left;\n",
       "    }\n",
       "\n",
       "    .dataframe tbody tr th {\n",
       "        vertical-align: top;\n",
       "    }\n",
       "</style>\n",
       "<table border=\"1\" class=\"dataframe\">\n",
       "  <thead>\n",
       "    <tr style=\"text-align: right;\">\n",
       "      <th></th>\n",
       "      <th>reviewerID</th>\n",
       "      <th>asin</th>\n",
       "      <th>reviewerName</th>\n",
       "      <th>helpful</th>\n",
       "      <th>reviewText</th>\n",
       "      <th>overall</th>\n",
       "      <th>summary</th>\n",
       "      <th>unixReviewTime</th>\n",
       "      <th>reviewTime</th>\n",
       "      <th>word_length</th>\n",
       "      <th>sentence_length</th>\n",
       "      <th>helpful_votes</th>\n",
       "      <th>overall_votes</th>\n",
       "      <th>percent_helpful</th>\n",
       "      <th>review_helpful</th>\n",
       "      <th>Predicted_Helpful</th>\n",
       "      <th>average_rating</th>\n",
       "    </tr>\n",
       "  </thead>\n",
       "  <tbody>\n",
       "    <tr>\n",
       "      <th>0</th>\n",
       "      <td>A24UBOCOVCUZTZ</td>\n",
       "      <td>B0027AGPV4</td>\n",
       "      <td>LAUGHTERWORKSLIKEMEDICINE</td>\n",
       "      <td>[0, 0]</td>\n",
       "      <td>I HAVE REPLACED 2 OTHER CHARGERS. THIS ONE IS ...</td>\n",
       "      <td>5.0</td>\n",
       "      <td>SAMSUNG BLUETOOTH  CHARGER</td>\n",
       "      <td>1323907200</td>\n",
       "      <td>12 15, 2011</td>\n",
       "      <td>28.0</td>\n",
       "      <td>4.0</td>\n",
       "      <td>1</td>\n",
       "      <td>2</td>\n",
       "      <td>50.0</td>\n",
       "      <td>1</td>\n",
       "      <td>0</td>\n",
       "      <td>2.9</td>\n",
       "    </tr>\n",
       "    <tr>\n",
       "      <th>1</th>\n",
       "      <td>A1ABCV2ME27PV</td>\n",
       "      <td>B002BH3I9U</td>\n",
       "      <td>David Stephenson</td>\n",
       "      <td>[0, 0]</td>\n",
       "      <td>This is a replacement for a similar item.  Thi...</td>\n",
       "      <td>5.0</td>\n",
       "      <td>L</td>\n",
       "      <td>1359590400</td>\n",
       "      <td>01 31, 2013</td>\n",
       "      <td>41.0</td>\n",
       "      <td>4.0</td>\n",
       "      <td>1</td>\n",
       "      <td>2</td>\n",
       "      <td>50.0</td>\n",
       "      <td>1</td>\n",
       "      <td>0</td>\n",
       "      <td>2.9</td>\n",
       "    </tr>\n",
       "    <tr>\n",
       "      <th>2</th>\n",
       "      <td>A1RZX2BSQW014G</td>\n",
       "      <td>B0021L9HL4</td>\n",
       "      <td>E. Leichtman</td>\n",
       "      <td>[2, 2]</td>\n",
       "      <td>UPDATE:Tons of problems with the touch screen ...</td>\n",
       "      <td>2.0</td>\n",
       "      <td>I Thought this Would be a Perfect Phone</td>\n",
       "      <td>1246060800</td>\n",
       "      <td>06 27, 2009</td>\n",
       "      <td>181.0</td>\n",
       "      <td>8.0</td>\n",
       "      <td>3</td>\n",
       "      <td>4</td>\n",
       "      <td>75.0</td>\n",
       "      <td>0</td>\n",
       "      <td>0</td>\n",
       "      <td>1.2</td>\n",
       "    </tr>\n",
       "    <tr>\n",
       "      <th>3</th>\n",
       "      <td>A2O290QHZIIWJ</td>\n",
       "      <td>B001UO651S</td>\n",
       "      <td>vani711</td>\n",
       "      <td>[0, 0]</td>\n",
       "      <td>I was skeptical about buying these screen cove...</td>\n",
       "      <td>4.0</td>\n",
       "      <td>Great price and they work!</td>\n",
       "      <td>1355270400</td>\n",
       "      <td>12 12, 2012</td>\n",
       "      <td>65.0</td>\n",
       "      <td>2.0</td>\n",
       "      <td>1</td>\n",
       "      <td>2</td>\n",
       "      <td>50.0</td>\n",
       "      <td>1</td>\n",
       "      <td>0</td>\n",
       "      <td>2.7</td>\n",
       "    </tr>\n",
       "    <tr>\n",
       "      <th>4</th>\n",
       "      <td>A31DECPN61EHKV</td>\n",
       "      <td>B001L5U198</td>\n",
       "      <td>Marcos Ramrez Gundelach</td>\n",
       "      <td>[0, 0]</td>\n",
       "      <td>poor connection, beside the sound is alright b...</td>\n",
       "      <td>2.0</td>\n",
       "      <td>hard to connect</td>\n",
       "      <td>1394668800</td>\n",
       "      <td>03 13, 2014</td>\n",
       "      <td>34.0</td>\n",
       "      <td>2.0</td>\n",
       "      <td>1</td>\n",
       "      <td>2</td>\n",
       "      <td>50.0</td>\n",
       "      <td>1</td>\n",
       "      <td>0</td>\n",
       "      <td>2.4</td>\n",
       "    </tr>\n",
       "    <tr>\n",
       "      <th>5</th>\n",
       "      <td>A3IXWS8PQ6QAA4</td>\n",
       "      <td>B002BSH3QS</td>\n",
       "      <td>Mark Koeneman \"&amp;#34;Millwrightsnowball&amp;#34;\"</td>\n",
       "      <td>[2, 2]</td>\n",
       "      <td>This is a very trashy product!!! DON'T BUY!!!!...</td>\n",
       "      <td>1.0</td>\n",
       "      <td>JUNK!!!!!!!!!</td>\n",
       "      <td>1260662400</td>\n",
       "      <td>12 13, 2009</td>\n",
       "      <td>109.0</td>\n",
       "      <td>11.0</td>\n",
       "      <td>3</td>\n",
       "      <td>4</td>\n",
       "      <td>75.0</td>\n",
       "      <td>0</td>\n",
       "      <td>0</td>\n",
       "      <td>1.0</td>\n",
       "    </tr>\n",
       "    <tr>\n",
       "      <th>6</th>\n",
       "      <td>AR1WUNWFU8QBI</td>\n",
       "      <td>B002959MQM</td>\n",
       "      <td>DVDiva</td>\n",
       "      <td>[122, 123]</td>\n",
       "      <td>It looks like I get to do the first review aga...</td>\n",
       "      <td>4.0</td>\n",
       "      <td>Works Well, But Still Has Some Quirks</td>\n",
       "      <td>1320710400</td>\n",
       "      <td>11 8, 2011</td>\n",
       "      <td>1328.0</td>\n",
       "      <td>43.0</td>\n",
       "      <td>2</td>\n",
       "      <td>5</td>\n",
       "      <td>40.0</td>\n",
       "      <td>1</td>\n",
       "      <td>0</td>\n",
       "      <td>2.7</td>\n",
       "    </tr>\n",
       "    <tr>\n",
       "      <th>7</th>\n",
       "      <td>A1L2QE9V91WIS3</td>\n",
       "      <td>B00275VXGQ</td>\n",
       "      <td>joe williams</td>\n",
       "      <td>[0, 0]</td>\n",
       "      <td>This Battery was a great price and was the exa...</td>\n",
       "      <td>5.0</td>\n",
       "      <td>Samsung Phone Battery</td>\n",
       "      <td>1379030400</td>\n",
       "      <td>09 13, 2013</td>\n",
       "      <td>23.0</td>\n",
       "      <td>2.0</td>\n",
       "      <td>1</td>\n",
       "      <td>2</td>\n",
       "      <td>50.0</td>\n",
       "      <td>1</td>\n",
       "      <td>0</td>\n",
       "      <td>2.9</td>\n",
       "    </tr>\n",
       "    <tr>\n",
       "      <th>8</th>\n",
       "      <td>A3617TIA0J5W2P</td>\n",
       "      <td>B001LRPN0S</td>\n",
       "      <td>Mrs. Kia</td>\n",
       "      <td>[0, 0]</td>\n",
       "      <td>This was a great product and worked very well....</td>\n",
       "      <td>5.0</td>\n",
       "      <td>Worked great</td>\n",
       "      <td>1364256000</td>\n",
       "      <td>03 26, 2013</td>\n",
       "      <td>28.0</td>\n",
       "      <td>3.0</td>\n",
       "      <td>1</td>\n",
       "      <td>2</td>\n",
       "      <td>50.0</td>\n",
       "      <td>1</td>\n",
       "      <td>0</td>\n",
       "      <td>2.9</td>\n",
       "    </tr>\n",
       "    <tr>\n",
       "      <th>9</th>\n",
       "      <td>A3OYV3W8VRK6AC</td>\n",
       "      <td>B002CMEIW0</td>\n",
       "      <td>Amazon Customer \"the Engineer\"</td>\n",
       "      <td>[0, 0]</td>\n",
       "      <td>I cannot believe how low the price has gone on...</td>\n",
       "      <td>5.0</td>\n",
       "      <td>INCREDIBLE PRICE! Good headphones</td>\n",
       "      <td>1289520000</td>\n",
       "      <td>11 12, 2010</td>\n",
       "      <td>119.0</td>\n",
       "      <td>16.0</td>\n",
       "      <td>1</td>\n",
       "      <td>2</td>\n",
       "      <td>50.0</td>\n",
       "      <td>1</td>\n",
       "      <td>0</td>\n",
       "      <td>2.9</td>\n",
       "    </tr>\n",
       "  </tbody>\n",
       "</table>\n",
       "</div>"
      ],
      "text/plain": [
       "       reviewerID        asin                                  reviewerName  \\\n",
       "0  A24UBOCOVCUZTZ  B0027AGPV4                     LAUGHTERWORKSLIKEMEDICINE   \n",
       "1   A1ABCV2ME27PV  B002BH3I9U                              David Stephenson   \n",
       "2  A1RZX2BSQW014G  B0021L9HL4                                  E. Leichtman   \n",
       "3   A2O290QHZIIWJ  B001UO651S                                       vani711   \n",
       "4  A31DECPN61EHKV  B001L5U198                       Marcos Ramrez Gundelach   \n",
       "5  A3IXWS8PQ6QAA4  B002BSH3QS  Mark Koeneman \"&#34;Millwrightsnowball&#34;\"   \n",
       "6   AR1WUNWFU8QBI  B002959MQM                                        DVDiva   \n",
       "7  A1L2QE9V91WIS3  B00275VXGQ                                  joe williams   \n",
       "8  A3617TIA0J5W2P  B001LRPN0S                                      Mrs. Kia   \n",
       "9  A3OYV3W8VRK6AC  B002CMEIW0                Amazon Customer \"the Engineer\"   \n",
       "\n",
       "      helpful                                         reviewText  overall  \\\n",
       "0      [0, 0]  I HAVE REPLACED 2 OTHER CHARGERS. THIS ONE IS ...      5.0   \n",
       "1      [0, 0]  This is a replacement for a similar item.  Thi...      5.0   \n",
       "2      [2, 2]  UPDATE:Tons of problems with the touch screen ...      2.0   \n",
       "3      [0, 0]  I was skeptical about buying these screen cove...      4.0   \n",
       "4      [0, 0]  poor connection, beside the sound is alright b...      2.0   \n",
       "5      [2, 2]  This is a very trashy product!!! DON'T BUY!!!!...      1.0   \n",
       "6  [122, 123]  It looks like I get to do the first review aga...      4.0   \n",
       "7      [0, 0]  This Battery was a great price and was the exa...      5.0   \n",
       "8      [0, 0]  This was a great product and worked very well....      5.0   \n",
       "9      [0, 0]  I cannot believe how low the price has gone on...      5.0   \n",
       "\n",
       "                                   summary  unixReviewTime   reviewTime  \\\n",
       "0               SAMSUNG BLUETOOTH  CHARGER      1323907200  12 15, 2011   \n",
       "1                                        L      1359590400  01 31, 2013   \n",
       "2  I Thought this Would be a Perfect Phone      1246060800  06 27, 2009   \n",
       "3               Great price and they work!      1355270400  12 12, 2012   \n",
       "4                          hard to connect      1394668800  03 13, 2014   \n",
       "5                            JUNK!!!!!!!!!      1260662400  12 13, 2009   \n",
       "6    Works Well, But Still Has Some Quirks      1320710400   11 8, 2011   \n",
       "7                    Samsung Phone Battery      1379030400  09 13, 2013   \n",
       "8                             Worked great      1364256000  03 26, 2013   \n",
       "9        INCREDIBLE PRICE! Good headphones      1289520000  11 12, 2010   \n",
       "\n",
       "   word_length  sentence_length  helpful_votes  overall_votes  \\\n",
       "0         28.0              4.0              1              2   \n",
       "1         41.0              4.0              1              2   \n",
       "2        181.0              8.0              3              4   \n",
       "3         65.0              2.0              1              2   \n",
       "4         34.0              2.0              1              2   \n",
       "5        109.0             11.0              3              4   \n",
       "6       1328.0             43.0              2              5   \n",
       "7         23.0              2.0              1              2   \n",
       "8         28.0              3.0              1              2   \n",
       "9        119.0             16.0              1              2   \n",
       "\n",
       "   percent_helpful  review_helpful  Predicted_Helpful  average_rating  \n",
       "0             50.0               1                  0             2.9  \n",
       "1             50.0               1                  0             2.9  \n",
       "2             75.0               0                  0             1.2  \n",
       "3             50.0               1                  0             2.7  \n",
       "4             50.0               1                  0             2.4  \n",
       "5             75.0               0                  0             1.0  \n",
       "6             40.0               1                  0             2.7  \n",
       "7             50.0               1                  0             2.9  \n",
       "8             50.0               1                  0             2.9  \n",
       "9             50.0               1                  0             2.9  "
      ]
     },
     "execution_count": 70,
     "metadata": {},
     "output_type": "execute_result"
    }
   ],
   "source": [
    "df_withpred.head(10)"
   ]
  },
  {
   "cell_type": "code",
   "execution_count": 71,
   "metadata": {
    "collapsed": true
   },
   "outputs": [],
   "source": [
    "# Now in order to build a recommender we must have user data at a single  product level \n",
    "# Which should also usually be the case - Since a user may give review of a product just once \n",
    "\n",
    "\n",
    "# User Item matrix needs to be built, hence select only required columns\n",
    "\n",
    "df_user_prod=df_withpred[['reviewerID','asin','average_rating','overall']]"
   ]
  },
  {
   "cell_type": "code",
   "execution_count": 72,
   "metadata": {},
   "outputs": [
    {
     "data": {
      "text/plain": [
       "reviewerID        19994\n",
       "asin              19994\n",
       "average_rating    19994\n",
       "overall           19994\n",
       "dtype: int64"
      ]
     },
     "execution_count": 72,
     "metadata": {},
     "output_type": "execute_result"
    }
   ],
   "source": [
    "df_user_prod.count()"
   ]
  },
  {
   "cell_type": "code",
   "execution_count": 73,
   "metadata": {},
   "outputs": [
    {
     "data": {
      "text/html": [
       "<div>\n",
       "<style>\n",
       "    .dataframe thead tr:only-child th {\n",
       "        text-align: right;\n",
       "    }\n",
       "\n",
       "    .dataframe thead th {\n",
       "        text-align: left;\n",
       "    }\n",
       "\n",
       "    .dataframe tbody tr th {\n",
       "        vertical-align: top;\n",
       "    }\n",
       "</style>\n",
       "<table border=\"1\" class=\"dataframe\">\n",
       "  <thead>\n",
       "    <tr style=\"text-align: right;\">\n",
       "      <th></th>\n",
       "      <th>reviewerID</th>\n",
       "      <th>asin</th>\n",
       "      <th>average_rating</th>\n",
       "      <th>overall</th>\n",
       "    </tr>\n",
       "  </thead>\n",
       "  <tbody>\n",
       "    <tr>\n",
       "      <th>0</th>\n",
       "      <td>A24UBOCOVCUZTZ</td>\n",
       "      <td>B0027AGPV4</td>\n",
       "      <td>2.9</td>\n",
       "      <td>5.0</td>\n",
       "    </tr>\n",
       "    <tr>\n",
       "      <th>1</th>\n",
       "      <td>A1ABCV2ME27PV</td>\n",
       "      <td>B002BH3I9U</td>\n",
       "      <td>2.9</td>\n",
       "      <td>5.0</td>\n",
       "    </tr>\n",
       "    <tr>\n",
       "      <th>2</th>\n",
       "      <td>A1RZX2BSQW014G</td>\n",
       "      <td>B0021L9HL4</td>\n",
       "      <td>1.2</td>\n",
       "      <td>2.0</td>\n",
       "    </tr>\n",
       "  </tbody>\n",
       "</table>\n",
       "</div>"
      ],
      "text/plain": [
       "       reviewerID        asin  average_rating  overall\n",
       "0  A24UBOCOVCUZTZ  B0027AGPV4             2.9      5.0\n",
       "1   A1ABCV2ME27PV  B002BH3I9U             2.9      5.0\n",
       "2  A1RZX2BSQW014G  B0021L9HL4             1.2      2.0"
      ]
     },
     "execution_count": 73,
     "metadata": {},
     "output_type": "execute_result"
    }
   ],
   "source": [
    "df_user_prod.head(3)"
   ]
  },
  {
   "cell_type": "code",
   "execution_count": 74,
   "metadata": {},
   "outputs": [
    {
     "data": {
      "text/plain": [
       "reviewerID        5000\n",
       "asin              5000\n",
       "average_rating    5000\n",
       "overall           5000\n",
       "dtype: int64"
      ]
     },
     "execution_count": 74,
     "metadata": {},
     "output_type": "execute_result"
    }
   ],
   "source": [
    "# For the sake of creating a user item rating matrix\n",
    "# we are translating all alphanumeric IDs of reviewers to integer numbers\n",
    "df_user_prod=df_user_prod[:5000]\n",
    "df_user_prod.count()"
   ]
  },
  {
   "cell_type": "code",
   "execution_count": 75,
   "metadata": {
    "collapsed": true
   },
   "outputs": [],
   "source": [
    "# Create int representations for reviewerID\n",
    "df_user_prod['userID'] = pd.Categorical(df_user_prod.reviewerID).codes"
   ]
  },
  {
   "cell_type": "code",
   "execution_count": 76,
   "metadata": {},
   "outputs": [
    {
     "data": {
      "text/html": [
       "<div>\n",
       "<style>\n",
       "    .dataframe thead tr:only-child th {\n",
       "        text-align: right;\n",
       "    }\n",
       "\n",
       "    .dataframe thead th {\n",
       "        text-align: left;\n",
       "    }\n",
       "\n",
       "    .dataframe tbody tr th {\n",
       "        vertical-align: top;\n",
       "    }\n",
       "</style>\n",
       "<table border=\"1\" class=\"dataframe\">\n",
       "  <thead>\n",
       "    <tr style=\"text-align: right;\">\n",
       "      <th></th>\n",
       "      <th>reviewerID</th>\n",
       "      <th>asin</th>\n",
       "      <th>average_rating</th>\n",
       "      <th>overall</th>\n",
       "      <th>userID</th>\n",
       "    </tr>\n",
       "  </thead>\n",
       "  <tbody>\n",
       "    <tr>\n",
       "      <th>0</th>\n",
       "      <td>A24UBOCOVCUZTZ</td>\n",
       "      <td>B0027AGPV4</td>\n",
       "      <td>2.9</td>\n",
       "      <td>5.0</td>\n",
       "      <td>1453</td>\n",
       "    </tr>\n",
       "    <tr>\n",
       "      <th>1</th>\n",
       "      <td>A1ABCV2ME27PV</td>\n",
       "      <td>B002BH3I9U</td>\n",
       "      <td>2.9</td>\n",
       "      <td>5.0</td>\n",
       "      <td>348</td>\n",
       "    </tr>\n",
       "    <tr>\n",
       "      <th>2</th>\n",
       "      <td>A1RZX2BSQW014G</td>\n",
       "      <td>B0021L9HL4</td>\n",
       "      <td>1.2</td>\n",
       "      <td>2.0</td>\n",
       "      <td>969</td>\n",
       "    </tr>\n",
       "  </tbody>\n",
       "</table>\n",
       "</div>"
      ],
      "text/plain": [
       "       reviewerID        asin  average_rating  overall  userID\n",
       "0  A24UBOCOVCUZTZ  B0027AGPV4             2.9      5.0    1453\n",
       "1   A1ABCV2ME27PV  B002BH3I9U             2.9      5.0     348\n",
       "2  A1RZX2BSQW014G  B0021L9HL4             1.2      2.0     969"
      ]
     },
     "execution_count": 76,
     "metadata": {},
     "output_type": "execute_result"
    }
   ],
   "source": [
    "df_user_prod.head(3)"
   ]
  },
  {
   "cell_type": "code",
   "execution_count": 77,
   "metadata": {},
   "outputs": [
    {
     "data": {
      "text/plain": [
       "4972"
      ]
     },
     "execution_count": 77,
     "metadata": {},
     "output_type": "execute_result"
    }
   ],
   "source": [
    "df_user_prod.reviewerID.unique().shape[0]"
   ]
  },
  {
   "cell_type": "code",
   "execution_count": 78,
   "metadata": {},
   "outputs": [
    {
     "name": "stdout",
     "output_type": "stream",
     "text": [
      "reviewerID         object\n",
      "asin               object\n",
      "average_rating    float64\n",
      "overall           float64\n",
      "userID              int16\n",
      "dtype: object\n"
     ]
    }
   ],
   "source": [
    "print(df_user_prod.dtypes)"
   ]
  },
  {
   "cell_type": "code",
   "execution_count": 79,
   "metadata": {
    "collapsed": true
   },
   "outputs": [],
   "source": [
    "# For the sake of creating a user item rating matrix\n",
    "# we are translating all alphanumeric IDs of productID or asin  to integer numbers\n",
    "\n",
    "df_user_prod['itemID'] = pd.Categorical(df_user_prod.asin).codes"
   ]
  },
  {
   "cell_type": "code",
   "execution_count": 80,
   "metadata": {},
   "outputs": [
    {
     "data": {
      "text/html": [
       "<div>\n",
       "<style>\n",
       "    .dataframe thead tr:only-child th {\n",
       "        text-align: right;\n",
       "    }\n",
       "\n",
       "    .dataframe thead th {\n",
       "        text-align: left;\n",
       "    }\n",
       "\n",
       "    .dataframe tbody tr th {\n",
       "        vertical-align: top;\n",
       "    }\n",
       "</style>\n",
       "<table border=\"1\" class=\"dataframe\">\n",
       "  <thead>\n",
       "    <tr style=\"text-align: right;\">\n",
       "      <th></th>\n",
       "      <th>reviewerID</th>\n",
       "      <th>asin</th>\n",
       "      <th>average_rating</th>\n",
       "      <th>overall</th>\n",
       "      <th>userID</th>\n",
       "      <th>itemID</th>\n",
       "    </tr>\n",
       "  </thead>\n",
       "  <tbody>\n",
       "    <tr>\n",
       "      <th>0</th>\n",
       "      <td>A24UBOCOVCUZTZ</td>\n",
       "      <td>B0027AGPV4</td>\n",
       "      <td>2.9</td>\n",
       "      <td>5.0</td>\n",
       "      <td>1453</td>\n",
       "      <td>816</td>\n",
       "    </tr>\n",
       "    <tr>\n",
       "      <th>1</th>\n",
       "      <td>A1ABCV2ME27PV</td>\n",
       "      <td>B002BH3I9U</td>\n",
       "      <td>2.9</td>\n",
       "      <td>5.0</td>\n",
       "      <td>348</td>\n",
       "      <td>1072</td>\n",
       "    </tr>\n",
       "    <tr>\n",
       "      <th>2</th>\n",
       "      <td>A1RZX2BSQW014G</td>\n",
       "      <td>B0021L9HL4</td>\n",
       "      <td>1.2</td>\n",
       "      <td>2.0</td>\n",
       "      <td>969</td>\n",
       "      <td>687</td>\n",
       "    </tr>\n",
       "  </tbody>\n",
       "</table>\n",
       "</div>"
      ],
      "text/plain": [
       "       reviewerID        asin  average_rating  overall  userID  itemID\n",
       "0  A24UBOCOVCUZTZ  B0027AGPV4             2.9      5.0    1453     816\n",
       "1   A1ABCV2ME27PV  B002BH3I9U             2.9      5.0     348    1072\n",
       "2  A1RZX2BSQW014G  B0021L9HL4             1.2      2.0     969     687"
      ]
     },
     "execution_count": 80,
     "metadata": {},
     "output_type": "execute_result"
    }
   ],
   "source": [
    "df_user_prod.head(3)"
   ]
  },
  {
   "cell_type": "code",
   "execution_count": 81,
   "metadata": {
    "collapsed": true
   },
   "outputs": [],
   "source": [
    "#Select only the required columns\n",
    "df_user_item = df_user_prod[['userID','itemID', 'average_rating']]"
   ]
  },
  {
   "cell_type": "code",
   "execution_count": 82,
   "metadata": {
    "collapsed": true
   },
   "outputs": [],
   "source": [
    "# Create a item_df dataframe which will have first column as itemID and second column as URL to directly hit the amazon web link\n",
    "\n",
    "item_df=df_user_prod[['itemID','asin']]"
   ]
  },
  {
   "cell_type": "code",
   "execution_count": 83,
   "metadata": {},
   "outputs": [
    {
     "data": {
      "text/html": [
       "<div>\n",
       "<style>\n",
       "    .dataframe thead tr:only-child th {\n",
       "        text-align: right;\n",
       "    }\n",
       "\n",
       "    .dataframe thead th {\n",
       "        text-align: left;\n",
       "    }\n",
       "\n",
       "    .dataframe tbody tr th {\n",
       "        vertical-align: top;\n",
       "    }\n",
       "</style>\n",
       "<table border=\"1\" class=\"dataframe\">\n",
       "  <thead>\n",
       "    <tr style=\"text-align: right;\">\n",
       "      <th></th>\n",
       "      <th>itemID</th>\n",
       "      <th>asin</th>\n",
       "    </tr>\n",
       "  </thead>\n",
       "  <tbody>\n",
       "    <tr>\n",
       "      <th>0</th>\n",
       "      <td>816</td>\n",
       "      <td>B0027AGPV4</td>\n",
       "    </tr>\n",
       "    <tr>\n",
       "      <th>1</th>\n",
       "      <td>1072</td>\n",
       "      <td>B002BH3I9U</td>\n",
       "    </tr>\n",
       "    <tr>\n",
       "      <th>2</th>\n",
       "      <td>687</td>\n",
       "      <td>B0021L9HL4</td>\n",
       "    </tr>\n",
       "  </tbody>\n",
       "</table>\n",
       "</div>"
      ],
      "text/plain": [
       "   itemID        asin\n",
       "0     816  B0027AGPV4\n",
       "1    1072  B002BH3I9U\n",
       "2     687  B0021L9HL4"
      ]
     },
     "execution_count": 83,
     "metadata": {},
     "output_type": "execute_result"
    }
   ],
   "source": [
    "item_df.head(3)"
   ]
  },
  {
   "cell_type": "code",
   "execution_count": 84,
   "metadata": {},
   "outputs": [
    {
     "name": "stderr",
     "output_type": "stream",
     "text": [
      "/usr/local/lib/python2.7/dist-packages/ipykernel_launcher.py:5: SettingWithCopyWarning: \n",
      "A value is trying to be set on a copy of a slice from a DataFrame.\n",
      "Try using .loc[row_indexer,col_indexer] = value instead\n",
      "\n",
      "See the caveats in the documentation: http://pandas.pydata.org/pandas-docs/stable/indexing.html#indexing-view-versus-copy\n",
      "  \"\"\"\n"
     ]
    }
   ],
   "source": [
    "# The direct Amazon link is ->  https://www.amazon.com/dp/\n",
    "# So we create a dataframe which should be unique at product level which will be the actual output from recommendation \n",
    "# engine for a given user\n",
    "\n",
    "item_df['prod_URL'] = 'https://www.amazon.com/dp/'+item_df['asin'].astype(str)\n",
    "\n",
    "item_df=item_df[['itemID','prod_URL']]\n",
    "\n"
   ]
  },
  {
   "cell_type": "code",
   "execution_count": 85,
   "metadata": {},
   "outputs": [
    {
     "data": {
      "text/html": [
       "<div>\n",
       "<style>\n",
       "    .dataframe thead tr:only-child th {\n",
       "        text-align: right;\n",
       "    }\n",
       "\n",
       "    .dataframe thead th {\n",
       "        text-align: left;\n",
       "    }\n",
       "\n",
       "    .dataframe tbody tr th {\n",
       "        vertical-align: top;\n",
       "    }\n",
       "</style>\n",
       "<table border=\"1\" class=\"dataframe\">\n",
       "  <thead>\n",
       "    <tr style=\"text-align: right;\">\n",
       "      <th></th>\n",
       "      <th>itemID</th>\n",
       "      <th>prod_URL</th>\n",
       "    </tr>\n",
       "  </thead>\n",
       "  <tbody>\n",
       "    <tr>\n",
       "      <th>0</th>\n",
       "      <td>816</td>\n",
       "      <td>https://www.amazon.com/dp/B0027AGPV4</td>\n",
       "    </tr>\n",
       "    <tr>\n",
       "      <th>1</th>\n",
       "      <td>1072</td>\n",
       "      <td>https://www.amazon.com/dp/B002BH3I9U</td>\n",
       "    </tr>\n",
       "    <tr>\n",
       "      <th>2</th>\n",
       "      <td>687</td>\n",
       "      <td>https://www.amazon.com/dp/B0021L9HL4</td>\n",
       "    </tr>\n",
       "  </tbody>\n",
       "</table>\n",
       "</div>"
      ],
      "text/plain": [
       "   itemID                              prod_URL\n",
       "0     816  https://www.amazon.com/dp/B0027AGPV4\n",
       "1    1072  https://www.amazon.com/dp/B002BH3I9U\n",
       "2     687  https://www.amazon.com/dp/B0021L9HL4"
      ]
     },
     "execution_count": 85,
     "metadata": {},
     "output_type": "execute_result"
    }
   ],
   "source": [
    "item_df.head(3)"
   ]
  },
  {
   "cell_type": "code",
   "execution_count": 86,
   "metadata": {},
   "outputs": [
    {
     "data": {
      "text/plain": [
       "itemID      5000\n",
       "prod_URL    5000\n",
       "dtype: int64"
      ]
     },
     "execution_count": 86,
     "metadata": {},
     "output_type": "execute_result"
    }
   ],
   "source": [
    "item_df.count()"
   ]
  },
  {
   "cell_type": "code",
   "execution_count": 87,
   "metadata": {
    "collapsed": true
   },
   "outputs": [],
   "source": [
    "#The itemID URL dataframe should contain unique rows, hence we need to drop the duplicates\n",
    "item_df=item_df.drop_duplicates()"
   ]
  },
  {
   "cell_type": "code",
   "execution_count": 88,
   "metadata": {},
   "outputs": [
    {
     "data": {
      "text/plain": [
       "itemID      2053\n",
       "prod_URL    2053\n",
       "dtype: int64"
      ]
     },
     "execution_count": 88,
     "metadata": {},
     "output_type": "execute_result"
    }
   ],
   "source": [
    "#Unique items \n",
    "item_df.count()"
   ]
  },
  {
   "cell_type": "code",
   "execution_count": 89,
   "metadata": {
    "collapsed": true
   },
   "outputs": [],
   "source": [
    "# Now we should have 1 row per userID so we kind of need to tranpose on userID level and this will be achieved via pivot\n",
    "\n",
    "df_user_item_pv=df_user_item.pivot(index='userID', columns='itemID', values='average_rating')\n",
    "\n"
   ]
  },
  {
   "cell_type": "code",
   "execution_count": 90,
   "metadata": {
    "collapsed": true
   },
   "outputs": [],
   "source": [
    "df_user_item_pv=df_user_item_pv.fillna(0)"
   ]
  },
  {
   "cell_type": "code",
   "execution_count": 91,
   "metadata": {
    "scrolled": true
   },
   "outputs": [
    {
     "data": {
      "text/html": [
       "<div>\n",
       "<style>\n",
       "    .dataframe thead tr:only-child th {\n",
       "        text-align: right;\n",
       "    }\n",
       "\n",
       "    .dataframe thead th {\n",
       "        text-align: left;\n",
       "    }\n",
       "\n",
       "    .dataframe tbody tr th {\n",
       "        vertical-align: top;\n",
       "    }\n",
       "</style>\n",
       "<table border=\"1\" class=\"dataframe\">\n",
       "  <thead>\n",
       "    <tr style=\"text-align: right;\">\n",
       "      <th>itemID</th>\n",
       "      <th>0</th>\n",
       "      <th>1</th>\n",
       "      <th>2</th>\n",
       "      <th>3</th>\n",
       "      <th>4</th>\n",
       "      <th>5</th>\n",
       "      <th>6</th>\n",
       "      <th>7</th>\n",
       "      <th>8</th>\n",
       "      <th>9</th>\n",
       "      <th>...</th>\n",
       "      <th>2043</th>\n",
       "      <th>2044</th>\n",
       "      <th>2045</th>\n",
       "      <th>2046</th>\n",
       "      <th>2047</th>\n",
       "      <th>2048</th>\n",
       "      <th>2049</th>\n",
       "      <th>2050</th>\n",
       "      <th>2051</th>\n",
       "      <th>2052</th>\n",
       "    </tr>\n",
       "    <tr>\n",
       "      <th>userID</th>\n",
       "      <th></th>\n",
       "      <th></th>\n",
       "      <th></th>\n",
       "      <th></th>\n",
       "      <th></th>\n",
       "      <th></th>\n",
       "      <th></th>\n",
       "      <th></th>\n",
       "      <th></th>\n",
       "      <th></th>\n",
       "      <th></th>\n",
       "      <th></th>\n",
       "      <th></th>\n",
       "      <th></th>\n",
       "      <th></th>\n",
       "      <th></th>\n",
       "      <th></th>\n",
       "      <th></th>\n",
       "      <th></th>\n",
       "      <th></th>\n",
       "      <th></th>\n",
       "    </tr>\n",
       "  </thead>\n",
       "  <tbody>\n",
       "    <tr>\n",
       "      <th>0</th>\n",
       "      <td>0.0</td>\n",
       "      <td>0.0</td>\n",
       "      <td>0.0</td>\n",
       "      <td>0.0</td>\n",
       "      <td>0.0</td>\n",
       "      <td>0.0</td>\n",
       "      <td>0.0</td>\n",
       "      <td>0.0</td>\n",
       "      <td>0.0</td>\n",
       "      <td>0.0</td>\n",
       "      <td>...</td>\n",
       "      <td>0.0</td>\n",
       "      <td>0.0</td>\n",
       "      <td>0.0</td>\n",
       "      <td>0.0</td>\n",
       "      <td>0.0</td>\n",
       "      <td>0.0</td>\n",
       "      <td>0.0</td>\n",
       "      <td>0.0</td>\n",
       "      <td>0.0</td>\n",
       "      <td>0.0</td>\n",
       "    </tr>\n",
       "    <tr>\n",
       "      <th>1</th>\n",
       "      <td>0.0</td>\n",
       "      <td>0.0</td>\n",
       "      <td>0.0</td>\n",
       "      <td>0.0</td>\n",
       "      <td>0.0</td>\n",
       "      <td>0.0</td>\n",
       "      <td>0.0</td>\n",
       "      <td>0.0</td>\n",
       "      <td>0.0</td>\n",
       "      <td>0.0</td>\n",
       "      <td>...</td>\n",
       "      <td>0.0</td>\n",
       "      <td>0.0</td>\n",
       "      <td>0.0</td>\n",
       "      <td>0.0</td>\n",
       "      <td>0.0</td>\n",
       "      <td>0.0</td>\n",
       "      <td>0.0</td>\n",
       "      <td>0.0</td>\n",
       "      <td>0.0</td>\n",
       "      <td>0.0</td>\n",
       "    </tr>\n",
       "    <tr>\n",
       "      <th>2</th>\n",
       "      <td>0.0</td>\n",
       "      <td>0.0</td>\n",
       "      <td>0.0</td>\n",
       "      <td>0.0</td>\n",
       "      <td>0.0</td>\n",
       "      <td>0.0</td>\n",
       "      <td>0.0</td>\n",
       "      <td>0.0</td>\n",
       "      <td>0.0</td>\n",
       "      <td>0.0</td>\n",
       "      <td>...</td>\n",
       "      <td>0.0</td>\n",
       "      <td>0.0</td>\n",
       "      <td>0.0</td>\n",
       "      <td>0.0</td>\n",
       "      <td>0.0</td>\n",
       "      <td>0.0</td>\n",
       "      <td>0.0</td>\n",
       "      <td>0.0</td>\n",
       "      <td>0.0</td>\n",
       "      <td>0.0</td>\n",
       "    </tr>\n",
       "  </tbody>\n",
       "</table>\n",
       "<p>3 rows × 2053 columns</p>\n",
       "</div>"
      ],
      "text/plain": [
       "itemID  0     1     2     3     4     5     6     7     8     9     ...   \\\n",
       "userID                                                              ...    \n",
       "0        0.0   0.0   0.0   0.0   0.0   0.0   0.0   0.0   0.0   0.0  ...    \n",
       "1        0.0   0.0   0.0   0.0   0.0   0.0   0.0   0.0   0.0   0.0  ...    \n",
       "2        0.0   0.0   0.0   0.0   0.0   0.0   0.0   0.0   0.0   0.0  ...    \n",
       "\n",
       "itemID  2043  2044  2045  2046  2047  2048  2049  2050  2051  2052  \n",
       "userID                                                              \n",
       "0        0.0   0.0   0.0   0.0   0.0   0.0   0.0   0.0   0.0   0.0  \n",
       "1        0.0   0.0   0.0   0.0   0.0   0.0   0.0   0.0   0.0   0.0  \n",
       "2        0.0   0.0   0.0   0.0   0.0   0.0   0.0   0.0   0.0   0.0  \n",
       "\n",
       "[3 rows x 2053 columns]"
      ]
     },
     "execution_count": 91,
     "metadata": {},
     "output_type": "execute_result"
    }
   ],
   "source": [
    "df_user_item_pv.head(3)"
   ]
  },
  {
   "cell_type": "markdown",
   "metadata": {},
   "source": [
    "## For Recommendation we will use the logic of Matrix Factorization via Singular Value Decomposition\n",
    "\n",
    " \n",
    "\n",
    "Matrix factorization is the breaking down of one matrix into a product of multiple matrices. It’s extremely well studied in mathematics, and it’s highly useful. There are many different ways to factor matrices, but singular value decomposition is particularly useful for making recommendations.\n",
    "\n",
    "So what is singular value decomposition (SVD)? \n",
    "\n",
    "At a high level, SVD is an algorithm that decomposes a matrix $R$\n",
    "into the best lower rank (i.e. smaller/simpler) approximation of the original matrix $R$\n",
    "\n",
    "Mathematically, it decomposes $ R$ into two unitary matrices and a diagonal matrix:\n",
    "\n",
    "$$R=U \\Sigma V^T $$\n",
    "\n",
    "where $R$ is user ratings matrix, \n",
    "\n",
    "$U$ is the user “features” matrix, \n",
    "\n",
    "Σ is the diagonal matrix of singular values (essentially weights), and \n",
    "\n",
    "$V^T$ is the item “features” matrix. \n",
    "\n",
    "\n",
    "\n",
    "$U$ and $V^T$ are orthogonal, and represent different things. \n",
    "\n",
    "$U$ represents how much users “like” each feature and  $V^T$ represents how relevant each feature is to each item.\n",
    "\n",
    "To get the lower rank approximation, we take these matrices and keep only the top $k$ features, which we think of as the \n",
    "$k$ most important underlying taste and preference vectors."
   ]
  },
  {
   "cell_type": "code",
   "execution_count": 92,
   "metadata": {
    "collapsed": true
   },
   "outputs": [],
   "source": [
    "# We need to  de-mean the data (normalize by each users mean) and convert it from a dataframe to a numpy array\n",
    "\n",
    "R = df_user_item_pv.as_matrix()"
   ]
  },
  {
   "cell_type": "code",
   "execution_count": 93,
   "metadata": {
    "collapsed": true
   },
   "outputs": [],
   "source": [
    "user_ratings_mean = np.mean(R, axis = 1)"
   ]
  },
  {
   "cell_type": "code",
   "execution_count": 94,
   "metadata": {
    "collapsed": true
   },
   "outputs": [],
   "source": [
    "R_demeaned = R - user_ratings_mean.reshape(-1, 1)"
   ]
  },
  {
   "cell_type": "code",
   "execution_count": 95,
   "metadata": {
    "collapsed": true
   },
   "outputs": [],
   "source": [
    "# Scipy and Numpy both have functions to do the singular value decomposition\n",
    "# We are going to use the Scipy function svds because it let’s us choose how many latent factors \n",
    "# we would want to use to approximate the original ratings matrix (instead of having to truncate it after)\n",
    "\n",
    "from scipy.sparse.linalg import svds\n",
    "U, sigma, Vt = svds(R_demeaned, k = 50)"
   ]
  },
  {
   "cell_type": "code",
   "execution_count": 96,
   "metadata": {
    "collapsed": true
   },
   "outputs": [],
   "source": [
    "# This returns just the values instead of a diagonal matrix. \n",
    "# Since we are  going to leverage matrix multiplication to get predictions we need to  convert it to the diagonal matrix form\n",
    "\n",
    "sigma = np.diag(sigma)"
   ]
  },
  {
   "cell_type": "code",
   "execution_count": 97,
   "metadata": {
    "collapsed": true
   },
   "outputs": [],
   "source": [
    "# Making Predictions from the Decomposed Matrices\n",
    "# We also need to add the user means back to get the predicted 5-star ratings\n",
    "\n",
    "all_user_predicted_ratings = np.dot(np.dot(U, sigma), Vt) + user_ratings_mean.reshape(-1, 1)\n",
    "preds_df = pd.DataFrame(all_user_predicted_ratings, columns = df_user_item_pv.columns)"
   ]
  },
  {
   "cell_type": "code",
   "execution_count": 98,
   "metadata": {
    "collapsed": true
   },
   "outputs": [],
   "source": [
    "# Define a function which will accept the userID , lookup the products he has already rated and make top k recommendations\n",
    "\n",
    "def recommend_items(predictions_df, userID, item_df, original_ratings_df, num_recommendations=5):\n",
    "    \n",
    "    # Get and sort the user's predictions\n",
    "    user_row_number = userID - 1 # UserID starts at 1, not 0\n",
    "    sorted_user_predictions = predictions_df.iloc[user_row_number].sort_values(ascending=False)\n",
    "    # print(sorted_user_predictions)\n",
    "    # Get the user's data and merge in the item information.\n",
    "    user_data = original_ratings_df[original_ratings_df.userID == (userID)]\n",
    "    user_full = (user_data.merge(item_df, how = 'left', left_on = 'itemID', right_on = 'itemID').\n",
    "                     sort_values(['average_rating'], ascending=False)\n",
    "                 )\n",
    "\n",
    "    print 'User {0} has already rated {1} items.'.format(userID, user_full.shape[0])\n",
    "    print 'Recommending the highest {0} predicted ratings for items not already rated.'.format(num_recommendations)\n",
    "    \n",
    "    # Recommend the highest predicted rating items that the user hasn't seen yet.\n",
    "    recommendations = (item_df[~item_df['itemID'].isin(user_full['itemID'])].\n",
    "         merge(pd.DataFrame(sorted_user_predictions).reset_index(), how = 'left',\n",
    "               left_on = 'itemID',\n",
    "               right_on = 'itemID').\n",
    "         rename(columns = {user_row_number: 'Predictions'}).\n",
    "         sort_values('Predictions', ascending = False).\n",
    "                       iloc[:num_recommendations, :-1]\n",
    "                      )\n",
    "\n",
    "    return user_full, recommendations"
   ]
  },
  {
   "cell_type": "code",
   "execution_count": 154,
   "metadata": {},
   "outputs": [
    {
     "name": "stdout",
     "output_type": "stream",
     "text": [
      "User 40 has already rated 1 items.\n",
      "Recommending the highest 5 predicted ratings for items not already rated.\n"
     ]
    }
   ],
   "source": [
    "already_rated, predictions = recommend_items(preds_df, 40, item_df, df_user_item, 5)"
   ]
  },
  {
   "cell_type": "code",
   "execution_count": 155,
   "metadata": {},
   "outputs": [
    {
     "data": {
      "text/html": [
       "<div>\n",
       "<style>\n",
       "    .dataframe thead tr:only-child th {\n",
       "        text-align: right;\n",
       "    }\n",
       "\n",
       "    .dataframe thead th {\n",
       "        text-align: left;\n",
       "    }\n",
       "\n",
       "    .dataframe tbody tr th {\n",
       "        vertical-align: top;\n",
       "    }\n",
       "</style>\n",
       "<table border=\"1\" class=\"dataframe\">\n",
       "  <thead>\n",
       "    <tr style=\"text-align: right;\">\n",
       "      <th></th>\n",
       "      <th>userID</th>\n",
       "      <th>itemID</th>\n",
       "      <th>average_rating</th>\n",
       "      <th>prod_URL</th>\n",
       "    </tr>\n",
       "  </thead>\n",
       "  <tbody>\n",
       "    <tr>\n",
       "      <th>0</th>\n",
       "      <td>40</td>\n",
       "      <td>556</td>\n",
       "      <td>2.9</td>\n",
       "      <td>https://www.amazon.com/dp/B001UCELX4</td>\n",
       "    </tr>\n",
       "  </tbody>\n",
       "</table>\n",
       "</div>"
      ],
      "text/plain": [
       "   userID  itemID  average_rating                              prod_URL\n",
       "0      40     556             2.9  https://www.amazon.com/dp/B001UCELX4"
      ]
     },
     "execution_count": 155,
     "metadata": {},
     "output_type": "execute_result"
    }
   ],
   "source": [
    "# Print the previously rated item record\n",
    "already_rated.head(5)"
   ]
  },
  {
   "cell_type": "code",
   "execution_count": 156,
   "metadata": {},
   "outputs": [
    {
     "data": {
      "text/html": [
       "<div>\n",
       "<style>\n",
       "    .dataframe thead tr:only-child th {\n",
       "        text-align: right;\n",
       "    }\n",
       "\n",
       "    .dataframe thead th {\n",
       "        text-align: left;\n",
       "    }\n",
       "\n",
       "    .dataframe tbody tr th {\n",
       "        vertical-align: top;\n",
       "    }\n",
       "</style>\n",
       "<table border=\"1\" class=\"dataframe\">\n",
       "  <thead>\n",
       "    <tr style=\"text-align: right;\">\n",
       "      <th></th>\n",
       "      <th>itemID</th>\n",
       "      <th>prod_URL</th>\n",
       "    </tr>\n",
       "  </thead>\n",
       "  <tbody>\n",
       "    <tr>\n",
       "      <th>1</th>\n",
       "      <td>1072</td>\n",
       "      <td>https://www.amazon.com/dp/B002BH3I9U</td>\n",
       "    </tr>\n",
       "    <tr>\n",
       "      <th>427</th>\n",
       "      <td>921</td>\n",
       "      <td>https://www.amazon.com/dp/B0029RVHRM</td>\n",
       "    </tr>\n",
       "    <tr>\n",
       "      <th>971</th>\n",
       "      <td>32</td>\n",
       "      <td>https://www.amazon.com/dp/B001L1W4OM</td>\n",
       "    </tr>\n",
       "    <tr>\n",
       "      <th>250</th>\n",
       "      <td>536</td>\n",
       "      <td>https://www.amazon.com/dp/B001U36406</td>\n",
       "    </tr>\n",
       "    <tr>\n",
       "      <th>84</th>\n",
       "      <td>926</td>\n",
       "      <td>https://www.amazon.com/dp/B0029U2MYG</td>\n",
       "    </tr>\n",
       "  </tbody>\n",
       "</table>\n",
       "</div>"
      ],
      "text/plain": [
       "     itemID                              prod_URL\n",
       "1      1072  https://www.amazon.com/dp/B002BH3I9U\n",
       "427     921  https://www.amazon.com/dp/B0029RVHRM\n",
       "971      32  https://www.amazon.com/dp/B001L1W4OM\n",
       "250     536  https://www.amazon.com/dp/B001U36406\n",
       "84      926  https://www.amazon.com/dp/B0029U2MYG"
      ]
     },
     "execution_count": 156,
     "metadata": {},
     "output_type": "execute_result"
    }
   ],
   "source": [
    "# Print the predictions for that user\n",
    "predictions"
   ]
  },
  {
   "cell_type": "code",
   "execution_count": 157,
   "metadata": {},
   "outputs": [
    {
     "name": "stdout",
     "output_type": "stream",
     "text": [
      "User 41 has already rated 1 items.\n",
      "Recommending the highest 5 predicted ratings for items not already rated.\n"
     ]
    }
   ],
   "source": [
    "already_rated, predictions = recommend_items(preds_df, 41, item_df, df_user_item, 5)"
   ]
  },
  {
   "cell_type": "code",
   "execution_count": 158,
   "metadata": {},
   "outputs": [
    {
     "data": {
      "text/html": [
       "<div>\n",
       "<style>\n",
       "    .dataframe thead tr:only-child th {\n",
       "        text-align: right;\n",
       "    }\n",
       "\n",
       "    .dataframe thead th {\n",
       "        text-align: left;\n",
       "    }\n",
       "\n",
       "    .dataframe tbody tr th {\n",
       "        vertical-align: top;\n",
       "    }\n",
       "</style>\n",
       "<table border=\"1\" class=\"dataframe\">\n",
       "  <thead>\n",
       "    <tr style=\"text-align: right;\">\n",
       "      <th></th>\n",
       "      <th>userID</th>\n",
       "      <th>itemID</th>\n",
       "      <th>average_rating</th>\n",
       "      <th>prod_URL</th>\n",
       "    </tr>\n",
       "  </thead>\n",
       "  <tbody>\n",
       "    <tr>\n",
       "      <th>0</th>\n",
       "      <td>41</td>\n",
       "      <td>875</td>\n",
       "      <td>2.7</td>\n",
       "      <td>https://www.amazon.com/dp/B0028MIQG8</td>\n",
       "    </tr>\n",
       "  </tbody>\n",
       "</table>\n",
       "</div>"
      ],
      "text/plain": [
       "   userID  itemID  average_rating                              prod_URL\n",
       "0      41     875             2.7  https://www.amazon.com/dp/B0028MIQG8"
      ]
     },
     "execution_count": 158,
     "metadata": {},
     "output_type": "execute_result"
    }
   ],
   "source": [
    "# Print the previously rated item record\n",
    "already_rated.head(5)"
   ]
  },
  {
   "cell_type": "code",
   "execution_count": 159,
   "metadata": {},
   "outputs": [
    {
     "data": {
      "text/html": [
       "<div>\n",
       "<style>\n",
       "    .dataframe thead tr:only-child th {\n",
       "        text-align: right;\n",
       "    }\n",
       "\n",
       "    .dataframe thead th {\n",
       "        text-align: left;\n",
       "    }\n",
       "\n",
       "    .dataframe tbody tr th {\n",
       "        vertical-align: top;\n",
       "    }\n",
       "</style>\n",
       "<table border=\"1\" class=\"dataframe\">\n",
       "  <thead>\n",
       "    <tr style=\"text-align: right;\">\n",
       "      <th></th>\n",
       "      <th>itemID</th>\n",
       "      <th>prod_URL</th>\n",
       "    </tr>\n",
       "  </thead>\n",
       "  <tbody>\n",
       "    <tr>\n",
       "      <th>737</th>\n",
       "      <td>556</td>\n",
       "      <td>https://www.amazon.com/dp/B001UCELX4</td>\n",
       "    </tr>\n",
       "    <tr>\n",
       "      <th>84</th>\n",
       "      <td>926</td>\n",
       "      <td>https://www.amazon.com/dp/B0029U2MYG</td>\n",
       "    </tr>\n",
       "    <tr>\n",
       "      <th>1708</th>\n",
       "      <td>900</td>\n",
       "      <td>https://www.amazon.com/dp/B00292UEVW</td>\n",
       "    </tr>\n",
       "    <tr>\n",
       "      <th>249</th>\n",
       "      <td>536</td>\n",
       "      <td>https://www.amazon.com/dp/B001U36406</td>\n",
       "    </tr>\n",
       "    <tr>\n",
       "      <th>610</th>\n",
       "      <td>1109</td>\n",
       "      <td>https://www.amazon.com/dp/B002BYHI8A</td>\n",
       "    </tr>\n",
       "  </tbody>\n",
       "</table>\n",
       "</div>"
      ],
      "text/plain": [
       "      itemID                              prod_URL\n",
       "737      556  https://www.amazon.com/dp/B001UCELX4\n",
       "84       926  https://www.amazon.com/dp/B0029U2MYG\n",
       "1708     900  https://www.amazon.com/dp/B00292UEVW\n",
       "249      536  https://www.amazon.com/dp/B001U36406\n",
       "610     1109  https://www.amazon.com/dp/B002BYHI8A"
      ]
     },
     "execution_count": 159,
     "metadata": {},
     "output_type": "execute_result"
    }
   ],
   "source": [
    "# Print the predictions for that user\n",
    "predictions"
   ]
  },
  {
   "cell_type": "code",
   "execution_count": 160,
   "metadata": {},
   "outputs": [
    {
     "name": "stdout",
     "output_type": "stream",
     "text": [
      "User 42 has already rated 1 items.\n",
      "Recommending the highest 5 predicted ratings for items not already rated.\n"
     ]
    }
   ],
   "source": [
    "already_rated, predictions = recommend_items(preds_df, 42, item_df, df_user_item, 5)"
   ]
  },
  {
   "cell_type": "code",
   "execution_count": 161,
   "metadata": {},
   "outputs": [
    {
     "data": {
      "text/html": [
       "<div>\n",
       "<style>\n",
       "    .dataframe thead tr:only-child th {\n",
       "        text-align: right;\n",
       "    }\n",
       "\n",
       "    .dataframe thead th {\n",
       "        text-align: left;\n",
       "    }\n",
       "\n",
       "    .dataframe tbody tr th {\n",
       "        vertical-align: top;\n",
       "    }\n",
       "</style>\n",
       "<table border=\"1\" class=\"dataframe\">\n",
       "  <thead>\n",
       "    <tr style=\"text-align: right;\">\n",
       "      <th></th>\n",
       "      <th>userID</th>\n",
       "      <th>itemID</th>\n",
       "      <th>average_rating</th>\n",
       "      <th>prod_URL</th>\n",
       "    </tr>\n",
       "  </thead>\n",
       "  <tbody>\n",
       "    <tr>\n",
       "      <th>0</th>\n",
       "      <td>42</td>\n",
       "      <td>580</td>\n",
       "      <td>2.7</td>\n",
       "      <td>https://www.amazon.com/dp/B001USJ016</td>\n",
       "    </tr>\n",
       "  </tbody>\n",
       "</table>\n",
       "</div>"
      ],
      "text/plain": [
       "   userID  itemID  average_rating                              prod_URL\n",
       "0      42     580             2.7  https://www.amazon.com/dp/B001USJ016"
      ]
     },
     "execution_count": 161,
     "metadata": {},
     "output_type": "execute_result"
    }
   ],
   "source": [
    "# Print the previously rated item record\n",
    "already_rated.head(5)"
   ]
  },
  {
   "cell_type": "code",
   "execution_count": 162,
   "metadata": {},
   "outputs": [
    {
     "data": {
      "text/html": [
       "<div>\n",
       "<style>\n",
       "    .dataframe thead tr:only-child th {\n",
       "        text-align: right;\n",
       "    }\n",
       "\n",
       "    .dataframe thead th {\n",
       "        text-align: left;\n",
       "    }\n",
       "\n",
       "    .dataframe tbody tr th {\n",
       "        vertical-align: top;\n",
       "    }\n",
       "</style>\n",
       "<table border=\"1\" class=\"dataframe\">\n",
       "  <thead>\n",
       "    <tr style=\"text-align: right;\">\n",
       "      <th></th>\n",
       "      <th>itemID</th>\n",
       "      <th>prod_URL</th>\n",
       "    </tr>\n",
       "  </thead>\n",
       "  <tbody>\n",
       "    <tr>\n",
       "      <th>132</th>\n",
       "      <td>875</td>\n",
       "      <td>https://www.amazon.com/dp/B0028MIQG8</td>\n",
       "    </tr>\n",
       "    <tr>\n",
       "      <th>1246</th>\n",
       "      <td>6</td>\n",
       "      <td>https://www.amazon.com/dp/B001KW92S8</td>\n",
       "    </tr>\n",
       "    <tr>\n",
       "      <th>1482</th>\n",
       "      <td>911</td>\n",
       "      <td>https://www.amazon.com/dp/B00299JIQ2</td>\n",
       "    </tr>\n",
       "    <tr>\n",
       "      <th>1749</th>\n",
       "      <td>1972</td>\n",
       "      <td>https://www.amazon.com/dp/B002OVTBD0</td>\n",
       "    </tr>\n",
       "    <tr>\n",
       "      <th>1974</th>\n",
       "      <td>878</td>\n",
       "      <td>https://www.amazon.com/dp/B0028N5192</td>\n",
       "    </tr>\n",
       "  </tbody>\n",
       "</table>\n",
       "</div>"
      ],
      "text/plain": [
       "      itemID                              prod_URL\n",
       "132      875  https://www.amazon.com/dp/B0028MIQG8\n",
       "1246       6  https://www.amazon.com/dp/B001KW92S8\n",
       "1482     911  https://www.amazon.com/dp/B00299JIQ2\n",
       "1749    1972  https://www.amazon.com/dp/B002OVTBD0\n",
       "1974     878  https://www.amazon.com/dp/B0028N5192"
      ]
     },
     "execution_count": 162,
     "metadata": {},
     "output_type": "execute_result"
    }
   ],
   "source": [
    "# Print the predictions for that user\n",
    "predictions"
   ]
  },
  {
   "cell_type": "code",
   "execution_count": 163,
   "metadata": {},
   "outputs": [
    {
     "name": "stdout",
     "output_type": "stream",
     "text": [
      "User 43 has already rated 1 items.\n",
      "Recommending the highest 5 predicted ratings for items not already rated.\n"
     ]
    }
   ],
   "source": [
    "already_rated, predictions = recommend_items(preds_df, 43, item_df, df_user_item, 5)"
   ]
  },
  {
   "cell_type": "code",
   "execution_count": 164,
   "metadata": {},
   "outputs": [
    {
     "data": {
      "text/html": [
       "<div>\n",
       "<style>\n",
       "    .dataframe thead tr:only-child th {\n",
       "        text-align: right;\n",
       "    }\n",
       "\n",
       "    .dataframe thead th {\n",
       "        text-align: left;\n",
       "    }\n",
       "\n",
       "    .dataframe tbody tr th {\n",
       "        vertical-align: top;\n",
       "    }\n",
       "</style>\n",
       "<table border=\"1\" class=\"dataframe\">\n",
       "  <thead>\n",
       "    <tr style=\"text-align: right;\">\n",
       "      <th></th>\n",
       "      <th>userID</th>\n",
       "      <th>itemID</th>\n",
       "      <th>average_rating</th>\n",
       "      <th>prod_URL</th>\n",
       "    </tr>\n",
       "  </thead>\n",
       "  <tbody>\n",
       "    <tr>\n",
       "      <th>0</th>\n",
       "      <td>43</td>\n",
       "      <td>352</td>\n",
       "      <td>2.9</td>\n",
       "      <td>https://www.amazon.com/dp/B001QTW21Y</td>\n",
       "    </tr>\n",
       "  </tbody>\n",
       "</table>\n",
       "</div>"
      ],
      "text/plain": [
       "   userID  itemID  average_rating                              prod_URL\n",
       "0      43     352             2.9  https://www.amazon.com/dp/B001QTW21Y"
      ]
     },
     "execution_count": 164,
     "metadata": {},
     "output_type": "execute_result"
    }
   ],
   "source": [
    "# Print the previously rated item record\n",
    "already_rated.head(5)"
   ]
  },
  {
   "cell_type": "code",
   "execution_count": 165,
   "metadata": {},
   "outputs": [
    {
     "data": {
      "text/html": [
       "<div>\n",
       "<style>\n",
       "    .dataframe thead tr:only-child th {\n",
       "        text-align: right;\n",
       "    }\n",
       "\n",
       "    .dataframe thead th {\n",
       "        text-align: left;\n",
       "    }\n",
       "\n",
       "    .dataframe tbody tr th {\n",
       "        vertical-align: top;\n",
       "    }\n",
       "</style>\n",
       "<table border=\"1\" class=\"dataframe\">\n",
       "  <thead>\n",
       "    <tr style=\"text-align: right;\">\n",
       "      <th></th>\n",
       "      <th>itemID</th>\n",
       "      <th>prod_URL</th>\n",
       "    </tr>\n",
       "  </thead>\n",
       "  <tbody>\n",
       "    <tr>\n",
       "      <th>577</th>\n",
       "      <td>449</td>\n",
       "      <td>https://www.amazon.com/dp/B001STQBJG</td>\n",
       "    </tr>\n",
       "    <tr>\n",
       "      <th>46</th>\n",
       "      <td>1935</td>\n",
       "      <td>https://www.amazon.com/dp/B002ODQJKQ</td>\n",
       "    </tr>\n",
       "    <tr>\n",
       "      <th>228</th>\n",
       "      <td>109</td>\n",
       "      <td>https://www.amazon.com/dp/B001MG0CB8</td>\n",
       "    </tr>\n",
       "    <tr>\n",
       "      <th>81</th>\n",
       "      <td>223</td>\n",
       "      <td>https://www.amazon.com/dp/B001OD2OAQ</td>\n",
       "    </tr>\n",
       "    <tr>\n",
       "      <th>475</th>\n",
       "      <td>619</td>\n",
       "      <td>https://www.amazon.com/dp/B001VSP3C0</td>\n",
       "    </tr>\n",
       "  </tbody>\n",
       "</table>\n",
       "</div>"
      ],
      "text/plain": [
       "     itemID                              prod_URL\n",
       "577     449  https://www.amazon.com/dp/B001STQBJG\n",
       "46     1935  https://www.amazon.com/dp/B002ODQJKQ\n",
       "228     109  https://www.amazon.com/dp/B001MG0CB8\n",
       "81      223  https://www.amazon.com/dp/B001OD2OAQ\n",
       "475     619  https://www.amazon.com/dp/B001VSP3C0"
      ]
     },
     "execution_count": 165,
     "metadata": {},
     "output_type": "execute_result"
    }
   ],
   "source": [
    "# Print the predictions for that user\n",
    "predictions"
   ]
  },
  {
   "cell_type": "code",
   "execution_count": 166,
   "metadata": {},
   "outputs": [
    {
     "name": "stdout",
     "output_type": "stream",
     "text": [
      "User 44 has already rated 1 items.\n",
      "Recommending the highest 5 predicted ratings for items not already rated.\n"
     ]
    }
   ],
   "source": [
    "already_rated, predictions = recommend_items(preds_df, 44, item_df, df_user_item, 5)"
   ]
  },
  {
   "cell_type": "code",
   "execution_count": 167,
   "metadata": {},
   "outputs": [
    {
     "data": {
      "text/html": [
       "<div>\n",
       "<style>\n",
       "    .dataframe thead tr:only-child th {\n",
       "        text-align: right;\n",
       "    }\n",
       "\n",
       "    .dataframe thead th {\n",
       "        text-align: left;\n",
       "    }\n",
       "\n",
       "    .dataframe tbody tr th {\n",
       "        vertical-align: top;\n",
       "    }\n",
       "</style>\n",
       "<table border=\"1\" class=\"dataframe\">\n",
       "  <thead>\n",
       "    <tr style=\"text-align: right;\">\n",
       "      <th></th>\n",
       "      <th>userID</th>\n",
       "      <th>itemID</th>\n",
       "      <th>average_rating</th>\n",
       "      <th>prod_URL</th>\n",
       "    </tr>\n",
       "  </thead>\n",
       "  <tbody>\n",
       "    <tr>\n",
       "      <th>0</th>\n",
       "      <td>44</td>\n",
       "      <td>1072</td>\n",
       "      <td>2.9</td>\n",
       "      <td>https://www.amazon.com/dp/B002BH3I9U</td>\n",
       "    </tr>\n",
       "  </tbody>\n",
       "</table>\n",
       "</div>"
      ],
      "text/plain": [
       "   userID  itemID  average_rating                              prod_URL\n",
       "0      44    1072             2.9  https://www.amazon.com/dp/B002BH3I9U"
      ]
     },
     "execution_count": 167,
     "metadata": {},
     "output_type": "execute_result"
    }
   ],
   "source": [
    "# Print the previously rated item record\n",
    "already_rated.head(5)"
   ]
  },
  {
   "cell_type": "code",
   "execution_count": 168,
   "metadata": {},
   "outputs": [
    {
     "data": {
      "text/html": [
       "<div>\n",
       "<style>\n",
       "    .dataframe thead tr:only-child th {\n",
       "        text-align: right;\n",
       "    }\n",
       "\n",
       "    .dataframe thead th {\n",
       "        text-align: left;\n",
       "    }\n",
       "\n",
       "    .dataframe tbody tr th {\n",
       "        vertical-align: top;\n",
       "    }\n",
       "</style>\n",
       "<table border=\"1\" class=\"dataframe\">\n",
       "  <thead>\n",
       "    <tr style=\"text-align: right;\">\n",
       "      <th></th>\n",
       "      <th>itemID</th>\n",
       "      <th>prod_URL</th>\n",
       "    </tr>\n",
       "  </thead>\n",
       "  <tbody>\n",
       "    <tr>\n",
       "      <th>399</th>\n",
       "      <td>352</td>\n",
       "      <td>https://www.amazon.com/dp/B001QTW21Y</td>\n",
       "    </tr>\n",
       "    <tr>\n",
       "      <th>1940</th>\n",
       "      <td>283</td>\n",
       "      <td>https://www.amazon.com/dp/B001PDA98Y</td>\n",
       "    </tr>\n",
       "    <tr>\n",
       "      <th>1246</th>\n",
       "      <td>6</td>\n",
       "      <td>https://www.amazon.com/dp/B001KW92S8</td>\n",
       "    </tr>\n",
       "    <tr>\n",
       "      <th>640</th>\n",
       "      <td>286</td>\n",
       "      <td>https://www.amazon.com/dp/B001PH42EW</td>\n",
       "    </tr>\n",
       "    <tr>\n",
       "      <th>764</th>\n",
       "      <td>938</td>\n",
       "      <td>https://www.amazon.com/dp/B0029Z9T9W</td>\n",
       "    </tr>\n",
       "  </tbody>\n",
       "</table>\n",
       "</div>"
      ],
      "text/plain": [
       "      itemID                              prod_URL\n",
       "399      352  https://www.amazon.com/dp/B001QTW21Y\n",
       "1940     283  https://www.amazon.com/dp/B001PDA98Y\n",
       "1246       6  https://www.amazon.com/dp/B001KW92S8\n",
       "640      286  https://www.amazon.com/dp/B001PH42EW\n",
       "764      938  https://www.amazon.com/dp/B0029Z9T9W"
      ]
     },
     "execution_count": 168,
     "metadata": {},
     "output_type": "execute_result"
    }
   ],
   "source": [
    "# Print the predictions for that user\n",
    "predictions"
   ]
  },
  {
   "cell_type": "code",
   "execution_count": 169,
   "metadata": {
    "collapsed": true
   },
   "outputs": [],
   "source": [
    "# Now We will make recommondations from the test data using the overall ratings only \n",
    "\n",
    "# prepare the test data and unique item data\n",
    "\n",
    "#Select only the required columns\n",
    "\n",
    "\n",
    "df_user_item_test = df_user_prod[['userID','itemID', 'overall']]"
   ]
  },
  {
   "cell_type": "code",
   "execution_count": 170,
   "metadata": {},
   "outputs": [
    {
     "data": {
      "text/html": [
       "<div>\n",
       "<style>\n",
       "    .dataframe thead tr:only-child th {\n",
       "        text-align: right;\n",
       "    }\n",
       "\n",
       "    .dataframe thead th {\n",
       "        text-align: left;\n",
       "    }\n",
       "\n",
       "    .dataframe tbody tr th {\n",
       "        vertical-align: top;\n",
       "    }\n",
       "</style>\n",
       "<table border=\"1\" class=\"dataframe\">\n",
       "  <thead>\n",
       "    <tr style=\"text-align: right;\">\n",
       "      <th></th>\n",
       "      <th>userID</th>\n",
       "      <th>itemID</th>\n",
       "      <th>overall</th>\n",
       "    </tr>\n",
       "  </thead>\n",
       "  <tbody>\n",
       "    <tr>\n",
       "      <th>0</th>\n",
       "      <td>1453</td>\n",
       "      <td>816</td>\n",
       "      <td>5.0</td>\n",
       "    </tr>\n",
       "    <tr>\n",
       "      <th>1</th>\n",
       "      <td>348</td>\n",
       "      <td>1072</td>\n",
       "      <td>5.0</td>\n",
       "    </tr>\n",
       "    <tr>\n",
       "      <th>2</th>\n",
       "      <td>969</td>\n",
       "      <td>687</td>\n",
       "      <td>2.0</td>\n",
       "    </tr>\n",
       "  </tbody>\n",
       "</table>\n",
       "</div>"
      ],
      "text/plain": [
       "   userID  itemID  overall\n",
       "0    1453     816      5.0\n",
       "1     348    1072      5.0\n",
       "2     969     687      2.0"
      ]
     },
     "execution_count": 170,
     "metadata": {},
     "output_type": "execute_result"
    }
   ],
   "source": [
    "df_user_item_test.head(3)"
   ]
  },
  {
   "cell_type": "code",
   "execution_count": 171,
   "metadata": {
    "collapsed": true
   },
   "outputs": [],
   "source": [
    "df_user_item_pv_test=df_user_item_test.pivot(index='userID', columns='itemID', values='overall')"
   ]
  },
  {
   "cell_type": "code",
   "execution_count": 172,
   "metadata": {
    "collapsed": true
   },
   "outputs": [],
   "source": [
    "df_user_item_pv_test=df_user_item_pv_test.fillna(0)"
   ]
  },
  {
   "cell_type": "code",
   "execution_count": 173,
   "metadata": {},
   "outputs": [
    {
     "data": {
      "text/html": [
       "<div>\n",
       "<style>\n",
       "    .dataframe thead tr:only-child th {\n",
       "        text-align: right;\n",
       "    }\n",
       "\n",
       "    .dataframe thead th {\n",
       "        text-align: left;\n",
       "    }\n",
       "\n",
       "    .dataframe tbody tr th {\n",
       "        vertical-align: top;\n",
       "    }\n",
       "</style>\n",
       "<table border=\"1\" class=\"dataframe\">\n",
       "  <thead>\n",
       "    <tr style=\"text-align: right;\">\n",
       "      <th>itemID</th>\n",
       "      <th>0</th>\n",
       "      <th>1</th>\n",
       "      <th>2</th>\n",
       "      <th>3</th>\n",
       "      <th>4</th>\n",
       "      <th>5</th>\n",
       "      <th>6</th>\n",
       "      <th>7</th>\n",
       "      <th>8</th>\n",
       "      <th>9</th>\n",
       "      <th>...</th>\n",
       "      <th>2043</th>\n",
       "      <th>2044</th>\n",
       "      <th>2045</th>\n",
       "      <th>2046</th>\n",
       "      <th>2047</th>\n",
       "      <th>2048</th>\n",
       "      <th>2049</th>\n",
       "      <th>2050</th>\n",
       "      <th>2051</th>\n",
       "      <th>2052</th>\n",
       "    </tr>\n",
       "    <tr>\n",
       "      <th>userID</th>\n",
       "      <th></th>\n",
       "      <th></th>\n",
       "      <th></th>\n",
       "      <th></th>\n",
       "      <th></th>\n",
       "      <th></th>\n",
       "      <th></th>\n",
       "      <th></th>\n",
       "      <th></th>\n",
       "      <th></th>\n",
       "      <th></th>\n",
       "      <th></th>\n",
       "      <th></th>\n",
       "      <th></th>\n",
       "      <th></th>\n",
       "      <th></th>\n",
       "      <th></th>\n",
       "      <th></th>\n",
       "      <th></th>\n",
       "      <th></th>\n",
       "      <th></th>\n",
       "    </tr>\n",
       "  </thead>\n",
       "  <tbody>\n",
       "    <tr>\n",
       "      <th>0</th>\n",
       "      <td>0.0</td>\n",
       "      <td>0.0</td>\n",
       "      <td>0.0</td>\n",
       "      <td>0.0</td>\n",
       "      <td>0.0</td>\n",
       "      <td>0.0</td>\n",
       "      <td>0.0</td>\n",
       "      <td>0.0</td>\n",
       "      <td>0.0</td>\n",
       "      <td>0.0</td>\n",
       "      <td>...</td>\n",
       "      <td>0.0</td>\n",
       "      <td>0.0</td>\n",
       "      <td>0.0</td>\n",
       "      <td>0.0</td>\n",
       "      <td>0.0</td>\n",
       "      <td>0.0</td>\n",
       "      <td>0.0</td>\n",
       "      <td>0.0</td>\n",
       "      <td>0.0</td>\n",
       "      <td>0.0</td>\n",
       "    </tr>\n",
       "    <tr>\n",
       "      <th>1</th>\n",
       "      <td>0.0</td>\n",
       "      <td>0.0</td>\n",
       "      <td>0.0</td>\n",
       "      <td>0.0</td>\n",
       "      <td>0.0</td>\n",
       "      <td>0.0</td>\n",
       "      <td>0.0</td>\n",
       "      <td>0.0</td>\n",
       "      <td>0.0</td>\n",
       "      <td>0.0</td>\n",
       "      <td>...</td>\n",
       "      <td>0.0</td>\n",
       "      <td>0.0</td>\n",
       "      <td>0.0</td>\n",
       "      <td>0.0</td>\n",
       "      <td>0.0</td>\n",
       "      <td>0.0</td>\n",
       "      <td>0.0</td>\n",
       "      <td>0.0</td>\n",
       "      <td>0.0</td>\n",
       "      <td>0.0</td>\n",
       "    </tr>\n",
       "    <tr>\n",
       "      <th>2</th>\n",
       "      <td>0.0</td>\n",
       "      <td>0.0</td>\n",
       "      <td>0.0</td>\n",
       "      <td>0.0</td>\n",
       "      <td>0.0</td>\n",
       "      <td>0.0</td>\n",
       "      <td>0.0</td>\n",
       "      <td>0.0</td>\n",
       "      <td>0.0</td>\n",
       "      <td>0.0</td>\n",
       "      <td>...</td>\n",
       "      <td>0.0</td>\n",
       "      <td>0.0</td>\n",
       "      <td>0.0</td>\n",
       "      <td>0.0</td>\n",
       "      <td>0.0</td>\n",
       "      <td>0.0</td>\n",
       "      <td>0.0</td>\n",
       "      <td>0.0</td>\n",
       "      <td>0.0</td>\n",
       "      <td>0.0</td>\n",
       "    </tr>\n",
       "  </tbody>\n",
       "</table>\n",
       "<p>3 rows × 2053 columns</p>\n",
       "</div>"
      ],
      "text/plain": [
       "itemID  0     1     2     3     4     5     6     7     8     9     ...   \\\n",
       "userID                                                              ...    \n",
       "0        0.0   0.0   0.0   0.0   0.0   0.0   0.0   0.0   0.0   0.0  ...    \n",
       "1        0.0   0.0   0.0   0.0   0.0   0.0   0.0   0.0   0.0   0.0  ...    \n",
       "2        0.0   0.0   0.0   0.0   0.0   0.0   0.0   0.0   0.0   0.0  ...    \n",
       "\n",
       "itemID  2043  2044  2045  2046  2047  2048  2049  2050  2051  2052  \n",
       "userID                                                              \n",
       "0        0.0   0.0   0.0   0.0   0.0   0.0   0.0   0.0   0.0   0.0  \n",
       "1        0.0   0.0   0.0   0.0   0.0   0.0   0.0   0.0   0.0   0.0  \n",
       "2        0.0   0.0   0.0   0.0   0.0   0.0   0.0   0.0   0.0   0.0  \n",
       "\n",
       "[3 rows x 2053 columns]"
      ]
     },
     "execution_count": 173,
     "metadata": {},
     "output_type": "execute_result"
    }
   ],
   "source": [
    "df_user_item_pv_test.head(3)"
   ]
  },
  {
   "cell_type": "code",
   "execution_count": 174,
   "metadata": {
    "collapsed": true
   },
   "outputs": [],
   "source": [
    "R_test = df_user_item_pv_test.as_matrix()"
   ]
  },
  {
   "cell_type": "code",
   "execution_count": 175,
   "metadata": {
    "collapsed": true
   },
   "outputs": [],
   "source": [
    "user_ratings_mean_test = np.mean(R_test, axis = 1)"
   ]
  },
  {
   "cell_type": "code",
   "execution_count": 176,
   "metadata": {
    "collapsed": true
   },
   "outputs": [],
   "source": [
    "R_demeaned_test = R_test - user_ratings_mean_test.reshape(-1, 1)"
   ]
  },
  {
   "cell_type": "code",
   "execution_count": 177,
   "metadata": {
    "collapsed": true
   },
   "outputs": [],
   "source": [
    "from scipy.sparse.linalg import svds\n",
    "U_test, sigma_test, Vt_test = svds(R_demeaned_test, k = 50)"
   ]
  },
  {
   "cell_type": "code",
   "execution_count": 178,
   "metadata": {
    "collapsed": true
   },
   "outputs": [],
   "source": [
    "sigma_test = np.diag(sigma_test)"
   ]
  },
  {
   "cell_type": "code",
   "execution_count": 179,
   "metadata": {
    "collapsed": true
   },
   "outputs": [],
   "source": [
    "\n",
    "\n",
    "all_user_predicted_ratings_test = np.dot(np.dot(U_test, sigma_test), Vt_test) + user_ratings_mean_test.reshape(-1, 1)"
   ]
  },
  {
   "cell_type": "code",
   "execution_count": 180,
   "metadata": {
    "collapsed": true
   },
   "outputs": [],
   "source": [
    "preds_df_test = pd.DataFrame(all_user_predicted_ratings_test, columns = df_user_item_pv_test.columns)"
   ]
  },
  {
   "cell_type": "code",
   "execution_count": 181,
   "metadata": {
    "collapsed": true
   },
   "outputs": [],
   "source": [
    "# Define a function which will accept the userID , lookup the products he has already rated and make top k recommendations\n",
    "#based on overall ratings\n",
    "\n",
    "def recommend_items_test(predictions_df, userID, item_df, original_ratings_df, num_recommendations=5):\n",
    "    \n",
    "    # Get and sort the user's predictions\n",
    "    user_row_number = userID - 1 # UserID starts at 1, not 0\n",
    "    sorted_user_predictions = predictions_df.iloc[user_row_number].sort_values(ascending=False)\n",
    "    # print(sorted_user_predictions)\n",
    "    # Get the user's data and merge in the item  information.\n",
    "    user_data = original_ratings_df[original_ratings_df.userID == (userID)]\n",
    "    user_full = (user_data.merge(item_df, how = 'left', left_on = 'itemID', right_on = 'itemID').\n",
    "                     sort_values(['overall'], ascending=False)\n",
    "                 )\n",
    "\n",
    "    print 'User {0} has already rated {1} items.'.format(userID, user_full.shape[0])\n",
    "    print 'Recommending the highest {0} predicted ratings for items not already rated.'.format(num_recommendations)\n",
    "    \n",
    "    # Recommend the highest predicted rating items that the user hasn't seen yet.\n",
    "    recommendations = (item_df[~item_df['itemID'].isin(user_full['itemID'])].\n",
    "         merge(pd.DataFrame(sorted_user_predictions).reset_index(), how = 'left',\n",
    "               left_on = 'itemID',\n",
    "               right_on = 'itemID').\n",
    "         rename(columns = {user_row_number: 'Predictions'}).\n",
    "         sort_values('Predictions', ascending = False).\n",
    "                       iloc[:num_recommendations, :-1]\n",
    "                      )\n",
    "\n",
    "    return user_full, recommendations"
   ]
  },
  {
   "cell_type": "code",
   "execution_count": 182,
   "metadata": {},
   "outputs": [
    {
     "name": "stdout",
     "output_type": "stream",
     "text": [
      "User 40 has already rated 1 items.\n",
      "Recommending the highest 5 predicted ratings for items not already rated.\n"
     ]
    }
   ],
   "source": [
    "already_rated_test, predictions_test = recommend_items_test(preds_df_test, 40, item_df, df_user_item_test, 5)"
   ]
  },
  {
   "cell_type": "code",
   "execution_count": 183,
   "metadata": {},
   "outputs": [
    {
     "data": {
      "text/html": [
       "<div>\n",
       "<style>\n",
       "    .dataframe thead tr:only-child th {\n",
       "        text-align: right;\n",
       "    }\n",
       "\n",
       "    .dataframe thead th {\n",
       "        text-align: left;\n",
       "    }\n",
       "\n",
       "    .dataframe tbody tr th {\n",
       "        vertical-align: top;\n",
       "    }\n",
       "</style>\n",
       "<table border=\"1\" class=\"dataframe\">\n",
       "  <thead>\n",
       "    <tr style=\"text-align: right;\">\n",
       "      <th></th>\n",
       "      <th>userID</th>\n",
       "      <th>itemID</th>\n",
       "      <th>overall</th>\n",
       "      <th>prod_URL</th>\n",
       "    </tr>\n",
       "  </thead>\n",
       "  <tbody>\n",
       "    <tr>\n",
       "      <th>0</th>\n",
       "      <td>40</td>\n",
       "      <td>556</td>\n",
       "      <td>5.0</td>\n",
       "      <td>https://www.amazon.com/dp/B001UCELX4</td>\n",
       "    </tr>\n",
       "  </tbody>\n",
       "</table>\n",
       "</div>"
      ],
      "text/plain": [
       "   userID  itemID  overall                              prod_URL\n",
       "0      40     556      5.0  https://www.amazon.com/dp/B001UCELX4"
      ]
     },
     "execution_count": 183,
     "metadata": {},
     "output_type": "execute_result"
    }
   ],
   "source": [
    "# Print the previously rated item record\n",
    "already_rated_test.head(5)"
   ]
  },
  {
   "cell_type": "code",
   "execution_count": 184,
   "metadata": {},
   "outputs": [
    {
     "data": {
      "text/html": [
       "<div>\n",
       "<style>\n",
       "    .dataframe thead tr:only-child th {\n",
       "        text-align: right;\n",
       "    }\n",
       "\n",
       "    .dataframe thead th {\n",
       "        text-align: left;\n",
       "    }\n",
       "\n",
       "    .dataframe tbody tr th {\n",
       "        vertical-align: top;\n",
       "    }\n",
       "</style>\n",
       "<table border=\"1\" class=\"dataframe\">\n",
       "  <thead>\n",
       "    <tr style=\"text-align: right;\">\n",
       "      <th></th>\n",
       "      <th>itemID</th>\n",
       "      <th>prod_URL</th>\n",
       "    </tr>\n",
       "  </thead>\n",
       "  <tbody>\n",
       "    <tr>\n",
       "      <th>1</th>\n",
       "      <td>1072</td>\n",
       "      <td>https://www.amazon.com/dp/B002BH3I9U</td>\n",
       "    </tr>\n",
       "    <tr>\n",
       "      <th>427</th>\n",
       "      <td>921</td>\n",
       "      <td>https://www.amazon.com/dp/B0029RVHRM</td>\n",
       "    </tr>\n",
       "    <tr>\n",
       "      <th>1229</th>\n",
       "      <td>1330</td>\n",
       "      <td>https://www.amazon.com/dp/B002FL1AVA</td>\n",
       "    </tr>\n",
       "    <tr>\n",
       "      <th>1409</th>\n",
       "      <td>2032</td>\n",
       "      <td>https://www.amazon.com/dp/B002Q0Z908</td>\n",
       "    </tr>\n",
       "    <tr>\n",
       "      <th>1584</th>\n",
       "      <td>532</td>\n",
       "      <td>https://www.amazon.com/dp/B001TZ5DWU</td>\n",
       "    </tr>\n",
       "  </tbody>\n",
       "</table>\n",
       "</div>"
      ],
      "text/plain": [
       "      itemID                              prod_URL\n",
       "1       1072  https://www.amazon.com/dp/B002BH3I9U\n",
       "427      921  https://www.amazon.com/dp/B0029RVHRM\n",
       "1229    1330  https://www.amazon.com/dp/B002FL1AVA\n",
       "1409    2032  https://www.amazon.com/dp/B002Q0Z908\n",
       "1584     532  https://www.amazon.com/dp/B001TZ5DWU"
      ]
     },
     "execution_count": 184,
     "metadata": {},
     "output_type": "execute_result"
    }
   ],
   "source": [
    "# Print the predictions for that user\n",
    "predictions_test"
   ]
  },
  {
   "cell_type": "code",
   "execution_count": 185,
   "metadata": {},
   "outputs": [
    {
     "name": "stdout",
     "output_type": "stream",
     "text": [
      "User 41 has already rated 1 items.\n",
      "Recommending the highest 5 predicted ratings for items not already rated.\n"
     ]
    }
   ],
   "source": [
    "already_rated_test, predictions_test = recommend_items_test(preds_df_test, 41, item_df, df_user_item_test, 5)"
   ]
  },
  {
   "cell_type": "code",
   "execution_count": 186,
   "metadata": {},
   "outputs": [
    {
     "data": {
      "text/html": [
       "<div>\n",
       "<style>\n",
       "    .dataframe thead tr:only-child th {\n",
       "        text-align: right;\n",
       "    }\n",
       "\n",
       "    .dataframe thead th {\n",
       "        text-align: left;\n",
       "    }\n",
       "\n",
       "    .dataframe tbody tr th {\n",
       "        vertical-align: top;\n",
       "    }\n",
       "</style>\n",
       "<table border=\"1\" class=\"dataframe\">\n",
       "  <thead>\n",
       "    <tr style=\"text-align: right;\">\n",
       "      <th></th>\n",
       "      <th>userID</th>\n",
       "      <th>itemID</th>\n",
       "      <th>overall</th>\n",
       "      <th>prod_URL</th>\n",
       "    </tr>\n",
       "  </thead>\n",
       "  <tbody>\n",
       "    <tr>\n",
       "      <th>0</th>\n",
       "      <td>41</td>\n",
       "      <td>875</td>\n",
       "      <td>4.0</td>\n",
       "      <td>https://www.amazon.com/dp/B0028MIQG8</td>\n",
       "    </tr>\n",
       "  </tbody>\n",
       "</table>\n",
       "</div>"
      ],
      "text/plain": [
       "   userID  itemID  overall                              prod_URL\n",
       "0      41     875      4.0  https://www.amazon.com/dp/B0028MIQG8"
      ]
     },
     "execution_count": 186,
     "metadata": {},
     "output_type": "execute_result"
    }
   ],
   "source": [
    "# Print the previously rated item record\n",
    "already_rated_test.head(5)"
   ]
  },
  {
   "cell_type": "code",
   "execution_count": 187,
   "metadata": {},
   "outputs": [
    {
     "data": {
      "text/html": [
       "<div>\n",
       "<style>\n",
       "    .dataframe thead tr:only-child th {\n",
       "        text-align: right;\n",
       "    }\n",
       "\n",
       "    .dataframe thead th {\n",
       "        text-align: left;\n",
       "    }\n",
       "\n",
       "    .dataframe tbody tr th {\n",
       "        vertical-align: top;\n",
       "    }\n",
       "</style>\n",
       "<table border=\"1\" class=\"dataframe\">\n",
       "  <thead>\n",
       "    <tr style=\"text-align: right;\">\n",
       "      <th></th>\n",
       "      <th>itemID</th>\n",
       "      <th>prod_URL</th>\n",
       "    </tr>\n",
       "  </thead>\n",
       "  <tbody>\n",
       "    <tr>\n",
       "      <th>737</th>\n",
       "      <td>556</td>\n",
       "      <td>https://www.amazon.com/dp/B001UCELX4</td>\n",
       "    </tr>\n",
       "    <tr>\n",
       "      <th>818</th>\n",
       "      <td>455</td>\n",
       "      <td>https://www.amazon.com/dp/B001SUGOOW</td>\n",
       "    </tr>\n",
       "    <tr>\n",
       "      <th>1556</th>\n",
       "      <td>49</td>\n",
       "      <td>https://www.amazon.com/dp/B001L869A0</td>\n",
       "    </tr>\n",
       "    <tr>\n",
       "      <th>1951</th>\n",
       "      <td>1078</td>\n",
       "      <td>https://www.amazon.com/dp/B002BLMB8A</td>\n",
       "    </tr>\n",
       "    <tr>\n",
       "      <th>1128</th>\n",
       "      <td>1543</td>\n",
       "      <td>https://www.amazon.com/dp/B002IZ4VC8</td>\n",
       "    </tr>\n",
       "  </tbody>\n",
       "</table>\n",
       "</div>"
      ],
      "text/plain": [
       "      itemID                              prod_URL\n",
       "737      556  https://www.amazon.com/dp/B001UCELX4\n",
       "818      455  https://www.amazon.com/dp/B001SUGOOW\n",
       "1556      49  https://www.amazon.com/dp/B001L869A0\n",
       "1951    1078  https://www.amazon.com/dp/B002BLMB8A\n",
       "1128    1543  https://www.amazon.com/dp/B002IZ4VC8"
      ]
     },
     "execution_count": 187,
     "metadata": {},
     "output_type": "execute_result"
    }
   ],
   "source": [
    "# Print the predictions for that user\n",
    "predictions_test"
   ]
  },
  {
   "cell_type": "code",
   "execution_count": 188,
   "metadata": {},
   "outputs": [
    {
     "name": "stdout",
     "output_type": "stream",
     "text": [
      "User 42 has already rated 1 items.\n",
      "Recommending the highest 5 predicted ratings for items not already rated.\n"
     ]
    }
   ],
   "source": [
    "already_rated_test, predictions_test = recommend_items_test(preds_df_test, 42, item_df, df_user_item_test, 5)"
   ]
  },
  {
   "cell_type": "code",
   "execution_count": 189,
   "metadata": {},
   "outputs": [
    {
     "data": {
      "text/html": [
       "<div>\n",
       "<style>\n",
       "    .dataframe thead tr:only-child th {\n",
       "        text-align: right;\n",
       "    }\n",
       "\n",
       "    .dataframe thead th {\n",
       "        text-align: left;\n",
       "    }\n",
       "\n",
       "    .dataframe tbody tr th {\n",
       "        vertical-align: top;\n",
       "    }\n",
       "</style>\n",
       "<table border=\"1\" class=\"dataframe\">\n",
       "  <thead>\n",
       "    <tr style=\"text-align: right;\">\n",
       "      <th></th>\n",
       "      <th>userID</th>\n",
       "      <th>itemID</th>\n",
       "      <th>overall</th>\n",
       "      <th>prod_URL</th>\n",
       "    </tr>\n",
       "  </thead>\n",
       "  <tbody>\n",
       "    <tr>\n",
       "      <th>0</th>\n",
       "      <td>42</td>\n",
       "      <td>580</td>\n",
       "      <td>4.0</td>\n",
       "      <td>https://www.amazon.com/dp/B001USJ016</td>\n",
       "    </tr>\n",
       "  </tbody>\n",
       "</table>\n",
       "</div>"
      ],
      "text/plain": [
       "   userID  itemID  overall                              prod_URL\n",
       "0      42     580      4.0  https://www.amazon.com/dp/B001USJ016"
      ]
     },
     "execution_count": 189,
     "metadata": {},
     "output_type": "execute_result"
    }
   ],
   "source": [
    "# Print the previously rated item record\n",
    "already_rated_test.head(5)"
   ]
  },
  {
   "cell_type": "code",
   "execution_count": 190,
   "metadata": {},
   "outputs": [
    {
     "data": {
      "text/html": [
       "<div>\n",
       "<style>\n",
       "    .dataframe thead tr:only-child th {\n",
       "        text-align: right;\n",
       "    }\n",
       "\n",
       "    .dataframe thead th {\n",
       "        text-align: left;\n",
       "    }\n",
       "\n",
       "    .dataframe tbody tr th {\n",
       "        vertical-align: top;\n",
       "    }\n",
       "</style>\n",
       "<table border=\"1\" class=\"dataframe\">\n",
       "  <thead>\n",
       "    <tr style=\"text-align: right;\">\n",
       "      <th></th>\n",
       "      <th>itemID</th>\n",
       "      <th>prod_URL</th>\n",
       "    </tr>\n",
       "  </thead>\n",
       "  <tbody>\n",
       "    <tr>\n",
       "      <th>132</th>\n",
       "      <td>875</td>\n",
       "      <td>https://www.amazon.com/dp/B0028MIQG8</td>\n",
       "    </tr>\n",
       "    <tr>\n",
       "      <th>1289</th>\n",
       "      <td>1495</td>\n",
       "      <td>https://www.amazon.com/dp/B002IFOO70</td>\n",
       "    </tr>\n",
       "    <tr>\n",
       "      <th>1951</th>\n",
       "      <td>1078</td>\n",
       "      <td>https://www.amazon.com/dp/B002BLMB8A</td>\n",
       "    </tr>\n",
       "    <tr>\n",
       "      <th>292</th>\n",
       "      <td>697</td>\n",
       "      <td>https://www.amazon.com/dp/B0022Z88E6</td>\n",
       "    </tr>\n",
       "    <tr>\n",
       "      <th>1409</th>\n",
       "      <td>2032</td>\n",
       "      <td>https://www.amazon.com/dp/B002Q0Z908</td>\n",
       "    </tr>\n",
       "  </tbody>\n",
       "</table>\n",
       "</div>"
      ],
      "text/plain": [
       "      itemID                              prod_URL\n",
       "132      875  https://www.amazon.com/dp/B0028MIQG8\n",
       "1289    1495  https://www.amazon.com/dp/B002IFOO70\n",
       "1951    1078  https://www.amazon.com/dp/B002BLMB8A\n",
       "292      697  https://www.amazon.com/dp/B0022Z88E6\n",
       "1409    2032  https://www.amazon.com/dp/B002Q0Z908"
      ]
     },
     "execution_count": 190,
     "metadata": {},
     "output_type": "execute_result"
    }
   ],
   "source": [
    "# Print the predictions for that user\n",
    "predictions_test"
   ]
  },
  {
   "cell_type": "code",
   "execution_count": 197,
   "metadata": {},
   "outputs": [
    {
     "name": "stdout",
     "output_type": "stream",
     "text": [
      "User 43 has already rated 1 items.\n",
      "Recommending the highest 5 predicted ratings for items not already rated.\n"
     ]
    }
   ],
   "source": [
    "already_rated_test, predictions_test = recommend_items_test(preds_df_test, 43, item_df, df_user_item_test, 5)"
   ]
  },
  {
   "cell_type": "code",
   "execution_count": 198,
   "metadata": {},
   "outputs": [
    {
     "data": {
      "text/html": [
       "<div>\n",
       "<style>\n",
       "    .dataframe thead tr:only-child th {\n",
       "        text-align: right;\n",
       "    }\n",
       "\n",
       "    .dataframe thead th {\n",
       "        text-align: left;\n",
       "    }\n",
       "\n",
       "    .dataframe tbody tr th {\n",
       "        vertical-align: top;\n",
       "    }\n",
       "</style>\n",
       "<table border=\"1\" class=\"dataframe\">\n",
       "  <thead>\n",
       "    <tr style=\"text-align: right;\">\n",
       "      <th></th>\n",
       "      <th>userID</th>\n",
       "      <th>itemID</th>\n",
       "      <th>overall</th>\n",
       "      <th>prod_URL</th>\n",
       "    </tr>\n",
       "  </thead>\n",
       "  <tbody>\n",
       "    <tr>\n",
       "      <th>0</th>\n",
       "      <td>43</td>\n",
       "      <td>352</td>\n",
       "      <td>5.0</td>\n",
       "      <td>https://www.amazon.com/dp/B001QTW21Y</td>\n",
       "    </tr>\n",
       "  </tbody>\n",
       "</table>\n",
       "</div>"
      ],
      "text/plain": [
       "   userID  itemID  overall                              prod_URL\n",
       "0      43     352      5.0  https://www.amazon.com/dp/B001QTW21Y"
      ]
     },
     "execution_count": 198,
     "metadata": {},
     "output_type": "execute_result"
    }
   ],
   "source": [
    "# Print the previously rated item record\n",
    "already_rated_test.head(5)"
   ]
  },
  {
   "cell_type": "code",
   "execution_count": 199,
   "metadata": {},
   "outputs": [
    {
     "data": {
      "text/html": [
       "<div>\n",
       "<style>\n",
       "    .dataframe thead tr:only-child th {\n",
       "        text-align: right;\n",
       "    }\n",
       "\n",
       "    .dataframe thead th {\n",
       "        text-align: left;\n",
       "    }\n",
       "\n",
       "    .dataframe tbody tr th {\n",
       "        vertical-align: top;\n",
       "    }\n",
       "</style>\n",
       "<table border=\"1\" class=\"dataframe\">\n",
       "  <thead>\n",
       "    <tr style=\"text-align: right;\">\n",
       "      <th></th>\n",
       "      <th>itemID</th>\n",
       "      <th>prod_URL</th>\n",
       "    </tr>\n",
       "  </thead>\n",
       "  <tbody>\n",
       "    <tr>\n",
       "      <th>179</th>\n",
       "      <td>34</td>\n",
       "      <td>https://www.amazon.com/dp/B001L1XT28</td>\n",
       "    </tr>\n",
       "    <tr>\n",
       "      <th>56</th>\n",
       "      <td>117</td>\n",
       "      <td>https://www.amazon.com/dp/B001MRZY3S</td>\n",
       "    </tr>\n",
       "    <tr>\n",
       "      <th>31</th>\n",
       "      <td>342</td>\n",
       "      <td>https://www.amazon.com/dp/B001QHY2V4</td>\n",
       "    </tr>\n",
       "    <tr>\n",
       "      <th>906</th>\n",
       "      <td>947</td>\n",
       "      <td>https://www.amazon.com/dp/B002A9PVAI</td>\n",
       "    </tr>\n",
       "    <tr>\n",
       "      <th>127</th>\n",
       "      <td>629</td>\n",
       "      <td>https://www.amazon.com/dp/B001W4BJCG</td>\n",
       "    </tr>\n",
       "  </tbody>\n",
       "</table>\n",
       "</div>"
      ],
      "text/plain": [
       "     itemID                              prod_URL\n",
       "179      34  https://www.amazon.com/dp/B001L1XT28\n",
       "56      117  https://www.amazon.com/dp/B001MRZY3S\n",
       "31      342  https://www.amazon.com/dp/B001QHY2V4\n",
       "906     947  https://www.amazon.com/dp/B002A9PVAI\n",
       "127     629  https://www.amazon.com/dp/B001W4BJCG"
      ]
     },
     "execution_count": 199,
     "metadata": {},
     "output_type": "execute_result"
    }
   ],
   "source": [
    "# Print the predictions for that user\n",
    "predictions_test"
   ]
  },
  {
   "cell_type": "code",
   "execution_count": 200,
   "metadata": {},
   "outputs": [
    {
     "name": "stdout",
     "output_type": "stream",
     "text": [
      "User 44 has already rated 1 items.\n",
      "Recommending the highest 5 predicted ratings for items not already rated.\n"
     ]
    }
   ],
   "source": [
    "already_rated_test, predictions_test = recommend_items_test(preds_df_test, 44, item_df, df_user_item_test, 5)"
   ]
  },
  {
   "cell_type": "code",
   "execution_count": 201,
   "metadata": {},
   "outputs": [
    {
     "data": {
      "text/html": [
       "<div>\n",
       "<style>\n",
       "    .dataframe thead tr:only-child th {\n",
       "        text-align: right;\n",
       "    }\n",
       "\n",
       "    .dataframe thead th {\n",
       "        text-align: left;\n",
       "    }\n",
       "\n",
       "    .dataframe tbody tr th {\n",
       "        vertical-align: top;\n",
       "    }\n",
       "</style>\n",
       "<table border=\"1\" class=\"dataframe\">\n",
       "  <thead>\n",
       "    <tr style=\"text-align: right;\">\n",
       "      <th></th>\n",
       "      <th>userID</th>\n",
       "      <th>itemID</th>\n",
       "      <th>overall</th>\n",
       "      <th>prod_URL</th>\n",
       "    </tr>\n",
       "  </thead>\n",
       "  <tbody>\n",
       "    <tr>\n",
       "      <th>0</th>\n",
       "      <td>44</td>\n",
       "      <td>1072</td>\n",
       "      <td>5.0</td>\n",
       "      <td>https://www.amazon.com/dp/B002BH3I9U</td>\n",
       "    </tr>\n",
       "  </tbody>\n",
       "</table>\n",
       "</div>"
      ],
      "text/plain": [
       "   userID  itemID  overall                              prod_URL\n",
       "0      44    1072      5.0  https://www.amazon.com/dp/B002BH3I9U"
      ]
     },
     "execution_count": 201,
     "metadata": {},
     "output_type": "execute_result"
    }
   ],
   "source": [
    "# Print the previously rated item record\n",
    "already_rated_test.head(5)"
   ]
  },
  {
   "cell_type": "code",
   "execution_count": 202,
   "metadata": {},
   "outputs": [
    {
     "data": {
      "text/html": [
       "<div>\n",
       "<style>\n",
       "    .dataframe thead tr:only-child th {\n",
       "        text-align: right;\n",
       "    }\n",
       "\n",
       "    .dataframe thead th {\n",
       "        text-align: left;\n",
       "    }\n",
       "\n",
       "    .dataframe tbody tr th {\n",
       "        vertical-align: top;\n",
       "    }\n",
       "</style>\n",
       "<table border=\"1\" class=\"dataframe\">\n",
       "  <thead>\n",
       "    <tr style=\"text-align: right;\">\n",
       "      <th></th>\n",
       "      <th>itemID</th>\n",
       "      <th>prod_URL</th>\n",
       "    </tr>\n",
       "  </thead>\n",
       "  <tbody>\n",
       "    <tr>\n",
       "      <th>399</th>\n",
       "      <td>352</td>\n",
       "      <td>https://www.amazon.com/dp/B001QTW21Y</td>\n",
       "    </tr>\n",
       "    <tr>\n",
       "      <th>545</th>\n",
       "      <td>1285</td>\n",
       "      <td>https://www.amazon.com/dp/B002EVP8Y6</td>\n",
       "    </tr>\n",
       "    <tr>\n",
       "      <th>726</th>\n",
       "      <td>1220</td>\n",
       "      <td>https://www.amazon.com/dp/B002DUXJKI</td>\n",
       "    </tr>\n",
       "    <tr>\n",
       "      <th>735</th>\n",
       "      <td>609</td>\n",
       "      <td>https://www.amazon.com/dp/B001VKTIII</td>\n",
       "    </tr>\n",
       "    <tr>\n",
       "      <th>1481</th>\n",
       "      <td>671</td>\n",
       "      <td>https://www.amazon.com/dp/B0020MGKF0</td>\n",
       "    </tr>\n",
       "  </tbody>\n",
       "</table>\n",
       "</div>"
      ],
      "text/plain": [
       "      itemID                              prod_URL\n",
       "399      352  https://www.amazon.com/dp/B001QTW21Y\n",
       "545     1285  https://www.amazon.com/dp/B002EVP8Y6\n",
       "726     1220  https://www.amazon.com/dp/B002DUXJKI\n",
       "735      609  https://www.amazon.com/dp/B001VKTIII\n",
       "1481     671  https://www.amazon.com/dp/B0020MGKF0"
      ]
     },
     "execution_count": 202,
     "metadata": {},
     "output_type": "execute_result"
    }
   ],
   "source": [
    "# Print the predictions for that user\n",
    "predictions_test"
   ]
  }
 ],
 "metadata": {
  "kernelspec": {
   "display_name": "Python 3",
   "language": "python",
   "name": "python3"
  },
  "language_info": {
   "codemirror_mode": {
    "name": "ipython",
    "version": 3
   },
   "file_extension": ".py",
   "mimetype": "text/x-python",
   "name": "python",
   "nbconvert_exporter": "python",
   "pygments_lexer": "ipython3",
   "version": "3.6.1"
  }
 },
 "nbformat": 4,
 "nbformat_minor": 2
}
